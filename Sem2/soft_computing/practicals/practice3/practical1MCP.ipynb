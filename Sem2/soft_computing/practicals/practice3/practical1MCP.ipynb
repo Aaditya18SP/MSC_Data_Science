{
 "cells": [
  {
   "cell_type": "code",
   "execution_count": 13,
   "id": "84a3f935-e170-427f-96f3-789577493838",
   "metadata": {},
   "outputs": [],
   "source": [
    "import numpy as np"
   ]
  },
  {
   "cell_type": "code",
   "execution_count": 14,
   "id": "60166193-4d02-4918-9822-46abdf078feb",
   "metadata": {},
   "outputs": [],
   "source": [
    "inputVec = np.array([[0,0],[0,1],[1,0], [1,1]])"
   ]
  },
  {
   "cell_type": "code",
   "execution_count": 20,
   "id": "bf1a6c44-730b-4289-8885-75ca015e8703",
   "metadata": {},
   "outputs": [
    {
     "name": "stdout",
     "output_type": "stream",
     "text": [
      "Input [0 0]\n",
      "Output 0\n",
      "\n",
      "Input [0 1]\n",
      "Output 0\n",
      "\n",
      "Input [1 0]\n",
      "Output 0\n",
      "\n",
      "Input [1 1]\n",
      "Output 1\n",
      "\n"
     ]
    }
   ],
   "source": [
    "#and gate\n",
    "weights =np.array([1,1])\n",
    "threshold =2\n",
    "for ipv in inputVec:\n",
    "    print(\"Input\",ipv)\n",
    "    print(\"Output\", 1 if sum(ipv*weights) >=threshold else 0)\n",
    "    print()"
   ]
  },
  {
   "cell_type": "code",
   "execution_count": 21,
   "id": "1105f77f-6381-4c20-b7ea-7070591003de",
   "metadata": {},
   "outputs": [
    {
     "name": "stdout",
     "output_type": "stream",
     "text": [
      "Input [0 0]\n",
      "Output: 0\n",
      "\n",
      "Input [0 1]\n",
      "Output: 1\n",
      "\n",
      "Input [1 0]\n",
      "Output: 1\n",
      "\n",
      "Input [1 1]\n",
      "Output: 1\n",
      "\n"
     ]
    }
   ],
   "source": [
    "# or gate\n",
    "threshold = 1\n",
    "for ipv in inputVec:\n",
    "    print(\"Input\", ipv)\n",
    "    print(\"Output:\", 1 if np.sum(ipv*weights)>=threshold else 0)\n",
    "    print()"
   ]
  },
  {
   "cell_type": "code",
   "execution_count": 22,
   "id": "9ace0fc2-766e-4eda-b15f-e26ad18f59cd",
   "metadata": {},
   "outputs": [
    {
     "name": "stdout",
     "output_type": "stream",
     "text": [
      "Input: 0\n",
      "Output 1\n",
      "\n",
      "Input: 1\n",
      "Output 0\n",
      "\n"
     ]
    }
   ],
   "source": [
    "#not gate\n",
    "inputVec = [0,1]\n",
    "threshold = 0\n",
    "weights=[1]\n",
    "for ipv in inputVec:\n",
    "    print(\"Input:\",ipv)\n",
    "    print(\"Output\", 0 if np.sum(ipv*weights)>threshold else 1)\n",
    "    print()"
   ]
  }
 ],
 "metadata": {
  "kernelspec": {
   "display_name": "Python 3 (ipykernel)",
   "language": "python",
   "name": "python3"
  },
  "language_info": {
   "codemirror_mode": {
    "name": "ipython",
    "version": 3
   },
   "file_extension": ".py",
   "mimetype": "text/x-python",
   "name": "python",
   "nbconvert_exporter": "python",
   "pygments_lexer": "ipython3",
   "version": "3.12.7"
  }
 },
 "nbformat": 4,
 "nbformat_minor": 5
}
