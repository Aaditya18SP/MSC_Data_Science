{
 "cells": [
  {
   "cell_type": "code",
   "execution_count": 9,
   "id": "141ec792-cf8d-4020-8ac5-55bea6cac9e0",
   "metadata": {},
   "outputs": [
    {
     "name": "stdout",
     "output_type": "stream",
     "text": [
      "Input: [0, 0] 0\n",
      "Input: [0, 1] 0\n",
      "Input: [1, 0] 0\n",
      "Input: [1, 1] 1\n"
     ]
    }
   ],
   "source": [
    "#And gate\n",
    "threshold =2\n",
    "inData=[[0,0],[0,1],[1,0],[1,1]]\n",
    "\n",
    "#And gate\n",
    "expectedOutput = [0,0,0,1]\n",
    "#weights=[1,1]\n",
    "\n",
    "for data in inData:\n",
    "    #summation = sum([i*w for i,w in zip(weights, data)])\n",
    "    summation = data[0]+data[1]\n",
    "    if summation>=threshold:\n",
    "        print(\"Input:\", data,1)\n",
    "    else: \n",
    "        print(\"Input:\", data,0)"
   ]
  },
  {
   "cell_type": "code",
   "execution_count": 10,
   "id": "8838ef73-bd09-4720-9979-a35cca13498b",
   "metadata": {},
   "outputs": [
    {
     "name": "stdout",
     "output_type": "stream",
     "text": [
      "Input: [0, 0] 0\n",
      "Input: [0, 1] 1\n",
      "Input: [1, 0] 1\n",
      "Input: [1, 1] 1\n"
     ]
    }
   ],
   "source": [
    "# or gate\n",
    "\n",
    "expectedOutput =[0,1,1,1]\n",
    "threshold =1\n",
    "\n",
    "for data in inData:\n",
    "   #summation = sum([i*w for i,w in zip(weights, data)])\n",
    "    summation = data[0]+data[1]\n",
    "    if(summation>=threshold):\n",
    "        print(\"Input:\", data, 1)\n",
    "    else:\n",
    "        print(\"Input:\",data,0)"
   ]
  },
  {
   "cell_type": "code",
   "execution_count": 11,
   "id": "f89d8ed0-db72-4346-ac22-8a5531d8656d",
   "metadata": {},
   "outputs": [
    {
     "name": "stdout",
     "output_type": "stream",
     "text": [
      "Input 0 1\n",
      "Input 1 0\n"
     ]
    }
   ],
   "source": [
    "\n",
    "# not gate\n",
    "inData=[0,1]\n",
    "threshold =1\n",
    "\n",
    "for data in inData:\n",
    "    if (data >=threshold):\n",
    "        print(\"Input\", data, 0)\n",
    "    else:\n",
    "        print(\"Input\", data, 1)"
   ]
  },
  {
   "cell_type": "code",
   "execution_count": null,
   "id": "f3e1f8b9-5a4c-4703-9b31-bfe805ca32c3",
   "metadata": {},
   "outputs": [],
   "source": []
  }
 ],
 "metadata": {
  "kernelspec": {
   "display_name": "Python 3 (ipykernel)",
   "language": "python",
   "name": "python3"
  },
  "language_info": {
   "codemirror_mode": {
    "name": "ipython",
    "version": 3
   },
   "file_extension": ".py",
   "mimetype": "text/x-python",
   "name": "python",
   "nbconvert_exporter": "python",
   "pygments_lexer": "ipython3",
   "version": "3.12.7"
  }
 },
 "nbformat": 4,
 "nbformat_minor": 5
}
