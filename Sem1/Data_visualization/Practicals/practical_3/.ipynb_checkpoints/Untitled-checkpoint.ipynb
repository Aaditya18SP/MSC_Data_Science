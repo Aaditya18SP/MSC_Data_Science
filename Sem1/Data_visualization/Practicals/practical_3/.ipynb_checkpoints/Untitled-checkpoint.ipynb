{
 "cells": [
  {
   "cell_type": "code",
   "execution_count": 1,
   "id": "7c24d4f7-bbe0-4d40-aa76-d274b658ddd0",
   "metadata": {},
   "outputs": [
    {
     "name": "stdout",
     "output_type": "stream",
     "text": [
      "First 5 rows of the Titanic dataset:\n",
      "   survived  pclass     sex   age  sibsp  parch     fare embarked  class  \\\n",
      "0         0       3    male  22.0      1      0   7.2500        S  Third   \n",
      "1         1       1  female  38.0      1      0  71.2833        C  First   \n",
      "2         1       3  female  26.0      0      0   7.9250        S  Third   \n",
      "3         1       1  female  35.0      1      0  53.1000        S  First   \n",
      "4         0       3    male  35.0      0      0   8.0500        S  Third   \n",
      "\n",
      "     who  adult_male deck  embark_town alive  alone  \n",
      "0    man        True  NaN  Southampton    no  False  \n",
      "1  woman       False    C    Cherbourg   yes  False  \n",
      "2  woman       False  NaN  Southampton   yes   True  \n",
      "3  woman       False    C  Southampton   yes  False  \n",
      "4    man        True  NaN  Southampton    no   True  \n"
     ]
    }
   ],
   "source": [
    "import pandas as pd\n",
    "import numpy as np\n",
    "import seaborn as sns\n",
    "import matplotlib.pyplot as plt\n",
    "from sklearn.preprocessing import StandardScaler, LabelEncoder\n",
    "\n",
    "#Step 1: Load the Titanic Dataset\n",
    "titanic = sns.load_dataset('titanic')\n",
    "\n",
    "#Step 2: Inspect the Dataset\n",
    "print(\"First 5 rows of the Titanic dataset:\")\n",
    "print(titanic.head())\n"
   ]
  },
  {
   "cell_type": "code",
   "execution_count": 3,
   "id": "118dabd3-4f4a-4f4f-a154-5e0ee214a107",
   "metadata": {},
   "outputs": [
    {
     "data": {
      "image/png": "[encoded data removed]",
      "text/plain": [
       "<Figure size 800x400 with 1 Axes>"
      ]
     },
     "metadata": {},
     "output_type": "display_data"
    }
   ],
   "source": [
    "#Step 1: Handle Categorical Variables\n",
    "#Convert 'sex' and 'embarked' into numerical labels using LabelEncoder\n",
    "label_encoder = LabelEncoder()\n",
    "titanic['sex'] = label_encoder.fit_transform(titanic['sex'])\n",
    "titanic['embarked'] = label_encoder.fit_transform(titanic['embarked'])\n",
    "\n",
    "#Convert 'who' into binary (man: 1, woman: 0)\n",
    "titanic['who'] = titanic['who'].apply(lambda x: 1 if x == 'man' else 0)\n",
    "\n",
    " #Step 2 : Feature Engineering\n",
    " #Create a new feature: 'family_size' = 'sibsp' + 'parch' + 1\n",
    "titanic['family_size'] = titanic['sibsp'] + titanic['parch'] + 1\n",
    "\n",
    "#Step 3 : Remove Duplicates\n",
    "titanic_cleaned = titanic.drop_duplicates()\n",
    "\n",
    "#Step 4 : Handle Outliers\n",
    "#Inspecting outliers in the 'fare' column\n",
    "plt.figure(figsize=(8,4))\n",
    "plt.boxplot(titanic_cleaned['fare'])\n",
    "plt.title(\"Box plot for Fare (outliers detection)\")\n",
    "plt.show()\n",
    "\n"
   ]
  },
  {
   "cell_type": "code",
   "execution_count": 6,
   "id": "ce59a60d-47c8-4f09-a363-f7f924c7ccd6",
   "metadata": {},
   "outputs": [
    {
     "name": "stdout",
     "output_type": "stream",
     "text": [
      "\n",
      "Fare column statistics after handling outliers:\n",
      "count    7.840000e+02\n",
      "mean     2.265761e-18\n",
      "std      1.000638e+00\n",
      "min     -7.472353e-01\n",
      "25%     -5.690169e-01\n",
      "50%     -3.952263e-01\n",
      "75%      7.909278e-03\n",
      "max      5.061467e+00\n",
      "Name: fare, dtype: float64\n"
     ]
    },
    {
     "name": "stderr",
     "output_type": "stream",
     "text": [
      "/tmp/ipykernel_30085/2591555191.py:3: SettingWithCopyWarning: \n",
      "A value is trying to be set on a copy of a slice from a DataFrame.\n",
      "Try using .loc[row_indexer,col_indexer] = value instead\n",
      "\n",
      "See the caveats in the documentation: https://pandas.pydata.org/pandas-docs/stable/user_guide/indexing.html#returning-a-view-versus-a-copy\n",
      "  titanic_cleaned['fare'] = np.where(titanic_cleaned['fare'] > fare_cap, fare_cap, titanic_cleaned['fare'])\n"
     ]
    }
   ],
   "source": [
    "#Cap outliers in 'fare' to the 99th percentile\n",
    "fare_cap = titanic_cleaned['fare'].quantile(0.99)\n",
    "titanic_cleaned['fare'] = np.where(titanic_cleaned['fare'] > fare_cap, fare_cap, titanic_cleaned['fare'])\n",
    "print(\"\\nFare column statistics after handling outliers:\")\n",
    "print(titanic_cleaned['fare'].describe())\n"
   ]
  },
  {
   "cell_type": "code",
   "execution_count": 7,
   "id": "e42105b7-f075-476c-9cb9-091fdf04a0be",
   "metadata": {},
   "outputs": [
    {
     "name": "stdout",
     "output_type": "stream",
     "text": [
      "\n",
      "First 5 rows of the cleaned and wrangled data:\n",
      "   survived  pclass  sex       age  sibsp  parch      fare  embarked  class  \\\n",
      "0         0       3    1 -0.533581      1      0 -0.586728         2  Third   \n",
      "1         1       1    0  0.551298      1      0  0.830901         0  First   \n",
      "2         1       3    0 -0.262361      0      0 -0.571784         2  Third   \n",
      "3         1       1    0  0.347883      1      0  0.428342         2  First   \n",
      "4         0       3    1  0.347883      0      0 -0.569017         2  Third   \n",
      "\n",
      "   who  adult_male deck  embark_town alive  alone  family_size  \n",
      "0    0        True  NaN  Southampton    no  False            2  \n",
      "1    0       False    C    Cherbourg   yes  False            2  \n",
      "2    0       False  NaN  Southampton   yes   True            1  \n",
      "3    0       False    C  Southampton   yes  False            2  \n",
      "4    0        True  NaN  Southampton    no   True            1  \n"
     ]
    }
   ],
   "source": [
    "print(\"\\nFirst 5 rows of the cleaned and wrangled data:\")\n",
    "print(titanic_cleaned.head())\n"
   ]
  },
  {
   "cell_type": "code",
   "execution_count": 8,
   "id": "1236e569-9dc4-4250-8e7f-cd0435ded402",
   "metadata": {},
   "outputs": [
    {
     "name": "stderr",
     "output_type": "stream",
     "text": [
      "/tmp/ipykernel_30085/2122552594.py:4: SettingWithCopyWarning: \n",
      "A value is trying to be set on a copy of a slice from a DataFrame.\n",
      "Try using .loc[row_indexer,col_indexer] = value instead\n",
      "\n",
      "See the caveats in the documentation: https://pandas.pydata.org/pandas-docs/stable/user_guide/indexing.html#returning-a-view-versus-a-copy\n",
      "  titanic_cleaned[['age', 'fare']] = scaler.fit_transform(titanic_cleaned[['age', 'fare']])\n"
     ]
    }
   ],
   "source": [
    "#Step 5: Normalize Numerical Data\n",
    "#Normalize 'age' and 'fare' using StandardScaler\n",
    "scaler = StandardScaler()\n",
    "titanic_cleaned[['age', 'fare']] = scaler.fit_transform(titanic_cleaned[['age', 'fare']])"
   ]
  },
  {
   "cell_type": "code",
   "execution_count": 9,
   "id": "42d7c3a4-7d43-49f4-b27a-80e3e942e201",
   "metadata": {},
   "outputs": [
    {
     "name": "stdout",
     "output_type": "stream",
     "text": [
      "\n",
      "Cleaned dataset saved to 'titanic_cleaned.csv'\n"
     ]
    }
   ],
   "source": [
    "#Step 6: Save the cleaned data to a CSV file\n",
    "titanic_cleaned.to_csv('titanic_cleaned.csv', index=False)\n",
    "print(\"\\nCleaned dataset saved to 'titanic_cleaned.csv'\")"
   ]
  },
  {
   "cell_type": "code",
   "execution_count": 13,
   "id": "6906d948-c9ad-4c97-b301-f8e46d6be6e6",
   "metadata": {},
   "outputs": [
    {
     "ename": "SyntaxError",
     "evalue": "'(' was never closed (2546041981.py, line 20)",
     "output_type": "error",
     "traceback": [
      "\u001b[0;36m  Cell \u001b[0;32mIn[13], line 20\u001b[0;36m\u001b[0m\n\u001b[0;31m    df[\"Price\"]=df[\"Price\"].fillna(df[\"Price\"].median()\u001b[0m\n\u001b[0m                                  ^\u001b[0m\n\u001b[0;31mSyntaxError\u001b[0m\u001b[0;31m:\u001b[0m '(' was never closed\n"
     ]
    }
   ],
   "source": [
    "import pandas as pd\n",
    "#Step 1: Create a Toy Dataset\n",
    "data = {\n",
    "    \"Product\": [\"Laptop\", \"Tablet\", \"Smartphone\", \"Monitor\", None],\n",
    "    \"Price\": [1200, None, 800, 300, 150],\n",
    "    \"Category\": [\"Electronics\", \"Electronics\", None, \"Accessories\", \"Accessories\"],\n",
    "    \"Description\": [\"High-end laptop\", \"Compact and versatile\", \"Feature-packed smartphone\", None, \"Affordable monitor\"]\n",
    "}\n",
    "\n",
    "#Create a DataFrame\n",
    "df = pd.DataFrame(data)\n",
    "print(\"Original Dataset:\")\n",
    "print(df)\n",
    "\n",
    "#Step 2: Handling Missing Data\n",
    "#Fill missing Product names with \"Unknown\"\n",
    "df[\"Product\"]=df[\"Product\"].fillna(\"Unknown\")\n",
    "\n",
    "#Fill missing Prices with the median price\n",
    "df[\"Price\"]=df[\"Price\"].fillna(df[\"Price\"].median())\n",
    "\n",
    "#Fill missing Categories with \"Miscellaneous\"\n",
    "df[\"Category\"]=df[\"Category\"].fillna(\"Miscellaneous\")\n",
    "\n",
    "#Fill missing Descriptions with a default value\n",
    "df[\"Description\"]=df[\"Description\"].fillna(\"No description available\")\n",
    "print(\"\\nDataset After Handling Missing Data:\")\n",
    "print(df)\n",
    "\n",
    "#Step 3: String Manipulation\n",
    "#Add a new column \"Short Description\" with the first 10 characters of the Description\n",
    "df[\"Short Description\"] = df[\"Description\"].str[:10]\n",
    "\n",
    "\n",
    "#Convert the Category column to uppercase\n",
    "df[\"Category\"] = df[\"Category\"].str.upper()\n",
    "\n",
    "#Replace spaces with hyphens in the Product column\n",
    "df[\"Product\"] = df[\"Product\"].str.replace(\" \", \"-\", regex=False)\n",
    "print(\"\\nDataset After String Manipulation:\")\n",
    "print(df)\n",
    "\n",
    "\n",
    "#Step 4: Save the Cleaned and Transformed Dataset\n",
    "cleaned_file_path = \"cleaned_data.csv\"\n",
    "df.to_csv(cleaned_file_path, index=False)\n",
    "print(f\"\\nCleaned data saved as CSV at: {cleaned_file_path}\")"
   ]
  },
  {
   "cell_type": "code",
   "execution_count": null,
   "id": "70ebaca9-ba64-4129-be25-d1ec0fde8a22",
   "metadata": {},
   "outputs": [],
   "source": []
  }
 ],
 "metadata": {
  "kernelspec": {
   "display_name": "Python 3 (ipykernel)",
   "language": "python",
   "name": "python3"
  },
  "language_info": {
   "codemirror_mode": {
    "name": "ipython",
    "version": 3
   },
   "file_extension": ".py",
   "mimetype": "text/x-python",
   "name": "python",
   "nbconvert_exporter": "python",
   "pygments_lexer": "ipython3",
   "version": "3.12.7"
  }
 },
 "nbformat": 4,
 "nbformat_minor": 5
}
