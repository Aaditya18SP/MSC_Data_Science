{
 "cells": [
  {
   "cell_type": "code",
   "execution_count": 14,
   "id": "06a3541f-6e34-49ee-acec-8803cb17bb56",
   "metadata": {},
   "outputs": [
    {
     "name": "stdout",
     "output_type": "stream",
     "text": [
      "[1. 1. 1.]\n",
      "[-1. -1. -1.]\n"
     ]
    }
   ],
   "source": [
    "import numpy as np\n",
    "\n",
    "inputVecs = np.array([[1,1,1], [-1,-1,-1]])\n",
    "outputVecs =np.array([[-1,-1,-1], [1,1,1]])\n",
    "\n",
    "\n",
    "weights =np.zeros(shape=(3,3))\n",
    "for i in range(2):\n",
    "    weights+=np.outer(inputVecs[i], outputVecs[i])\n",
    "\n",
    "for ipv in inputVecs:\n",
    "    yPred = np.sign(np.dot(ipv,weights))\n",
    "    xPred = np.sign(np.dot(yPred,weights.T))\n",
    "    print(xPred)\n",
    "    \n"
   ]
  },
  {
   "cell_type": "code",
   "execution_count": null,
   "id": "b98fc18b-3868-4d6a-9eae-992253424a53",
   "metadata": {},
   "outputs": [],
   "source": []
  }
 ],
 "metadata": {
  "kernelspec": {
   "display_name": "Python 3 (ipykernel)",
   "language": "python",
   "name": "python3"
  },
  "language_info": {
   "codemirror_mode": {
    "name": "ipython",
    "version": 3
   },
   "file_extension": ".py",
   "mimetype": "text/x-python",
   "name": "python",
   "nbconvert_exporter": "python",
   "pygments_lexer": "ipython3",
   "version": "3.12.7"
  }
 },
 "nbformat": 4,
 "nbformat_minor": 5
}
