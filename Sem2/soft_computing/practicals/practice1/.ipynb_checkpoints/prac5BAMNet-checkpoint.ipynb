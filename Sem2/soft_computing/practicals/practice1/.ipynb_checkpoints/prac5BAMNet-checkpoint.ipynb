{
 "cells": [
  {
   "cell_type": "code",
   "execution_count": 4,
   "id": "c2856e75-8a0c-42cc-bc09-22a31ea02786",
   "metadata": {},
   "outputs": [],
   "source": [
    "import numpy as np"
   ]
  },
  {
   "cell_type": "code",
   "execution_count": 8,
   "id": "51482e32-332d-4a99-830b-3920e5bec95b",
   "metadata": {},
   "outputs": [
    {
     "name": "stdout",
     "output_type": "stream",
     "text": [
      "(3, 2)\n",
      "(3, 2)\n",
      "[[-1.  1.]\n",
      " [-3. -1.]]\n"
     ]
    }
   ],
   "source": [
    "#training\n",
    "x =np.array([[1,-1], [1,1],[-1,-1]])\n",
    "y =np.array([[1,1], [-1,-1],[1,-1]])\n",
    "\n",
    "print(x.shape)\n",
    "print(y.shape)\n",
    "# cal the weight matrix\n",
    "weights =np.zeros((x.shape[1], y.shape[1]))\n",
    "\n",
    "for i, j in zip(x,y):\n",
    "    weights+=np.outer(i,j)\n",
    "\n",
    "print(weights)"
   ]
  },
  {
   "cell_type": "code",
   "execution_count": 13,
   "id": "f0cc950d-262f-400b-9b96-3ff75117251e",
   "metadata": {},
   "outputs": [
    {
     "name": "stdout",
     "output_type": "stream",
     "text": [
      "input: [ 1 -1]\n",
      "Y pred [1. 1.]\n",
      "Recalled memory [ 0. -1.]\n",
      "\n",
      "input: [1 1]\n",
      "Y pred [-1.  0.]\n",
      "Recalled memory [1. 1.]\n",
      "\n",
      "input: [-1 -1]\n",
      "Y pred [1. 0.]\n",
      "Recalled memory [-1. -1.]\n",
      "\n"
     ]
    }
   ],
   "source": [
    "# test for inputs\n",
    "\n",
    "for vec in x:\n",
    "    print(\"input:\", vec)\n",
    "    ypred = np.sign(np.dot(vec, weights))\n",
    "    xPred = np.sign(np.dot(ypred, weights.T))\n",
    "    print(\"Y pred\", ypred)\n",
    "    print(\"Recalled memory\", xPred)\n",
    "    print()"
   ]
  },
  {
   "cell_type": "code",
   "execution_count": null,
   "id": "31047912-eab1-4ee1-94ea-91169ebe48a5",
   "metadata": {},
   "outputs": [],
   "source": []
  }
 ],
 "metadata": {
  "kernelspec": {
   "display_name": "Python 3 (ipykernel)",
   "language": "python",
   "name": "python3"
  },
  "language_info": {
   "codemirror_mode": {
    "name": "ipython",
    "version": 3
   },
   "file_extension": ".py",
   "mimetype": "text/x-python",
   "name": "python",
   "nbconvert_exporter": "python",
   "pygments_lexer": "ipython3",
   "version": "3.12.7"
  }
 },
 "nbformat": 4,
 "nbformat_minor": 5
}
