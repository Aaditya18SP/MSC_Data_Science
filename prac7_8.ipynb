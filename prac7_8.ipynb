{
  "nbformat": 4,
  "nbformat_minor": 0,
  "metadata": {
    "colab": {
      "provenance": [],
      "authorship_tag": "ABX9TyPYFjn53zw14monb5i8bVIF",
      "include_colab_link": true
    },
    "kernelspec": {
      "name": "python3",
      "display_name": "Python 3"
    },
    "language_info": {
      "name": "python"
    }
  },
  "cells": [
    {
      "cell_type": "markdown",
      "metadata": {
        "id": "view-in-github",
        "colab_type": "text"
      },
      "source": [
        "<a href=\"https://colab.research.google.com/github/Aaditya18SP/MSC_Data_Science/blob/windows/prac7_8.ipynb\" target=\"_parent\"><img src=\"https://colab.research.google.com/assets/colab-badge.svg\" alt=\"Open In Colab\"/></a>"
      ]
    },
    {
      "cell_type": "code",
      "execution_count": 6,
      "metadata": {
        "id": "4VKAZXyIA7UE"
      },
      "outputs": [],
      "source": [
        "from pyspark.sql import SparkSession, Row\n",
        "\n",
        "spark = SparkSession.builder.master(\"local[2]\").appName(\"prac7_8\").getOrCreate()\n"
      ]
    },
    {
      "cell_type": "code",
      "source": [
        "movies_data = spark.read.csv(\"/content/sample_data/u.item\",sep=\"|\")\n",
        "movies_data = movies_data.select(\"_c0\",\"_c1\")\n",
        "movies_data = movies_data.toDF(\"id\",\"name\")\n",
        "\n",
        "movies_dict = {}\n",
        "for rec in movies_data.collect():\n",
        "  dic = rec.asDict()\n",
        "  movies_dict[int(dic[\"id\"])]= dic[\"name\"]\n",
        "\n",
        "broadcast_var = spark.sparkContext.broadcast(movies_dict)\n",
        "\n"
      ],
      "metadata": {
        "id": "mvhof0wwBrT6"
      },
      "execution_count": 7,
      "outputs": []
    },
    {
      "cell_type": "code",
      "source": [
        "ratings_data = spark.read.csv(\"/content/sample_data/u.data\", sep=\"\\t\")\n",
        "\n",
        "ratings_data = ratings_data.toDF(\"user\",\"item\",\"rating\",\"timestamp\")\n",
        "\n",
        "def newRowMaker(row):\n",
        "  dic = row.asDict()\n",
        "  return Row(user = int(dic[\"user\"]), item = int(dic[\"item\"]), movie = broadcast_var.value[int(dic[\"item\"])], rating = float(dic[\"rating\"]), timestamp = dic[\"timestamp\"])\n",
        "\n",
        "new_rows = ratings_data.rdd.map(newRowMaker)\n",
        "new_ratings_data = spark.createDataFrame(new_rows)\n",
        "new_ratings_data.show()"
      ],
      "metadata": {
        "colab": {
          "base_uri": "https://localhost:8080/"
        },
        "id": "ukg8qg1ECvpi",
        "outputId": "5afc2bd1-a1ae-441e-848c-5ee24eb05cef"
      },
      "execution_count": 8,
      "outputs": [
        {
          "output_type": "stream",
          "name": "stdout",
          "text": [
            "+----+----+--------------------+------+---------+\n",
            "|user|item|               movie|rating|timestamp|\n",
            "+----+----+--------------------+------+---------+\n",
            "| 196| 242|        Kolya (1996)|   3.0|881250949|\n",
            "| 186| 302|L.A. Confidential...|   3.0|891717742|\n",
            "|  22| 377| Heavyweights (1994)|   1.0|878887116|\n",
            "| 244|  51|Legends of the Fa...|   2.0|880606923|\n",
            "| 166| 346| Jackie Brown (1997)|   1.0|886397596|\n",
            "| 298| 474|Dr. Strangelove o...|   4.0|884182806|\n",
            "| 115| 265|Hunt for Red Octo...|   2.0|881171488|\n",
            "| 253| 465|Jungle Book, The ...|   5.0|891628467|\n",
            "| 305| 451|       Grease (1978)|   3.0|886324817|\n",
            "|   6|  86|Remains of the Da...|   3.0|883603013|\n",
            "|  62| 257| Men in Black (1997)|   2.0|879372434|\n",
            "| 286|1014|Romy and Michele'...|   5.0|879781125|\n",
            "| 200| 222|Star Trek: First ...|   5.0|876042340|\n",
            "| 210|  40|To Wong Foo, Than...|   3.0|891035994|\n",
            "| 224|  29|Batman Forever (1...|   3.0|888104457|\n",
            "| 303| 785|     Only You (1994)|   3.0|879485318|\n",
            "| 122| 387|Age of Innocence,...|   5.0|879270459|\n",
            "| 194| 274|      Sabrina (1995)|   2.0|879539794|\n",
            "| 291|1042|   Just Cause (1995)|   4.0|874834944|\n",
            "| 234|1184|Endless Summer 2,...|   2.0|892079237|\n",
            "+----+----+--------------------+------+---------+\n",
            "only showing top 20 rows\n",
            "\n"
          ]
        }
      ]
    },
    {
      "cell_type": "code",
      "source": [
        "# prac 8 recommendations\n",
        "filtered_movies_data = movies_data.withColumn(\"id\", movies_data.id.cast(\"int\"))\n",
        "\n",
        "from pyspark.ml.recommendation import ALS\n",
        "\n",
        "ratings_data = ratings_data.withColumns({\"user\":ratings_data.user.cast(\"int\"), \"item\": ratings_data.item.cast(\"int\"), \"rating\": ratings_data.rating.cast(\"float\")})\n",
        "\n",
        "model = ALS(userCol=\"user\", itemCol=\"item\", ratingCol=\"rating\").fit(ratings_data)\n",
        "\n",
        "user_df = spark.createDataFrame([{\"user\":3}])\n",
        "pred = model.recommendForUserSubset(user_df, 10)\n",
        "\n",
        "pred_dict = pred.collect()[0].asDict()\n",
        "recommendations = pred_dict[\"recommendations\"]\n",
        "\n",
        "rec_df = spark.createDataFrame(recommendations)\n",
        "\n",
        "rec_df.join(filtered_movies_data, rec_df.item == filtered_movies_data.id).select(\"id\",\"name\",\"rating\").show()\n"
      ],
      "metadata": {
        "colab": {
          "base_uri": "https://localhost:8080/"
        },
        "id": "P2oNscyNEeJp",
        "outputId": "d651174f-fb38-47ee-fcce-88dc19af9076"
      },
      "execution_count": 10,
      "outputs": [
        {
          "output_type": "stream",
          "name": "stdout",
          "text": [
            "+----+--------------------+------------------+\n",
            "|  id|                name|            rating|\n",
            "+----+--------------------+------------------+\n",
            "|1643|   Angel Baby (1995)| 4.519691467285156|\n",
            "| 320|Paradise Lost: Th...| 4.452881813049316|\n",
            "|1368|Mina Tannenbaum (...|  4.34311580657959|\n",
            "|1463|    Boys, Les (1997)| 4.200453758239746|\n",
            "| 205|       Patton (1970)|  4.12100076675415|\n",
            "|1500|Santa with Muscle...| 4.028735160827637|\n",
            "| 127|Godfather, The (1...|4.0062360763549805|\n",
            "|  50|    Star Wars (1977)| 3.964315176010132|\n",
            "| 183|        Alien (1979)|3.9204788208007812|\n",
            "| 195|Terminator, The (...| 3.896592617034912|\n",
            "+----+--------------------+------------------+\n",
            "\n"
          ]
        }
      ]
    }
  ]
}