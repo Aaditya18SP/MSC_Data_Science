{
 "cells": [
  {
   "cell_type": "markdown",
   "id": "222d940c-00ce-4dd3-b98c-13c6c60fcb85",
   "metadata": {},
   "source": [
    "# Theory\n",
    "- 3 of 4 activations should be 0 and only one should be non-zero, to indicate the winning neuron\n",
    "- the activations are the input to the NN\n",
    "- "
   ]
  },
  {
   "cell_type": "code",
   "execution_count": 1,
   "id": "3f9467af-6572-46db-9074-d4bc707f8444",
   "metadata": {},
   "outputs": [],
   "source": [
    "import numpy as np\n"
   ]
  },
  {
   "cell_type": "code",
   "execution_count": 4,
   "id": "17fca813-0dfc-4e53-9674-64dd55888f2b",
   "metadata": {},
   "outputs": [
    {
     "name": "stdout",
     "output_type": "stream",
     "text": [
      "Iteration: 1\n",
      "Activations: [0.    0.    0.54  0.684]\n",
      "\n",
      "Iteration: 2\n",
      "Activations: [0.      0.      0.2664  0.57744]\n",
      "\n",
      "Iteration: 3\n",
      "Activations: [0.        0.        0.035424  0.5632704]\n",
      "\n",
      "Iteration: 4\n",
      "Activations: [0.        0.        0.        0.5632704]\n",
      "\n"
     ]
    }
   ],
   "source": [
    "activations = np.array([0.3,0.6,0.9,0.9])\n",
    "\n",
    "def nonZeroCount(arr):\n",
    "    cnt=0\n",
    "    for i in arr:\n",
    "        if i >0:\n",
    "            cnt+=1\n",
    "    return cnt\n",
    "\n",
    "eplison = 0.4\n",
    "iteration=1\n",
    "\n",
    "while(nonZeroCount(activations)>1):\n",
    "    for i in range(len(activations)):\n",
    "        act = activations[i]\n",
    "        addition=0\n",
    "        for j in range(len(activations)):\n",
    "            if i!=j:\n",
    "                addition+=activations[j]\n",
    "        act -= (eplison*addition)\n",
    "        if(act<0):\n",
    "            act =0\n",
    "        activations[i] = act\n",
    "        \n",
    "    print(\"Iteration:\",iteration)\n",
    "    print(\"Activations:\", activations)\n",
    "    print()\n",
    "    iteration+=1\n",
    "\n",
    "                \n",
    "\n"
   ]
  },
  {
   "cell_type": "code",
   "execution_count": null,
   "id": "823440bf-483b-49e7-9014-46be335ff4f4",
   "metadata": {},
   "outputs": [],
   "source": []
  }
 ],
 "metadata": {
  "kernelspec": {
   "display_name": "Python 3 (ipykernel)",
   "language": "python",
   "name": "python3"
  },
  "language_info": {
   "codemirror_mode": {
    "name": "ipython",
    "version": 3
   },
   "file_extension": ".py",
   "mimetype": "text/x-python",
   "name": "python",
   "nbconvert_exporter": "python",
   "pygments_lexer": "ipython3",
   "version": "3.12.7"
  }
 },
 "nbformat": 4,
 "nbformat_minor": 5
}
