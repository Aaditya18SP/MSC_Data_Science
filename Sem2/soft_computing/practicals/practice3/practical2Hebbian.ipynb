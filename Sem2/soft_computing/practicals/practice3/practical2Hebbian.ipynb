{
 "cells": [
  {
   "cell_type": "code",
   "execution_count": 24,
   "id": "43d6dce8-f9c1-43df-b8f3-b666c573fbf6",
   "metadata": {},
   "outputs": [],
   "source": [
    "# Hebbian\n",
    "import numpy as np"
   ]
  },
  {
   "cell_type": "code",
   "execution_count": 25,
   "id": "7887ff2a-1322-42af-b6df-b46a14fbe137",
   "metadata": {},
   "outputs": [],
   "source": [
    "inputVec = np.array([[-1,-1], [-1,1], [1,-1], [1,1]])"
   ]
  },
  {
   "cell_type": "code",
   "execution_count": 26,
   "id": "953e646d-911c-49da-a541-20e32abe1f89",
   "metadata": {},
   "outputs": [
    {
     "name": "stdout",
     "output_type": "stream",
     "text": [
      "Final weights [2 2]\n",
      "final bias -2\n",
      "Input: [-1 -1]\n",
      "Output -1\n",
      "\n",
      "Input: [-1  1]\n",
      "Output -1\n",
      "\n",
      "Input: [ 1 -1]\n",
      "Output -1\n",
      "\n",
      "Input: [1 1]\n",
      "Output 1\n",
      "\n"
     ]
    }
   ],
   "source": [
    "#and gate\n",
    "weights = np.array([0,0])\n",
    "bias =0\n",
    "targets =[-1,-1,-1,1]\n",
    "for idx, ipv in enumerate(inputVec):\n",
    "    weights += ipv*targets[idx]\n",
    "    bias +=targets[idx]\n",
    "\n",
    "print(\"Final weights\", weights)\n",
    "print(\"final bias\", bias)\n",
    "\n",
    "for ipv in inputVec:\n",
    "    print(\"Input:\", ipv)\n",
    "    print(\"Output\", -1 if sum(ipv*weights, bias) <0 else 1)\n",
    "    print()"
   ]
  },
  {
   "cell_type": "code",
   "execution_count": 27,
   "id": "e287a0a1-bb5a-4f9e-b84b-c3d308ff888e",
   "metadata": {},
   "outputs": [
    {
     "name": "stdout",
     "output_type": "stream",
     "text": [
      "Final weights [2 2]\n",
      "final bias 2\n",
      "\n",
      "Input [-1 -1]\n",
      "Output 0\n",
      "\n",
      "Input [-1  1]\n",
      "Output 1\n",
      "\n",
      "Input [ 1 -1]\n",
      "Output 1\n",
      "\n",
      "Input [1 1]\n",
      "Output 1\n",
      "\n"
     ]
    }
   ],
   "source": [
    "#or gate\n",
    "weights = np.array([0,0])\n",
    "bias = 0\n",
    "targets=[-1,1,1,1]\n",
    "for idx, ipv in enumerate(inputVec):\n",
    "    weights+=ipv*targets[idx]\n",
    "    #print(ipv, targets[idx], weights)\n",
    "    bias +=targets[idx]\n",
    "\n",
    "print(\"Final weights\", weights)\n",
    "print(\"final bias\", bias)\n",
    "print()\n",
    "for ipv in inputVec:\n",
    "    print(\"Input\", ipv)\n",
    "    print(\"Output\", 0 if sum(ipv*weights,bias) <0 else 1)\n",
    "    print()"
   ]
  },
  {
   "cell_type": "code",
   "execution_count": 28,
   "id": "b16b4f3d-02a3-4e34-973b-fbc06326cc3d",
   "metadata": {},
   "outputs": [
    {
     "name": "stdout",
     "output_type": "stream",
     "text": [
      "Final weights [-2]\n",
      "final bias 0\n",
      "\n",
      "Input [-1]\n",
      "Output 1\n",
      "Input [1]\n",
      "Output -1\n"
     ]
    }
   ],
   "source": [
    "#not gate\n",
    "inputVec = np.array([[-1], [1]])\n",
    "targets = [1,-1]\n",
    "weights =np.array([0])\n",
    "bias =0\n",
    "\n",
    "for idx, ipv in enumerate(inputVec):\n",
    "    weights += ipv*targets[idx]\n",
    "    bias +=targets[idx]\n",
    "\n",
    "print(\"Final weights\", weights)\n",
    "print(\"final bias\", bias)\n",
    "print()\n",
    "\n",
    "for ipv in inputVec:\n",
    "    print(\"Input\", ipv)\n",
    "    print(\"Output\", -1 if sum(ipv* weights,bias) < 1 else 1)"
   ]
  }
 ],
 "metadata": {
  "kernelspec": {
   "display_name": "Python 3 (ipykernel)",
   "language": "python",
   "name": "python3"
  },
  "language_info": {
   "codemirror_mode": {
    "name": "ipython",
    "version": 3
   },
   "file_extension": ".py",
   "mimetype": "text/x-python",
   "name": "python",
   "nbconvert_exporter": "python",
   "pygments_lexer": "ipython3",
   "version": "3.12.7"
  }
 },
 "nbformat": 4,
 "nbformat_minor": 5
}
