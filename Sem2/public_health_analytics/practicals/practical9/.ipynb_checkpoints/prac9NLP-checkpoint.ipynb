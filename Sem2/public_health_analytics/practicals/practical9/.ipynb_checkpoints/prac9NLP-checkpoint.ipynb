{
 "cells": [
  {
   "cell_type": "code",
   "execution_count": 34,
   "id": "e75e6143-6f98-47b7-b2bd-fe4019662222",
   "metadata": {},
   "outputs": [],
   "source": [
    "import numpy as np\n",
    "import pandas as pd\n",
    "import nltk\n",
    "from nltk.stem import PorterStemmer\n",
    "from nltk.tokenize import word_tokenize,RegexpTokenizer\n",
    "from nltk.corpus import stopwords\n",
    "from nltk.stem.wordnet import WordNetLemmatizer\n",
    "from wordcloud import WordCloud"
   ]
  },
  {
   "cell_type": "code",
   "execution_count": 35,
   "id": "4762965b-8f0f-4916-8ca8-9b4fbbd45ae0",
   "metadata": {},
   "outputs": [
    {
     "data": {
      "text/html": [
       "<div>\n",
       "<style scoped>\n",
       "    .dataframe tbody tr th:only-of-type {\n",
       "        vertical-align: middle;\n",
       "    }\n",
       "\n",
       "    .dataframe tbody tr th {\n",
       "        vertical-align: top;\n",
       "    }\n",
       "\n",
       "    .dataframe thead th {\n",
       "        text-align: right;\n",
       "    }\n",
       "</style>\n",
       "<table border=\"1\" class=\"dataframe\">\n",
       "  <thead>\n",
       "    <tr style=\"text-align: right;\">\n",
       "      <th></th>\n",
       "      <th>Unnamed: 0</th>\n",
       "      <th>statement</th>\n",
       "      <th>status</th>\n",
       "    </tr>\n",
       "  </thead>\n",
       "  <tbody>\n",
       "    <tr>\n",
       "      <th>0</th>\n",
       "      <td>0</td>\n",
       "      <td>oh my gosh</td>\n",
       "      <td>Anxiety</td>\n",
       "    </tr>\n",
       "    <tr>\n",
       "      <th>1</th>\n",
       "      <td>1</td>\n",
       "      <td>trouble sleeping, confused mind, restless hear...</td>\n",
       "      <td>Anxiety</td>\n",
       "    </tr>\n",
       "    <tr>\n",
       "      <th>2</th>\n",
       "      <td>2</td>\n",
       "      <td>All wrong, back off dear, forward doubt. Stay ...</td>\n",
       "      <td>Anxiety</td>\n",
       "    </tr>\n",
       "    <tr>\n",
       "      <th>3</th>\n",
       "      <td>3</td>\n",
       "      <td>I've shifted my focus to something else but I'...</td>\n",
       "      <td>Anxiety</td>\n",
       "    </tr>\n",
       "    <tr>\n",
       "      <th>4</th>\n",
       "      <td>4</td>\n",
       "      <td>I'm restless and restless, it's been a month n...</td>\n",
       "      <td>Anxiety</td>\n",
       "    </tr>\n",
       "  </tbody>\n",
       "</table>\n",
       "</div>"
      ],
      "text/plain": [
       "   Unnamed: 0                                          statement   status\n",
       "0           0                                         oh my gosh  Anxiety\n",
       "1           1  trouble sleeping, confused mind, restless hear...  Anxiety\n",
       "2           2  All wrong, back off dear, forward doubt. Stay ...  Anxiety\n",
       "3           3  I've shifted my focus to something else but I'...  Anxiety\n",
       "4           4  I'm restless and restless, it's been a month n...  Anxiety"
      ]
     },
     "execution_count": 35,
     "metadata": {},
     "output_type": "execute_result"
    }
   ],
   "source": [
    "data = pd.read_csv(\"./data.csv\")\n",
    "data.head()"
   ]
  },
  {
   "cell_type": "code",
   "execution_count": 36,
   "id": "deec0c21-3c91-4e81-9ad9-84de7c71bbee",
   "metadata": {},
   "outputs": [
    {
     "data": {
      "text/plain": [
       "Index(['Unnamed: 0', 'statement', 'status'], dtype='object')"
      ]
     },
     "execution_count": 36,
     "metadata": {},
     "output_type": "execute_result"
    }
   ],
   "source": [
    "data.columns"
   ]
  },
  {
   "cell_type": "code",
   "execution_count": 37,
   "id": "25d89557-5103-4152-b2eb-19160819e6a9",
   "metadata": {},
   "outputs": [
    {
     "data": {
      "text/html": [
       "<div>\n",
       "<style scoped>\n",
       "    .dataframe tbody tr th:only-of-type {\n",
       "        vertical-align: middle;\n",
       "    }\n",
       "\n",
       "    .dataframe tbody tr th {\n",
       "        vertical-align: top;\n",
       "    }\n",
       "\n",
       "    .dataframe thead th {\n",
       "        text-align: right;\n",
       "    }\n",
       "</style>\n",
       "<table border=\"1\" class=\"dataframe\">\n",
       "  <thead>\n",
       "    <tr style=\"text-align: right;\">\n",
       "      <th></th>\n",
       "      <th>statement</th>\n",
       "      <th>status</th>\n",
       "    </tr>\n",
       "  </thead>\n",
       "  <tbody>\n",
       "    <tr>\n",
       "      <th>0</th>\n",
       "      <td>oh my gosh</td>\n",
       "      <td>Anxiety</td>\n",
       "    </tr>\n",
       "    <tr>\n",
       "      <th>1</th>\n",
       "      <td>trouble sleeping, confused mind, restless hear...</td>\n",
       "      <td>Anxiety</td>\n",
       "    </tr>\n",
       "    <tr>\n",
       "      <th>2</th>\n",
       "      <td>All wrong, back off dear, forward doubt. Stay ...</td>\n",
       "      <td>Anxiety</td>\n",
       "    </tr>\n",
       "    <tr>\n",
       "      <th>3</th>\n",
       "      <td>I've shifted my focus to something else but I'...</td>\n",
       "      <td>Anxiety</td>\n",
       "    </tr>\n",
       "    <tr>\n",
       "      <th>4</th>\n",
       "      <td>I'm restless and restless, it's been a month n...</td>\n",
       "      <td>Anxiety</td>\n",
       "    </tr>\n",
       "  </tbody>\n",
       "</table>\n",
       "</div>"
      ],
      "text/plain": [
       "                                           statement   status\n",
       "0                                         oh my gosh  Anxiety\n",
       "1  trouble sleeping, confused mind, restless hear...  Anxiety\n",
       "2  All wrong, back off dear, forward doubt. Stay ...  Anxiety\n",
       "3  I've shifted my focus to something else but I'...  Anxiety\n",
       "4  I'm restless and restless, it's been a month n...  Anxiety"
      ]
     },
     "execution_count": 37,
     "metadata": {},
     "output_type": "execute_result"
    }
   ],
   "source": [
    "data =data.drop(\"Unnamed: 0\", axis=1)\n",
    "data.head()"
   ]
  },
  {
   "cell_type": "code",
   "execution_count": 68,
   "id": "7d5edb69-960d-410c-9cd4-d6a6f6983ab0",
   "metadata": {},
   "outputs": [],
   "source": [
    "nltk_download_dir=\"/home/aadityapal/.conda/envs/notebook/nltk_data\""
   ]
  },
  {
   "cell_type": "code",
   "execution_count": 69,
   "id": "738dfcc4-739e-448f-9370-0e5d2010fe16",
   "metadata": {},
   "outputs": [
    {
     "name": "stderr",
     "output_type": "stream",
     "text": [
      "[nltk_data] Downloading package punkt_tab to\n",
      "[nltk_data]     /home/aadityapal/.conda/envs/notebook/nltk_data...\n",
      "[nltk_data]   Package punkt_tab is already up-to-date!\n"
     ]
    },
    {
     "data": {
      "text/plain": [
       "True"
      ]
     },
     "execution_count": 69,
     "metadata": {},
     "output_type": "execute_result"
    }
   ],
   "source": [
    "\n",
    "nltk.download(\"punkt_tab\",download_dir=nltk_download_dir)"
   ]
  },
  {
   "cell_type": "code",
   "execution_count": 70,
   "id": "6a657697-8477-441b-91a1-9c79f9047638",
   "metadata": {},
   "outputs": [
    {
     "data": {
      "text/plain": [
       "status\n",
       "Normal                  16343\n",
       "Depression              15404\n",
       "Suicidal                10652\n",
       "Anxiety                  3841\n",
       "Bipolar                  2777\n",
       "Stress                   2587\n",
       "Personality disorder     1077\n",
       "Name: count, dtype: int64"
      ]
     },
     "execution_count": 70,
     "metadata": {},
     "output_type": "execute_result"
    }
   ],
   "source": [
    "data[\"status\"].value_counts()"
   ]
  },
  {
   "cell_type": "code",
   "execution_count": 71,
   "id": "37d5017b-47b0-4557-82fb-3b3fb5408142",
   "metadata": {},
   "outputs": [
    {
     "data": {
      "text/plain": [
       "statement        0\n",
       "status           0\n",
       "word             0\n",
       "no_punct_word    0\n",
       "no_stopword      0\n",
       "dtype: int64"
      ]
     },
     "execution_count": 71,
     "metadata": {},
     "output_type": "execute_result"
    }
   ],
   "source": [
    "data.isna().sum()"
   ]
  },
  {
   "cell_type": "code",
   "execution_count": 72,
   "id": "8f1ebcf5-d3fc-4b94-b74b-0d1aa1a4d9da",
   "metadata": {},
   "outputs": [],
   "source": [
    "data = data.dropna()"
   ]
  },
  {
   "cell_type": "markdown",
   "id": "61c360b1-f5d3-4e1f-ad1f-9e41b653e35c",
   "metadata": {},
   "source": [
    "# Tokenizer"
   ]
  },
  {
   "cell_type": "code",
   "execution_count": 73,
   "id": "afa24ecd-accc-4acc-84fb-ed53300daf20",
   "metadata": {},
   "outputs": [
    {
     "data": {
      "text/html": [
       "<div>\n",
       "<style scoped>\n",
       "    .dataframe tbody tr th:only-of-type {\n",
       "        vertical-align: middle;\n",
       "    }\n",
       "\n",
       "    .dataframe tbody tr th {\n",
       "        vertical-align: top;\n",
       "    }\n",
       "\n",
       "    .dataframe thead th {\n",
       "        text-align: right;\n",
       "    }\n",
       "</style>\n",
       "<table border=\"1\" class=\"dataframe\">\n",
       "  <thead>\n",
       "    <tr style=\"text-align: right;\">\n",
       "      <th></th>\n",
       "      <th>statement</th>\n",
       "      <th>status</th>\n",
       "      <th>word</th>\n",
       "      <th>no_punct_word</th>\n",
       "      <th>no_stopword</th>\n",
       "    </tr>\n",
       "  </thead>\n",
       "  <tbody>\n",
       "    <tr>\n",
       "      <th>0</th>\n",
       "      <td>oh my gosh</td>\n",
       "      <td>Anxiety</td>\n",
       "      <td>[oh, my, gosh]</td>\n",
       "      <td>[oh, my, gosh]</td>\n",
       "      <td>[oh, gosh]</td>\n",
       "    </tr>\n",
       "    <tr>\n",
       "      <th>1</th>\n",
       "      <td>trouble sleeping, confused mind, restless hear...</td>\n",
       "      <td>Anxiety</td>\n",
       "      <td>[trouble, sleeping, ,, confused, mind, ,, rest...</td>\n",
       "      <td>[trouble, sleeping, confused, mind, restless, ...</td>\n",
       "      <td>[trouble, sleeping, confused, mind, restless, ...</td>\n",
       "    </tr>\n",
       "    <tr>\n",
       "      <th>2</th>\n",
       "      <td>All wrong, back off dear, forward doubt. Stay ...</td>\n",
       "      <td>Anxiety</td>\n",
       "      <td>[All, wrong, ,, back, off, dear, ,, forward, d...</td>\n",
       "      <td>[all, wrong, back, off, dear, forward, doubt, ...</td>\n",
       "      <td>[wrong, back, dear, forward, doubt, stay, rest...</td>\n",
       "    </tr>\n",
       "    <tr>\n",
       "      <th>3</th>\n",
       "      <td>I've shifted my focus to something else but I'...</td>\n",
       "      <td>Anxiety</td>\n",
       "      <td>[I, 've, shifted, my, focus, to, something, el...</td>\n",
       "      <td>[i, ve, shifted, my, focus, to, something, els...</td>\n",
       "      <td>[shifted, focus, something, else, still, worried]</td>\n",
       "    </tr>\n",
       "    <tr>\n",
       "      <th>4</th>\n",
       "      <td>I'm restless and restless, it's been a month n...</td>\n",
       "      <td>Anxiety</td>\n",
       "      <td>[I, 'm, restless, and, restless, ,, it, 's, be...</td>\n",
       "      <td>[i, m, restless, and, restless, it, s, been, a...</td>\n",
       "      <td>[restless, restless, month, boy, mean]</td>\n",
       "    </tr>\n",
       "  </tbody>\n",
       "</table>\n",
       "</div>"
      ],
      "text/plain": [
       "                                           statement   status  \\\n",
       "0                                         oh my gosh  Anxiety   \n",
       "1  trouble sleeping, confused mind, restless hear...  Anxiety   \n",
       "2  All wrong, back off dear, forward doubt. Stay ...  Anxiety   \n",
       "3  I've shifted my focus to something else but I'...  Anxiety   \n",
       "4  I'm restless and restless, it's been a month n...  Anxiety   \n",
       "\n",
       "                                                word  \\\n",
       "0                                     [oh, my, gosh]   \n",
       "1  [trouble, sleeping, ,, confused, mind, ,, rest...   \n",
       "2  [All, wrong, ,, back, off, dear, ,, forward, d...   \n",
       "3  [I, 've, shifted, my, focus, to, something, el...   \n",
       "4  [I, 'm, restless, and, restless, ,, it, 's, be...   \n",
       "\n",
       "                                       no_punct_word  \\\n",
       "0                                     [oh, my, gosh]   \n",
       "1  [trouble, sleeping, confused, mind, restless, ...   \n",
       "2  [all, wrong, back, off, dear, forward, doubt, ...   \n",
       "3  [i, ve, shifted, my, focus, to, something, els...   \n",
       "4  [i, m, restless, and, restless, it, s, been, a...   \n",
       "\n",
       "                                         no_stopword  \n",
       "0                                         [oh, gosh]  \n",
       "1  [trouble, sleeping, confused, mind, restless, ...  \n",
       "2  [wrong, back, dear, forward, doubt, stay, rest...  \n",
       "3  [shifted, focus, something, else, still, worried]  \n",
       "4             [restless, restless, month, boy, mean]  "
      ]
     },
     "execution_count": 73,
     "metadata": {},
     "output_type": "execute_result"
    }
   ],
   "source": [
    "word_list =[]\n",
    "for word in data[\"statement\"]:\n",
    "    word_list.append(word_tokenize(word))\n",
    "\n",
    "data[\"word\"]=word_list\n",
    "data.head()"
   ]
  },
  {
   "cell_type": "markdown",
   "id": "8239b1c4-ca97-4ba0-a309-57a65db39b29",
   "metadata": {},
   "source": [
    "## remove punctuation"
   ]
  },
  {
   "cell_type": "code",
   "execution_count": 74,
   "id": "d00e25bd-56ce-4e38-ad88-64512a293d18",
   "metadata": {},
   "outputs": [
    {
     "data": {
      "text/html": [
       "<div>\n",
       "<style scoped>\n",
       "    .dataframe tbody tr th:only-of-type {\n",
       "        vertical-align: middle;\n",
       "    }\n",
       "\n",
       "    .dataframe tbody tr th {\n",
       "        vertical-align: top;\n",
       "    }\n",
       "\n",
       "    .dataframe thead th {\n",
       "        text-align: right;\n",
       "    }\n",
       "</style>\n",
       "<table border=\"1\" class=\"dataframe\">\n",
       "  <thead>\n",
       "    <tr style=\"text-align: right;\">\n",
       "      <th></th>\n",
       "      <th>statement</th>\n",
       "      <th>status</th>\n",
       "      <th>word</th>\n",
       "      <th>no_punct_word</th>\n",
       "      <th>no_stopword</th>\n",
       "    </tr>\n",
       "  </thead>\n",
       "  <tbody>\n",
       "    <tr>\n",
       "      <th>0</th>\n",
       "      <td>oh my gosh</td>\n",
       "      <td>Anxiety</td>\n",
       "      <td>[oh, my, gosh]</td>\n",
       "      <td>[oh, my, gosh]</td>\n",
       "      <td>[oh, gosh]</td>\n",
       "    </tr>\n",
       "    <tr>\n",
       "      <th>1</th>\n",
       "      <td>trouble sleeping, confused mind, restless hear...</td>\n",
       "      <td>Anxiety</td>\n",
       "      <td>[trouble, sleeping, ,, confused, mind, ,, rest...</td>\n",
       "      <td>[trouble, sleeping, confused, mind, restless, ...</td>\n",
       "      <td>[trouble, sleeping, confused, mind, restless, ...</td>\n",
       "    </tr>\n",
       "    <tr>\n",
       "      <th>2</th>\n",
       "      <td>All wrong, back off dear, forward doubt. Stay ...</td>\n",
       "      <td>Anxiety</td>\n",
       "      <td>[All, wrong, ,, back, off, dear, ,, forward, d...</td>\n",
       "      <td>[all, wrong, back, off, dear, forward, doubt, ...</td>\n",
       "      <td>[wrong, back, dear, forward, doubt, stay, rest...</td>\n",
       "    </tr>\n",
       "    <tr>\n",
       "      <th>3</th>\n",
       "      <td>I've shifted my focus to something else but I'...</td>\n",
       "      <td>Anxiety</td>\n",
       "      <td>[I, 've, shifted, my, focus, to, something, el...</td>\n",
       "      <td>[i, ve, shifted, my, focus, to, something, els...</td>\n",
       "      <td>[shifted, focus, something, else, still, worried]</td>\n",
       "    </tr>\n",
       "    <tr>\n",
       "      <th>4</th>\n",
       "      <td>I'm restless and restless, it's been a month n...</td>\n",
       "      <td>Anxiety</td>\n",
       "      <td>[I, 'm, restless, and, restless, ,, it, 's, be...</td>\n",
       "      <td>[i, m, restless, and, restless, it, s, been, a...</td>\n",
       "      <td>[restless, restless, month, boy, mean]</td>\n",
       "    </tr>\n",
       "  </tbody>\n",
       "</table>\n",
       "</div>"
      ],
      "text/plain": [
       "                                           statement   status  \\\n",
       "0                                         oh my gosh  Anxiety   \n",
       "1  trouble sleeping, confused mind, restless hear...  Anxiety   \n",
       "2  All wrong, back off dear, forward doubt. Stay ...  Anxiety   \n",
       "3  I've shifted my focus to something else but I'...  Anxiety   \n",
       "4  I'm restless and restless, it's been a month n...  Anxiety   \n",
       "\n",
       "                                                word  \\\n",
       "0                                     [oh, my, gosh]   \n",
       "1  [trouble, sleeping, ,, confused, mind, ,, rest...   \n",
       "2  [All, wrong, ,, back, off, dear, ,, forward, d...   \n",
       "3  [I, 've, shifted, my, focus, to, something, el...   \n",
       "4  [I, 'm, restless, and, restless, ,, it, 's, be...   \n",
       "\n",
       "                                       no_punct_word  \\\n",
       "0                                     [oh, my, gosh]   \n",
       "1  [trouble, sleeping, confused, mind, restless, ...   \n",
       "2  [all, wrong, back, off, dear, forward, doubt, ...   \n",
       "3  [i, ve, shifted, my, focus, to, something, els...   \n",
       "4  [i, m, restless, and, restless, it, s, been, a...   \n",
       "\n",
       "                                         no_stopword  \n",
       "0                                         [oh, gosh]  \n",
       "1  [trouble, sleeping, confused, mind, restless, ...  \n",
       "2  [wrong, back, dear, forward, doubt, stay, rest...  \n",
       "3  [shifted, focus, something, else, still, worried]  \n",
       "4             [restless, restless, month, boy, mean]  "
      ]
     },
     "execution_count": 74,
     "metadata": {},
     "output_type": "execute_result"
    }
   ],
   "source": [
    "no_punct=[]\n",
    "for word in data[\"statement\"]:\n",
    "    no_punct.append(RegexpTokenizer(\"[A-Z]|[a-z]+\").tokenize(word.lower()))\n",
    "data[\"no_punct_word\"]=no_punct\n",
    "data.head()"
   ]
  },
  {
   "cell_type": "code",
   "execution_count": 75,
   "id": "593ad4d7-f598-4b4e-a645-48a062287069",
   "metadata": {},
   "outputs": [
    {
     "name": "stderr",
     "output_type": "stream",
     "text": [
      "[nltk_data] Downloading package stopwords to\n",
      "[nltk_data]     /home/aadityapal/.conda/envs/notebook/nltk_data...\n",
      "[nltk_data]   Package stopwords is already up-to-date!\n"
     ]
    },
    {
     "data": {
      "text/plain": [
       "True"
      ]
     },
     "execution_count": 75,
     "metadata": {},
     "output_type": "execute_result"
    }
   ],
   "source": [
    "nltk.download(\"stopwords\", download_dir=nltk_download_dir)"
   ]
  },
  {
   "cell_type": "code",
   "execution_count": 76,
   "id": "b5144f5e-05fa-4f9d-a038-59627eac20e1",
   "metadata": {},
   "outputs": [
    {
     "data": {
      "text/html": [
       "<div>\n",
       "<style scoped>\n",
       "    .dataframe tbody tr th:only-of-type {\n",
       "        vertical-align: middle;\n",
       "    }\n",
       "\n",
       "    .dataframe tbody tr th {\n",
       "        vertical-align: top;\n",
       "    }\n",
       "\n",
       "    .dataframe thead th {\n",
       "        text-align: right;\n",
       "    }\n",
       "</style>\n",
       "<table border=\"1\" class=\"dataframe\">\n",
       "  <thead>\n",
       "    <tr style=\"text-align: right;\">\n",
       "      <th></th>\n",
       "      <th>statement</th>\n",
       "      <th>status</th>\n",
       "      <th>word</th>\n",
       "      <th>no_punct_word</th>\n",
       "      <th>no_stopword</th>\n",
       "    </tr>\n",
       "  </thead>\n",
       "  <tbody>\n",
       "    <tr>\n",
       "      <th>0</th>\n",
       "      <td>oh my gosh</td>\n",
       "      <td>Anxiety</td>\n",
       "      <td>[oh, my, gosh]</td>\n",
       "      <td>[oh, my, gosh]</td>\n",
       "      <td>[oh, gosh]</td>\n",
       "    </tr>\n",
       "    <tr>\n",
       "      <th>1</th>\n",
       "      <td>trouble sleeping, confused mind, restless hear...</td>\n",
       "      <td>Anxiety</td>\n",
       "      <td>[trouble, sleeping, ,, confused, mind, ,, rest...</td>\n",
       "      <td>[trouble, sleeping, confused, mind, restless, ...</td>\n",
       "      <td>[trouble, sleeping, confused, mind, restless, ...</td>\n",
       "    </tr>\n",
       "    <tr>\n",
       "      <th>2</th>\n",
       "      <td>All wrong, back off dear, forward doubt. Stay ...</td>\n",
       "      <td>Anxiety</td>\n",
       "      <td>[All, wrong, ,, back, off, dear, ,, forward, d...</td>\n",
       "      <td>[all, wrong, back, off, dear, forward, doubt, ...</td>\n",
       "      <td>[wrong, back, dear, forward, doubt, stay, rest...</td>\n",
       "    </tr>\n",
       "    <tr>\n",
       "      <th>3</th>\n",
       "      <td>I've shifted my focus to something else but I'...</td>\n",
       "      <td>Anxiety</td>\n",
       "      <td>[I, 've, shifted, my, focus, to, something, el...</td>\n",
       "      <td>[i, ve, shifted, my, focus, to, something, els...</td>\n",
       "      <td>[shifted, focus, something, else, still, worried]</td>\n",
       "    </tr>\n",
       "    <tr>\n",
       "      <th>4</th>\n",
       "      <td>I'm restless and restless, it's been a month n...</td>\n",
       "      <td>Anxiety</td>\n",
       "      <td>[I, 'm, restless, and, restless, ,, it, 's, be...</td>\n",
       "      <td>[i, m, restless, and, restless, it, s, been, a...</td>\n",
       "      <td>[restless, restless, month, boy, mean]</td>\n",
       "    </tr>\n",
       "  </tbody>\n",
       "</table>\n",
       "</div>"
      ],
      "text/plain": [
       "                                           statement   status  \\\n",
       "0                                         oh my gosh  Anxiety   \n",
       "1  trouble sleeping, confused mind, restless hear...  Anxiety   \n",
       "2  All wrong, back off dear, forward doubt. Stay ...  Anxiety   \n",
       "3  I've shifted my focus to something else but I'...  Anxiety   \n",
       "4  I'm restless and restless, it's been a month n...  Anxiety   \n",
       "\n",
       "                                                word  \\\n",
       "0                                     [oh, my, gosh]   \n",
       "1  [trouble, sleeping, ,, confused, mind, ,, rest...   \n",
       "2  [All, wrong, ,, back, off, dear, ,, forward, d...   \n",
       "3  [I, 've, shifted, my, focus, to, something, el...   \n",
       "4  [I, 'm, restless, and, restless, ,, it, 's, be...   \n",
       "\n",
       "                                       no_punct_word  \\\n",
       "0                                     [oh, my, gosh]   \n",
       "1  [trouble, sleeping, confused, mind, restless, ...   \n",
       "2  [all, wrong, back, off, dear, forward, doubt, ...   \n",
       "3  [i, ve, shifted, my, focus, to, something, els...   \n",
       "4  [i, m, restless, and, restless, it, s, been, a...   \n",
       "\n",
       "                                         no_stopword  \n",
       "0                                         [oh, gosh]  \n",
       "1  [trouble, sleeping, confused, mind, restless, ...  \n",
       "2  [wrong, back, dear, forward, doubt, stay, rest...  \n",
       "3  [shifted, focus, something, else, still, worried]  \n",
       "4             [restless, restless, month, boy, mean]  "
      ]
     },
     "execution_count": 76,
     "metadata": {},
     "output_type": "execute_result"
    }
   ],
   "source": [
    "no_stop_words = []\n",
    "for wordArr in data[\"no_punct_word\"]:\n",
    "    currentRow=[]\n",
    "    for word in wordArr:\n",
    "        if word not in stopwords.words(\"english\"):\n",
    "            currentRow.append(word)\n",
    "    no_stop_words.append(currentRow)\n",
    "data[\"no_stopword\"]=no_stop_words\n",
    "data.head()"
   ]
  },
  {
   "cell_type": "code",
   "execution_count": null,
   "id": "63e462e4-62ae-4c88-a7df-f32396386c01",
   "metadata": {},
   "outputs": [],
   "source": [
    "#lemmatization"
   ]
  },
  {
   "cell_type": "code",
   "execution_count": 77,
   "id": "8d04ca43-b49b-4f48-bb34-1e62f121ce64",
   "metadata": {},
   "outputs": [
    {
     "name": "stderr",
     "output_type": "stream",
     "text": [
      "[nltk_data] Downloading package wordnet to\n",
      "[nltk_data]     /home/aadityapal/.conda/envs/notebook/nltk_data...\n",
      "[nltk_data]   Package wordnet is already up-to-date!\n"
     ]
    },
    {
     "data": {
      "text/plain": [
       "True"
      ]
     },
     "execution_count": 77,
     "metadata": {},
     "output_type": "execute_result"
    }
   ],
   "source": [
    "nltk.download(\"wordnet\", download_dir=nltk_download_dir)"
   ]
  },
  {
   "cell_type": "code",
   "execution_count": 79,
   "id": "5b231ad8-764d-409a-89d0-5f5372d4b08b",
   "metadata": {},
   "outputs": [
    {
     "data": {
      "text/html": [
       "<div>\n",
       "<style scoped>\n",
       "    .dataframe tbody tr th:only-of-type {\n",
       "        vertical-align: middle;\n",
       "    }\n",
       "\n",
       "    .dataframe tbody tr th {\n",
       "        vertical-align: top;\n",
       "    }\n",
       "\n",
       "    .dataframe thead th {\n",
       "        text-align: right;\n",
       "    }\n",
       "</style>\n",
       "<table border=\"1\" class=\"dataframe\">\n",
       "  <thead>\n",
       "    <tr style=\"text-align: right;\">\n",
       "      <th></th>\n",
       "      <th>statement</th>\n",
       "      <th>status</th>\n",
       "      <th>word</th>\n",
       "      <th>no_punct_word</th>\n",
       "      <th>no_stopword</th>\n",
       "      <th>word_lemma</th>\n",
       "    </tr>\n",
       "  </thead>\n",
       "  <tbody>\n",
       "    <tr>\n",
       "      <th>0</th>\n",
       "      <td>oh my gosh</td>\n",
       "      <td>Anxiety</td>\n",
       "      <td>[oh, my, gosh]</td>\n",
       "      <td>[oh, my, gosh]</td>\n",
       "      <td>[oh, gosh]</td>\n",
       "      <td>[oh, gosh]</td>\n",
       "    </tr>\n",
       "    <tr>\n",
       "      <th>1</th>\n",
       "      <td>trouble sleeping, confused mind, restless hear...</td>\n",
       "      <td>Anxiety</td>\n",
       "      <td>[trouble, sleeping, ,, confused, mind, ,, rest...</td>\n",
       "      <td>[trouble, sleeping, confused, mind, restless, ...</td>\n",
       "      <td>[trouble, sleeping, confused, mind, restless, ...</td>\n",
       "      <td>[trouble, sleeping, confused, mind, restless, ...</td>\n",
       "    </tr>\n",
       "    <tr>\n",
       "      <th>2</th>\n",
       "      <td>All wrong, back off dear, forward doubt. Stay ...</td>\n",
       "      <td>Anxiety</td>\n",
       "      <td>[All, wrong, ,, back, off, dear, ,, forward, d...</td>\n",
       "      <td>[all, wrong, back, off, dear, forward, doubt, ...</td>\n",
       "      <td>[wrong, back, dear, forward, doubt, stay, rest...</td>\n",
       "      <td>[wrong, back, dear, forward, doubt, stay, rest...</td>\n",
       "    </tr>\n",
       "    <tr>\n",
       "      <th>3</th>\n",
       "      <td>I've shifted my focus to something else but I'...</td>\n",
       "      <td>Anxiety</td>\n",
       "      <td>[I, 've, shifted, my, focus, to, something, el...</td>\n",
       "      <td>[i, ve, shifted, my, focus, to, something, els...</td>\n",
       "      <td>[shifted, focus, something, else, still, worried]</td>\n",
       "      <td>[shifted, focus, something, else, still, worried]</td>\n",
       "    </tr>\n",
       "    <tr>\n",
       "      <th>4</th>\n",
       "      <td>I'm restless and restless, it's been a month n...</td>\n",
       "      <td>Anxiety</td>\n",
       "      <td>[I, 'm, restless, and, restless, ,, it, 's, be...</td>\n",
       "      <td>[i, m, restless, and, restless, it, s, been, a...</td>\n",
       "      <td>[restless, restless, month, boy, mean]</td>\n",
       "      <td>[restless, restless, month, boy, mean]</td>\n",
       "    </tr>\n",
       "  </tbody>\n",
       "</table>\n",
       "</div>"
      ],
      "text/plain": [
       "                                           statement   status  \\\n",
       "0                                         oh my gosh  Anxiety   \n",
       "1  trouble sleeping, confused mind, restless hear...  Anxiety   \n",
       "2  All wrong, back off dear, forward doubt. Stay ...  Anxiety   \n",
       "3  I've shifted my focus to something else but I'...  Anxiety   \n",
       "4  I'm restless and restless, it's been a month n...  Anxiety   \n",
       "\n",
       "                                                word  \\\n",
       "0                                     [oh, my, gosh]   \n",
       "1  [trouble, sleeping, ,, confused, mind, ,, rest...   \n",
       "2  [All, wrong, ,, back, off, dear, ,, forward, d...   \n",
       "3  [I, 've, shifted, my, focus, to, something, el...   \n",
       "4  [I, 'm, restless, and, restless, ,, it, 's, be...   \n",
       "\n",
       "                                       no_punct_word  \\\n",
       "0                                     [oh, my, gosh]   \n",
       "1  [trouble, sleeping, confused, mind, restless, ...   \n",
       "2  [all, wrong, back, off, dear, forward, doubt, ...   \n",
       "3  [i, ve, shifted, my, focus, to, something, els...   \n",
       "4  [i, m, restless, and, restless, it, s, been, a...   \n",
       "\n",
       "                                         no_stopword  \\\n",
       "0                                         [oh, gosh]   \n",
       "1  [trouble, sleeping, confused, mind, restless, ...   \n",
       "2  [wrong, back, dear, forward, doubt, stay, rest...   \n",
       "3  [shifted, focus, something, else, still, worried]   \n",
       "4             [restless, restless, month, boy, mean]   \n",
       "\n",
       "                                          word_lemma  \n",
       "0                                         [oh, gosh]  \n",
       "1  [trouble, sleeping, confused, mind, restless, ...  \n",
       "2  [wrong, back, dear, forward, doubt, stay, rest...  \n",
       "3  [shifted, focus, something, else, still, worried]  \n",
       "4             [restless, restless, month, boy, mean]  "
      ]
     },
     "execution_count": 79,
     "metadata": {},
     "output_type": "execute_result"
    }
   ],
   "source": [
    "word_lemma=[]\n",
    "for wordArr in data[\"no_stopword\"]:\n",
    "    row=[]\n",
    "    for word in wordArr:\n",
    "        row.append(WordNetLemmatizer().lemmatize(word))\n",
    "    word_lemma.append(row)\n",
    "data[\"word_lemma\"]=word_lemma\n",
    "data.head()"
   ]
  },
  {
   "cell_type": "code",
   "execution_count": 60,
   "id": "0dcd7b7d-e415-4d9f-8852-ac503fb1e4b3",
   "metadata": {},
   "outputs": [
    {
     "name": "stderr",
     "output_type": "stream",
     "text": [
      "[nltk_data] Downloading package averaged_perceptron_tagger_eng to\n",
      "[nltk_data]     /home/aadityapal/.conda/envs/notebook/nltk_data...\n",
      "[nltk_data]   Unzipping taggers/averaged_perceptron_tagger_eng.zip.\n"
     ]
    },
    {
     "data": {
      "text/plain": [
       "True"
      ]
     },
     "execution_count": 60,
     "metadata": {},
     "output_type": "execute_result"
    }
   ],
   "source": [
    "nltk.download(\"averaged_perceptron_tagger_eng\", download_dir=nltk_download_dir)"
   ]
  },
  {
   "cell_type": "code",
   "execution_count": 82,
   "id": "2018c1f0-db0a-426a-8646-9f4338ebb800",
   "metadata": {},
   "outputs": [
    {
     "data": {
      "text/html": [
       "<div>\n",
       "<style scoped>\n",
       "    .dataframe tbody tr th:only-of-type {\n",
       "        vertical-align: middle;\n",
       "    }\n",
       "\n",
       "    .dataframe tbody tr th {\n",
       "        vertical-align: top;\n",
       "    }\n",
       "\n",
       "    .dataframe thead th {\n",
       "        text-align: right;\n",
       "    }\n",
       "</style>\n",
       "<table border=\"1\" class=\"dataframe\">\n",
       "  <thead>\n",
       "    <tr style=\"text-align: right;\">\n",
       "      <th></th>\n",
       "      <th>statement</th>\n",
       "      <th>status</th>\n",
       "      <th>word</th>\n",
       "      <th>no_punct_word</th>\n",
       "      <th>no_stopword</th>\n",
       "      <th>word_lemma</th>\n",
       "      <th>pos_tag</th>\n",
       "    </tr>\n",
       "  </thead>\n",
       "  <tbody>\n",
       "    <tr>\n",
       "      <th>0</th>\n",
       "      <td>oh my gosh</td>\n",
       "      <td>Anxiety</td>\n",
       "      <td>[oh, my, gosh]</td>\n",
       "      <td>[oh, my, gosh]</td>\n",
       "      <td>[oh, gosh]</td>\n",
       "      <td>[oh, gosh]</td>\n",
       "      <td>[(oh, UH), (gosh, NN)]</td>\n",
       "    </tr>\n",
       "    <tr>\n",
       "      <th>1</th>\n",
       "      <td>trouble sleeping, confused mind, restless hear...</td>\n",
       "      <td>Anxiety</td>\n",
       "      <td>[trouble, sleeping, ,, confused, mind, ,, rest...</td>\n",
       "      <td>[trouble, sleeping, confused, mind, restless, ...</td>\n",
       "      <td>[trouble, sleeping, confused, mind, restless, ...</td>\n",
       "      <td>[trouble, sleeping, confused, mind, restless, ...</td>\n",
       "      <td>[(trouble, NN), (sleeping, VBG), (confused, VB...</td>\n",
       "    </tr>\n",
       "    <tr>\n",
       "      <th>2</th>\n",
       "      <td>All wrong, back off dear, forward doubt. Stay ...</td>\n",
       "      <td>Anxiety</td>\n",
       "      <td>[All, wrong, ,, back, off, dear, ,, forward, d...</td>\n",
       "      <td>[all, wrong, back, off, dear, forward, doubt, ...</td>\n",
       "      <td>[wrong, back, dear, forward, doubt, stay, rest...</td>\n",
       "      <td>[wrong, back, dear, forward, doubt, stay, rest...</td>\n",
       "      <td>[(wrong, JJ), (back, RB), (dear, JJ), (forward...</td>\n",
       "    </tr>\n",
       "    <tr>\n",
       "      <th>3</th>\n",
       "      <td>I've shifted my focus to something else but I'...</td>\n",
       "      <td>Anxiety</td>\n",
       "      <td>[I, 've, shifted, my, focus, to, something, el...</td>\n",
       "      <td>[i, ve, shifted, my, focus, to, something, els...</td>\n",
       "      <td>[shifted, focus, something, else, still, worried]</td>\n",
       "      <td>[shifted, focus, something, else, still, worried]</td>\n",
       "      <td>[(shifted, VBN), (focus, NN), (something, NN),...</td>\n",
       "    </tr>\n",
       "    <tr>\n",
       "      <th>4</th>\n",
       "      <td>I'm restless and restless, it's been a month n...</td>\n",
       "      <td>Anxiety</td>\n",
       "      <td>[I, 'm, restless, and, restless, ,, it, 's, be...</td>\n",
       "      <td>[i, m, restless, and, restless, it, s, been, a...</td>\n",
       "      <td>[restless, restless, month, boy, mean]</td>\n",
       "      <td>[restless, restless, month, boy, mean]</td>\n",
       "      <td>[(restless, JJ), (restless, JJ), (month, NN), ...</td>\n",
       "    </tr>\n",
       "  </tbody>\n",
       "</table>\n",
       "</div>"
      ],
      "text/plain": [
       "                                           statement   status  \\\n",
       "0                                         oh my gosh  Anxiety   \n",
       "1  trouble sleeping, confused mind, restless hear...  Anxiety   \n",
       "2  All wrong, back off dear, forward doubt. Stay ...  Anxiety   \n",
       "3  I've shifted my focus to something else but I'...  Anxiety   \n",
       "4  I'm restless and restless, it's been a month n...  Anxiety   \n",
       "\n",
       "                                                word  \\\n",
       "0                                     [oh, my, gosh]   \n",
       "1  [trouble, sleeping, ,, confused, mind, ,, rest...   \n",
       "2  [All, wrong, ,, back, off, dear, ,, forward, d...   \n",
       "3  [I, 've, shifted, my, focus, to, something, el...   \n",
       "4  [I, 'm, restless, and, restless, ,, it, 's, be...   \n",
       "\n",
       "                                       no_punct_word  \\\n",
       "0                                     [oh, my, gosh]   \n",
       "1  [trouble, sleeping, confused, mind, restless, ...   \n",
       "2  [all, wrong, back, off, dear, forward, doubt, ...   \n",
       "3  [i, ve, shifted, my, focus, to, something, els...   \n",
       "4  [i, m, restless, and, restless, it, s, been, a...   \n",
       "\n",
       "                                         no_stopword  \\\n",
       "0                                         [oh, gosh]   \n",
       "1  [trouble, sleeping, confused, mind, restless, ...   \n",
       "2  [wrong, back, dear, forward, doubt, stay, rest...   \n",
       "3  [shifted, focus, something, else, still, worried]   \n",
       "4             [restless, restless, month, boy, mean]   \n",
       "\n",
       "                                          word_lemma  \\\n",
       "0                                         [oh, gosh]   \n",
       "1  [trouble, sleeping, confused, mind, restless, ...   \n",
       "2  [wrong, back, dear, forward, doubt, stay, rest...   \n",
       "3  [shifted, focus, something, else, still, worried]   \n",
       "4             [restless, restless, month, boy, mean]   \n",
       "\n",
       "                                             pos_tag  \n",
       "0                             [(oh, UH), (gosh, NN)]  \n",
       "1  [(trouble, NN), (sleeping, VBG), (confused, VB...  \n",
       "2  [(wrong, JJ), (back, RB), (dear, JJ), (forward...  \n",
       "3  [(shifted, VBN), (focus, NN), (something, NN),...  \n",
       "4  [(restless, JJ), (restless, JJ), (month, NN), ...  "
      ]
     },
     "execution_count": 82,
     "metadata": {},
     "output_type": "execute_result"
    }
   ],
   "source": [
    "word_tag =[]\n",
    "for wordArr in data[\"word_lemma\"]:\n",
    "    word_tag.append(nltk.pos_tag(wordArr))\n",
    "data[\"pos_tag\"]= word_tag\n",
    "data.head()"
   ]
  },
  {
   "cell_type": "code",
   "execution_count": 84,
   "id": "67fba48e-03cf-4849-aa25-fe0c5acd8a53",
   "metadata": {},
   "outputs": [
    {
     "data": {
      "text/html": [
       "<div>\n",
       "<style scoped>\n",
       "    .dataframe tbody tr th:only-of-type {\n",
       "        vertical-align: middle;\n",
       "    }\n",
       "\n",
       "    .dataframe tbody tr th {\n",
       "        vertical-align: top;\n",
       "    }\n",
       "\n",
       "    .dataframe thead th {\n",
       "        text-align: right;\n",
       "    }\n",
       "</style>\n",
       "<table border=\"1\" class=\"dataframe\">\n",
       "  <thead>\n",
       "    <tr style=\"text-align: right;\">\n",
       "      <th></th>\n",
       "      <th>statement</th>\n",
       "      <th>status</th>\n",
       "      <th>word</th>\n",
       "      <th>no_punct_word</th>\n",
       "      <th>no_stopword</th>\n",
       "      <th>word_lemma</th>\n",
       "      <th>pos_tag</th>\n",
       "      <th>noun_tag</th>\n",
       "    </tr>\n",
       "  </thead>\n",
       "  <tbody>\n",
       "    <tr>\n",
       "      <th>0</th>\n",
       "      <td>oh my gosh</td>\n",
       "      <td>Anxiety</td>\n",
       "      <td>[oh, my, gosh]</td>\n",
       "      <td>[oh, my, gosh]</td>\n",
       "      <td>[oh, gosh]</td>\n",
       "      <td>[oh, gosh]</td>\n",
       "      <td>[(oh, UH), (gosh, NN)]</td>\n",
       "      <td>[gosh]</td>\n",
       "    </tr>\n",
       "    <tr>\n",
       "      <th>1</th>\n",
       "      <td>trouble sleeping, confused mind, restless hear...</td>\n",
       "      <td>Anxiety</td>\n",
       "      <td>[trouble, sleeping, ,, confused, mind, ,, rest...</td>\n",
       "      <td>[trouble, sleeping, confused, mind, restless, ...</td>\n",
       "      <td>[trouble, sleeping, confused, mind, restless, ...</td>\n",
       "      <td>[trouble, sleeping, confused, mind, restless, ...</td>\n",
       "      <td>[(trouble, NN), (sleeping, VBG), (confused, VB...</td>\n",
       "      <td>[trouble, mind, heart, tune]</td>\n",
       "    </tr>\n",
       "    <tr>\n",
       "      <th>2</th>\n",
       "      <td>All wrong, back off dear, forward doubt. Stay ...</td>\n",
       "      <td>Anxiety</td>\n",
       "      <td>[All, wrong, ,, back, off, dear, ,, forward, d...</td>\n",
       "      <td>[all, wrong, back, off, dear, forward, doubt, ...</td>\n",
       "      <td>[wrong, back, dear, forward, doubt, stay, rest...</td>\n",
       "      <td>[wrong, back, dear, forward, doubt, stay, rest...</td>\n",
       "      <td>[(wrong, JJ), (back, RB), (dear, JJ), (forward...</td>\n",
       "      <td>[forward, doubt, restless, place]</td>\n",
       "    </tr>\n",
       "    <tr>\n",
       "      <th>3</th>\n",
       "      <td>I've shifted my focus to something else but I'...</td>\n",
       "      <td>Anxiety</td>\n",
       "      <td>[I, 've, shifted, my, focus, to, something, el...</td>\n",
       "      <td>[i, ve, shifted, my, focus, to, something, els...</td>\n",
       "      <td>[shifted, focus, something, else, still, worried]</td>\n",
       "      <td>[shifted, focus, something, else, still, worried]</td>\n",
       "      <td>[(shifted, VBN), (focus, NN), (something, NN),...</td>\n",
       "      <td>[focus, something]</td>\n",
       "    </tr>\n",
       "    <tr>\n",
       "      <th>4</th>\n",
       "      <td>I'm restless and restless, it's been a month n...</td>\n",
       "      <td>Anxiety</td>\n",
       "      <td>[I, 'm, restless, and, restless, ,, it, 's, be...</td>\n",
       "      <td>[i, m, restless, and, restless, it, s, been, a...</td>\n",
       "      <td>[restless, restless, month, boy, mean]</td>\n",
       "      <td>[restless, restless, month, boy, mean]</td>\n",
       "      <td>[(restless, JJ), (restless, JJ), (month, NN), ...</td>\n",
       "      <td>[month, mean]</td>\n",
       "    </tr>\n",
       "  </tbody>\n",
       "</table>\n",
       "</div>"
      ],
      "text/plain": [
       "                                           statement   status  \\\n",
       "0                                         oh my gosh  Anxiety   \n",
       "1  trouble sleeping, confused mind, restless hear...  Anxiety   \n",
       "2  All wrong, back off dear, forward doubt. Stay ...  Anxiety   \n",
       "3  I've shifted my focus to something else but I'...  Anxiety   \n",
       "4  I'm restless and restless, it's been a month n...  Anxiety   \n",
       "\n",
       "                                                word  \\\n",
       "0                                     [oh, my, gosh]   \n",
       "1  [trouble, sleeping, ,, confused, mind, ,, rest...   \n",
       "2  [All, wrong, ,, back, off, dear, ,, forward, d...   \n",
       "3  [I, 've, shifted, my, focus, to, something, el...   \n",
       "4  [I, 'm, restless, and, restless, ,, it, 's, be...   \n",
       "\n",
       "                                       no_punct_word  \\\n",
       "0                                     [oh, my, gosh]   \n",
       "1  [trouble, sleeping, confused, mind, restless, ...   \n",
       "2  [all, wrong, back, off, dear, forward, doubt, ...   \n",
       "3  [i, ve, shifted, my, focus, to, something, els...   \n",
       "4  [i, m, restless, and, restless, it, s, been, a...   \n",
       "\n",
       "                                         no_stopword  \\\n",
       "0                                         [oh, gosh]   \n",
       "1  [trouble, sleeping, confused, mind, restless, ...   \n",
       "2  [wrong, back, dear, forward, doubt, stay, rest...   \n",
       "3  [shifted, focus, something, else, still, worried]   \n",
       "4             [restless, restless, month, boy, mean]   \n",
       "\n",
       "                                          word_lemma  \\\n",
       "0                                         [oh, gosh]   \n",
       "1  [trouble, sleeping, confused, mind, restless, ...   \n",
       "2  [wrong, back, dear, forward, doubt, stay, rest...   \n",
       "3  [shifted, focus, something, else, still, worried]   \n",
       "4             [restless, restless, month, boy, mean]   \n",
       "\n",
       "                                             pos_tag  \\\n",
       "0                             [(oh, UH), (gosh, NN)]   \n",
       "1  [(trouble, NN), (sleeping, VBG), (confused, VB...   \n",
       "2  [(wrong, JJ), (back, RB), (dear, JJ), (forward...   \n",
       "3  [(shifted, VBN), (focus, NN), (something, NN),...   \n",
       "4  [(restless, JJ), (restless, JJ), (month, NN), ...   \n",
       "\n",
       "                            noun_tag  \n",
       "0                             [gosh]  \n",
       "1       [trouble, mind, heart, tune]  \n",
       "2  [forward, doubt, restless, place]  \n",
       "3                 [focus, something]  \n",
       "4                      [month, mean]  "
      ]
     },
     "execution_count": 84,
     "metadata": {},
     "output_type": "execute_result"
    }
   ],
   "source": [
    "noun_tag=[]\n",
    "for wordArr in data[\"pos_tag\"]:\n",
    "    pos_row=[]\n",
    "    for (word,pos) in wordArr:\n",
    "        if pos.startswith(\"NN\"):\n",
    "            pos_row.append(word)\n",
    "    noun_tag.append(pos_row)\n",
    "data[\"noun_tag\"]= noun_tag\n",
    "data.head()"
   ]
  },
  {
   "cell_type": "code",
   "execution_count": null,
   "id": "14a6577e-1506-4270-81d8-ba3032f7d4bb",
   "metadata": {},
   "outputs": [],
   "source": [
    "## generate word cloud"
   ]
  },
  {
   "cell_type": "code",
   "execution_count": 98,
   "id": "afd85ea5-1d10-46d3-a736-237a88227801",
   "metadata": {},
   "outputs": [
    {
     "name": "stdout",
     "output_type": "stream",
     "text": [
      "0                                                     gosh\n",
      "1                                  trouble,mind,heart,tune\n",
      "2                             forward,doubt,restless,place\n",
      "3                                          focus,something\n",
      "4                                               month,mean\n",
      "                               ...                        \n",
      "53038    nobody,depression,anxiety,year,people,money,ca...\n",
      "53039    selfishness,world,ruin,mood,try,people,people,...\n",
      "53040                                       way,night,help\n",
      "53041    tip,hi,presentation,work,week,minute,attendanc...\n",
      "53042    door,anxiety,door,something,door,way,way,peopl...\n",
      "Name: noun_tag, Length: 52681, dtype: object\n"
     ]
    }
   ],
   "source": [
    "\n",
    "wordList =data[\"noun_tag\"].map(lambda x : \",\".join(x))\n",
    "print(wordList)\n",
    "words=\",\".join(wordList)\n",
    "#words"
   ]
  },
  {
   "cell_type": "code",
   "execution_count": 88,
   "id": "e9dead71-c139-48d5-ac57-c95c762a21ce",
   "metadata": {},
   "outputs": [
    {
     "data": {
      "text/plain": [
       "<wordcloud.wordcloud.WordCloud at 0x7f99eb2b60f0>"
      ]
     },
     "execution_count": 88,
     "metadata": {},
     "output_type": "execute_result"
    }
   ],
   "source": [
    "wc= WordCloud(background_color=\"black\", max_words=5000, contour_color=\"blue\")\n",
    "wc.generate(words)\n"
   ]
  },
  {
   "cell_type": "code",
   "execution_count": 89,
   "id": "a840d6e4-55b2-4e60-916b-38d9caab3cf4",
   "metadata": {},
   "outputs": [],
   "source": [
    "import matplotlib.pyplot as plt"
   ]
  },
  {
   "cell_type": "code",
   "execution_count": 90,
   "id": "93a3a142-5149-49d1-9f00-c2adb42a53ea",
   "metadata": {},
   "outputs": [
    {
     "data": {
      "image/jpeg": "[encoded data removed]",
      "image/png": "[encoded data removed]",
      "text/plain": [
       "<PIL.Image.Image image mode=RGB size=400x200>"
      ]
     },
     "execution_count": 90,
     "metadata": {},
     "output_type": "execute_result"
    },
    {
     "data": {
      "text/plain": [
       "<Figure size 2000x2000 with 0 Axes>"
      ]
     },
     "metadata": {},
     "output_type": "display_data"
    }
   ],
   "source": [
    "plt.figure(figsize=(20,20))\n",
    "wc.to_image()"
   ]
  },
  {
   "cell_type": "code",
   "execution_count": 92,
   "id": "d2f3f91e-0b04-4dc9-bd23-68c607ccc2a5",
   "metadata": {},
   "outputs": [],
   "source": [
    "from sklearn.feature_extraction.text import CountVectorizer"
   ]
  },
  {
   "cell_type": "code",
   "execution_count": 93,
   "id": "b64d756b-ee9f-40c1-8f83-308b771dc004",
   "metadata": {},
   "outputs": [
    {
     "data": {
      "text/plain": [
       "array([[0, 0, 0, ..., 0, 0, 0],\n",
       "       [0, 0, 0, ..., 0, 0, 0],\n",
       "       [0, 0, 0, ..., 0, 0, 0],\n",
       "       ...,\n",
       "       [0, 0, 0, ..., 0, 0, 0],\n",
       "       [0, 0, 0, ..., 0, 0, 0],\n",
       "       [0, 0, 0, ..., 0, 0, 0]], shape=(52681, 33163))"
      ]
     },
     "execution_count": 93,
     "metadata": {},
     "output_type": "execute_result"
    }
   ],
   "source": [
    "v1= CountVectorizer().fit_transform(wordList)\n",
    "v1.toarray()"
   ]
  },
  {
   "cell_type": "code",
   "execution_count": 99,
   "id": "f80d1bc0-1ffd-4e51-a722-f81666559dfb",
   "metadata": {},
   "outputs": [],
   "source": [
    "from sklearn.model_selection import train_test_split\n",
    "from sklearn.linear_model import LogisticRegression"
   ]
  },
  {
   "cell_type": "code",
   "execution_count": 100,
   "id": "7a6a91b0-f31f-4a54-bb94-492d43aa2570",
   "metadata": {},
   "outputs": [],
   "source": [
    "x_tr,x_test, y_tr, y_test = train_test_split(v1, data[\"status\"], test_size=.2)\n"
   ]
  },
  {
   "cell_type": "code",
   "execution_count": 101,
   "id": "6f8f9d1d-a139-41a0-9132-778c4cd5d524",
   "metadata": {},
   "outputs": [
    {
     "name": "stderr",
     "output_type": "stream",
     "text": [
      "/home/aadityapal/.conda/envs/notebook/lib/python3.12/site-packages/sklearn/linear_model/_logistic.py:469: ConvergenceWarning: lbfgs failed to converge (status=1):\n",
      "STOP: TOTAL NO. of ITERATIONS REACHED LIMIT.\n",
      "\n",
      "Increase the number of iterations (max_iter) or scale the data as shown in:\n",
      "    https://scikit-learn.org/stable/modules/preprocessing.html\n",
      "Please also refer to the documentation for alternative solver options:\n",
      "    https://scikit-learn.org/stable/modules/linear_model.html#logistic-regression\n",
      "  n_iter_i = _check_optimize_result(\n"
     ]
    }
   ],
   "source": [
    "logit_mod=LogisticRegression().fit(x_tr, y_tr)"
   ]
  },
  {
   "cell_type": "code",
   "execution_count": 104,
   "id": "099b0ee5-df73-422e-b5c0-140d940508b0",
   "metadata": {},
   "outputs": [],
   "source": [
    "pred=logit_mod.predict(x_test)"
   ]
  },
  {
   "cell_type": "code",
   "execution_count": 105,
   "id": "825c9890-8b10-45f0-b7d4-98982a3963d6",
   "metadata": {},
   "outputs": [],
   "source": [
    "from sklearn.metrics import classification_report\n",
    "from sklearn.metrics import roc_curve\n",
    "from sklearn.metrics import roc_auc_score\n",
    "from sklearn.preprocessing import LabelEncoder"
   ]
  },
  {
   "cell_type": "code",
   "execution_count": 106,
   "id": "812d6406-29f7-4fb4-8359-5d29312350c0",
   "metadata": {},
   "outputs": [
    {
     "name": "stdout",
     "output_type": "stream",
     "text": [
      "                      precision    recall  f1-score   support\n",
      "\n",
      "             Anxiety       0.75      0.67      0.71       790\n",
      "             Bipolar       0.72      0.60      0.65       549\n",
      "          Depression       0.64      0.65      0.65      3064\n",
      "              Normal       0.80      0.93      0.86      3247\n",
      "Personality disorder       0.60      0.42      0.49       226\n",
      "              Stress       0.55      0.38      0.45       518\n",
      "            Suicidal       0.59      0.54      0.57      2143\n",
      "\n",
      "            accuracy                           0.70     10537\n",
      "           macro avg       0.66      0.60      0.63     10537\n",
      "        weighted avg       0.69      0.70      0.69     10537\n",
      "\n"
     ]
    }
   ],
   "source": [
    "print(classification_report(y_test,pred))"
   ]
  },
  {
   "cell_type": "code",
   "execution_count": 112,
   "id": "2aaf1b13-647a-45f5-96bb-13d70f9e7946",
   "metadata": {},
   "outputs": [
    {
     "name": "stdout",
     "output_type": "stream",
     "text": [
      "10537\n"
     ]
    }
   ],
   "source": [
    "y=LabelEncoder().fit_transform(data[\"status\"])\n",
    "print(len(y_test))\n",
    "x_tr,x_test, y_tr,y_test = train_test_split(v1, y, test_size=.2)\n"
   ]
  },
  {
   "cell_type": "code",
   "execution_count": 113,
   "id": "8bffc684-c22d-4846-8bd5-d4e326ccdf84",
   "metadata": {},
   "outputs": [
    {
     "name": "stderr",
     "output_type": "stream",
     "text": [
      "/home/aadityapal/.conda/envs/notebook/lib/python3.12/site-packages/sklearn/linear_model/_logistic.py:469: ConvergenceWarning: lbfgs failed to converge (status=1):\n",
      "STOP: TOTAL NO. of ITERATIONS REACHED LIMIT.\n",
      "\n",
      "Increase the number of iterations (max_iter) or scale the data as shown in:\n",
      "    https://scikit-learn.org/stable/modules/preprocessing.html\n",
      "Please also refer to the documentation for alternative solver options:\n",
      "    https://scikit-learn.org/stable/modules/linear_model.html#logistic-regression\n",
      "  n_iter_i = _check_optimize_result(\n"
     ]
    }
   ],
   "source": [
    "logit_mod2= LogisticRegression().fit(x_tr,y_tr)"
   ]
  },
  {
   "cell_type": "code",
   "execution_count": 115,
   "id": "a5638375-465d-42c7-bdcc-ff207b7027cd",
   "metadata": {},
   "outputs": [
    {
     "name": "stdout",
     "output_type": "stream",
     "text": [
      "10537\n",
      "10537\n"
     ]
    }
   ],
   "source": [
    "p2= logit_mod2.predict_proba(x_test)\n",
    "print(len(y_test))\n",
    "print(len(p2))"
   ]
  },
  {
   "cell_type": "code",
   "execution_count": 116,
   "id": "d3139ab3-1042-4e2d-a8c4-918c9a573a43",
   "metadata": {},
   "outputs": [
    {
     "data": {
      "text/plain": [
       "np.float64(0.9024076402025135)"
      ]
     },
     "execution_count": 116,
     "metadata": {},
     "output_type": "execute_result"
    }
   ],
   "source": [
    "auc=roc_auc_score(y_test, p2,multi_class=\"ovr\")\n",
    "auc"
   ]
  },
  {
   "cell_type": "code",
   "execution_count": null,
   "id": "1338f09e-42f0-4ccd-949c-e4e96c90851d",
   "metadata": {},
   "outputs": [],
   "source": []
  }
 ],
 "metadata": {
  "kernelspec": {
   "display_name": "Python 3 (ipykernel)",
   "language": "python",
   "name": "python3"
  },
  "language_info": {
   "codemirror_mode": {
    "name": "ipython",
    "version": 3
   },
   "file_extension": ".py",
   "mimetype": "text/x-python",
   "name": "python",
   "nbconvert_exporter": "python",
   "pygments_lexer": "ipython3",
   "version": "3.12.7"
  }
 },
 "nbformat": 4,
 "nbformat_minor": 5
}
