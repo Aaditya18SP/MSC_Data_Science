{
 "cells": [
  {
   "cell_type": "markdown",
   "metadata": {},
   "source": [
    "##### Name:"
   ]
  },
  {
   "cell_type": "code",
   "execution_count": null,
   "metadata": {},
   "outputs": [],
   "source": [
    "Aaditya Pal"
   ]
  },
  {
   "cell_type": "markdown",
   "metadata": {},
   "source": [
    "##### roll"
   ]
  },
  {
   "cell_type": "code",
   "execution_count": null,
   "metadata": {},
   "outputs": [],
   "source": []
  },
  {
   "cell_type": "markdown",
   "metadata": {},
   "source": [
    "##### Program"
   ]
  },
  {
   "cell_type": "code",
   "execution_count": null,
   "metadata": {},
   "outputs": [],
   "source": [
    "MSC(DS) Part-1"
   ]
  },
  {
   "cell_type": "markdown",
   "metadata": {},
   "source": [
    "##### 1. Add the two strings (use + operator)"
   ]
  },
  {
   "cell_type": "code",
   "execution_count": 1,
   "metadata": {},
   "outputs": [
    {
     "data": {
      "text/plain": [
       "'PythonAssignment'"
      ]
     },
     "execution_count": 1,
     "metadata": {},
     "output_type": "execute_result"
    }
   ],
   "source": [
    "string1 = \"Python\"\n",
    "string2 = \"Assignment\"\n",
    "string1+string2"
   ]
  },
  {
   "cell_type": "markdown",
   "metadata": {},
   "source": [
    "#### 2. Combine two stirng with space?(use + operator)"
   ]
  },
  {
   "cell_type": "code",
   "execution_count": 2,
   "metadata": {},
   "outputs": [
    {
     "data": {
      "text/plain": [
       "'Python Assignment'"
      ]
     },
     "execution_count": 2,
     "metadata": {},
     "output_type": "execute_result"
    }
   ],
   "source": [
    "string1 + \" \" + string2"
   ]
  },
  {
   "cell_type": "markdown",
   "metadata": {},
   "source": [
    "#### 3.  Assign same values for multiple variables?"
   ]
  },
  {
   "cell_type": "code",
   "execution_count": 6,
   "metadata": {},
   "outputs": [
    {
     "data": {
      "text/plain": [
       "1.79"
      ]
     },
     "execution_count": 6,
     "metadata": {},
     "output_type": "execute_result"
    }
   ],
   "source": [
    "height1 = height2 = height3 = 1.79\n",
    "height1 \n",
    "height2\n",
    "height3"
   ]
  },
  {
   "cell_type": "markdown",
   "metadata": {},
   "source": [
    "#### 4. Input The height and weight of a person and calculate BMI of a person?(weight/height*height) in kg/meter sq\n"
   ]
  },
  {
   "cell_type": "code",
   "execution_count": 5,
   "metadata": {},
   "outputs": [
    {
     "name": "stdin",
     "output_type": "stream",
     "text": [
      "Enter Height(meters): 1.8\n",
      "Enter weight(kgs): 65\n"
     ]
    },
    {
     "data": {
      "text/plain": [
       "'20.061728395061728 kg/meter sq'"
      ]
     },
     "execution_count": 5,
     "metadata": {},
     "output_type": "execute_result"
    }
   ],
   "source": [
    "height = float(input(\"Enter Height(meters):\"))\n",
    "weight = float(input(\"Enter weight(kgs):\"))\n",
    "bmi = weight/(height)**2\n",
    "str(bmi) + \" kg/meter sq\""
   ]
  },
  {
   "cell_type": "markdown",
   "metadata": {},
   "source": [
    "#### 5.Calculate area of circle = pi * r square"
   ]
  },
  {
   "cell_type": "code",
   "execution_count": 8,
   "metadata": {},
   "outputs": [
    {
     "name": "stdin",
     "output_type": "stream",
     "text": [
      "enter radius: 23\n"
     ]
    },
    {
     "data": {
      "text/plain": [
       "1661.0600000000002"
      ]
     },
     "execution_count": 8,
     "metadata": {},
     "output_type": "execute_result"
    }
   ],
   "source": [
    "radius = float(input(\"enter radius:\"))\n",
    "pi = 3.14\n",
    "pi*radius**2"
   ]
  },
  {
   "cell_type": "markdown",
   "metadata": {},
   "source": [
    "### IF Statement "
   ]
  },
  {
   "cell_type": "markdown",
   "metadata": {},
   "source": [
    "#### 1. x = 20 and y = 30. Write a code to find if x is less than y?"
   ]
  },
  {
   "cell_type": "code",
   "execution_count": null,
   "metadata": {},
   "outputs": [],
   "source": [
    "x = 20\n",
    "y = 30\n",
    "if x < y:\n",
    "    print(\"x is less than y\")\n",
    "elif x==y:\n",
    "    print(\"x and y are equal\")\n",
    "else:\n",
    "    print(\"x is greater than y\")"
   ]
  },
  {
   "cell_type": "markdown",
   "metadata": {},
   "source": [
    "# if-else Statement"
   ]
  },
  {
   "cell_type": "markdown",
   "metadata": {},
   "source": [
    "#### 1. Write a code to check if a student has passed a subject based on a string input (Yes, No)"
   ]
  },
  {
   "cell_type": "code",
   "execution_count": null,
   "metadata": {},
   "outputs": [],
   "source": [
    "passing_criteria = 40\n",
    "marks_obtained = float(input(\"Enter marks:\"))\n",
    "if marks_obtained >= passing_criteria:\n",
    "    print(\"Student Passed: Yes!\")\n",
    "else:\n",
    "    print(\"Student Passed: No :( \")"
   ]
  },
  {
   "cell_type": "markdown",
   "metadata": {},
   "source": [
    "#### 2. Take the password as an input and check if it is equal to 'great'. Show a message accordingly. Write a code for this."
   ]
  },
  {
   "cell_type": "code",
   "execution_count": null,
   "metadata": {},
   "outputs": [],
   "source": [
    "stored_pass = \"great\"\n",
    "input_pass = input(\"Enter password:\")\n",
    "if input_password == stored_pass:\n",
    "    print(\"Password match successful\")\n",
    "else:\n",
    "    print(\"Passwords do not match\")"
   ]
  },
  {
   "cell_type": "markdown",
   "metadata": {},
   "source": [
    "## Nested if Statement"
   ]
  },
  {
   "cell_type": "raw",
   "metadata": {},
   "source": [
    "1. Based on the users age, divide them in to three groups \n",
    "Group 1 : Age <18 , Minors who are not eligible to work\n",
    "Group 2 : 18<Age<60 , ELigible to work\n",
    "Group 3 : >60, Too old to work as per govt. regulations. \n",
    "\n",
    "Write a pseudocode for the same"
   ]
  },
  {
   "cell_type": "code",
   "execution_count": null,
   "metadata": {},
   "outputs": [],
   "source": [
    "\n",
    "\n",
    "user_age =  int(input(\"Enter age:\"))\n",
    "if user_age < 18:\n",
    "    print(\"Minors are not eligible for work\")\n",
    "elif user_age >= 18 and user_age <= 60:\n",
    "    print(\"Eligible to work\")\n",
    "else:\n",
    "    print(\"You have surpassed the age limit to work as per the govt. regulations\")\n",
    "    "
   ]
  }
 ],
 "metadata": {
  "kernelspec": {
   "display_name": "Python 3 (ipykernel)",
   "language": "python",
   "name": "python3"
  },
  "language_info": {
   "codemirror_mode": {
    "name": "ipython",
    "version": 3
   },
   "file_extension": ".py",
   "mimetype": "text/x-python",
   "name": "python",
   "nbconvert_exporter": "python",
   "pygments_lexer": "ipython3",
   "version": "3.12.7"
  }
 },
 "nbformat": 4,
 "nbformat_minor": 4
}
