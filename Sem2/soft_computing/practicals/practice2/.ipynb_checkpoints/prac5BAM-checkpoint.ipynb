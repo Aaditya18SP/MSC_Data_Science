{
 "cells": [
  {
   "cell_type": "code",
   "execution_count": 8,
   "id": "d8d19b31-72ae-4c3a-8262-519cbc66b973",
   "metadata": {},
   "outputs": [],
   "source": [
    "#BAM\n",
    "import numpy as np"
   ]
  },
  {
   "cell_type": "code",
   "execution_count": 11,
   "id": "2e8face2-2a8a-4b3e-8860-4b7e5b8be994",
   "metadata": {},
   "outputs": [
    {
     "data": {
      "text/plain": [
       "array([[-4.,  0.,  2.],\n",
       "       [ 0., -4., -2.]])"
      ]
     },
     "execution_count": 11,
     "metadata": {},
     "output_type": "execute_result"
    }
   ],
   "source": [
    "x = np.array([[1,-1],[1,1],[-1,-1], [-1,1]])\n",
    "y = np.array([[-1,1,1],[-1,-1,-1], [1,1,-1],[1,-1,-1]])\n",
    "\n",
    "weights = np.zeros((x.shape[1], y.shape[1]))\n",
    "\n",
    "for xw, yw in zip(x, y):\n",
    "    weights+=np.outer(xw,yw)\n",
    "\n",
    "weights"
   ]
  },
  {
   "cell_type": "code",
   "execution_count": 13,
   "id": "6344bce5-4847-4813-95af-724f7b4f1f47",
   "metadata": {},
   "outputs": [
    {
     "name": "stdout",
     "output_type": "stream",
     "text": [
      "Input vec: [ 1 -1]\n",
      "Y pred [-1.  1.  1.]\n",
      "X pred/Recalled memory [ 1. -1.]\n",
      "\n",
      "Input vec: [1 1]\n",
      "Y pred [-1. -1.  0.]\n",
      "X pred/Recalled memory [1. 1.]\n",
      "\n",
      "Input vec: [-1 -1]\n",
      "Y pred [1. 1. 0.]\n",
      "X pred/Recalled memory [-1. -1.]\n",
      "\n",
      "Input vec: [-1  1]\n",
      "Y pred [ 1. -1. -1.]\n",
      "X pred/Recalled memory [-1.  1.]\n",
      "\n"
     ]
    }
   ],
   "source": [
    "#inference\n",
    "for vec in x:\n",
    "    ypred = np.sign(np.dot(vec, weights))\n",
    "    xPred = np.sign(np.dot(ypred, weights.T))\n",
    "    print(\"Input vec:\", vec)\n",
    "    print(\"Y pred\", ypred)\n",
    "    print(\"X pred/Recalled memory\", xPred)\n",
    "    print()"
   ]
  },
  {
   "cell_type": "code",
   "execution_count": null,
   "id": "bada75cd-f214-4d98-968a-d360f3412a8d",
   "metadata": {},
   "outputs": [],
   "source": []
  }
 ],
 "metadata": {
  "kernelspec": {
   "display_name": "Python 3 (ipykernel)",
   "language": "python",
   "name": "python3"
  },
  "language_info": {
   "codemirror_mode": {
    "name": "ipython",
    "version": 3
   },
   "file_extension": ".py",
   "mimetype": "text/x-python",
   "name": "python",
   "nbconvert_exporter": "python",
   "pygments_lexer": "ipython3",
   "version": "3.12.7"
  }
 },
 "nbformat": 4,
 "nbformat_minor": 5
}
