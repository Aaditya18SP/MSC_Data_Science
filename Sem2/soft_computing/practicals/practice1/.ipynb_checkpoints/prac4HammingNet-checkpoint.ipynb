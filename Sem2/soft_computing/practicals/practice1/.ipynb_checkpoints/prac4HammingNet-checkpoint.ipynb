{
 "cells": [
  {
   "cell_type": "markdown",
   "id": "34d3190c-770c-475c-aae1-b0965cfa20af",
   "metadata": {},
   "source": [
    "# Theory\n",
    "- it is a single feed forward network\n",
    "- is a classification algorithm usually used for binary classification\n",
    "- the calculation formula at each output node is the same as any other ANN.\n",
    "- the weights are fixed\n",
    "\n",
    "# Steps\n",
    "1. given: exemplar vectors, inputs\n",
    "2. calculate the bias, bias = (number of input components)/2\n",
    "3. weights for output vectors =  exemplar vector weights/2\n",
    "4. calculate the output at each output neuron\n",
    "5. then take the max of the outputs and the input belongs to the class depicted by that neuron"
   ]
  },
  {
   "cell_type": "code",
   "execution_count": 7,
   "id": "420809df-0b94-48e2-996a-8c18ed03320b",
   "metadata": {},
   "outputs": [
    {
     "name": "stdout",
     "output_type": "stream",
     "text": [
      "Input vectors\n",
      " [[-1 -1 -1  1]\n",
      " [-1  1  1  1]\n",
      " [-1  1 -1  1]\n",
      " [ 1 -1 -1 -1]]\n",
      "\n",
      "Exemplars\n",
      " [[ 1 -1  1 -1]\n",
      " [ 1  1  1  1]]\n"
     ]
    }
   ],
   "source": [
    "import numpy as np\n",
    "import random\n",
    "\n",
    "#generate random input data\n",
    "inputVectors =[]\n",
    "exemplars =np.array([[1,-1,1,-1], [1,1,1,1]])\n",
    "for i in range(4):\n",
    "    temp=[]\n",
    "    for j in range(4):\n",
    "        num = random.randint(0,1)\n",
    "        temp.append(-1 if num<1 else 1)\n",
    "    inputVectors.append(temp)\n",
    "\n",
    "inputVectors=np.array(inputVectors)\n",
    "print(\"Input vectors\\n\",inputVectors)\n",
    "print()\n",
    "print(\"Exemplars\\n\",exemplars)\n",
    "        \n",
    "        "
   ]
  },
  {
   "cell_type": "code",
   "execution_count": 9,
   "id": "b2188c8f-02a4-4031-a564-77d1ed851ab6",
   "metadata": {},
   "outputs": [
    {
     "name": "stdout",
     "output_type": "stream",
     "text": [
      "bias 2\n",
      "weights\n",
      " [[ 0.5 -0.5  0.5 -0.5]\n",
      " [ 0.5  0.5  0.5  0.5]]\n"
     ]
    }
   ],
   "source": [
    "#calc bias\n",
    "bias = len(inputVectors)//2\n",
    "print(\"bias\", bias)\n",
    "\n",
    "#calc weight vectors\n",
    "weights = exemplars/2\n",
    "print(\"weights\\n\", weights)"
   ]
  },
  {
   "cell_type": "code",
   "execution_count": 12,
   "id": "a9b3bdcf-158a-4c77-a960-e5df7bf08d6c",
   "metadata": {},
   "outputs": [
    {
     "data": {
      "text/plain": [
       "array([[1., 1.],\n",
       "       [1., 3.],\n",
       "       [0., 2.],\n",
       "       [3., 1.]])"
      ]
     },
     "execution_count": 12,
     "metadata": {},
     "output_type": "execute_result"
    }
   ],
   "source": [
    "\n",
    "result = np.dot(inputVectors, weights.T )+bias\n",
    "result"
   ]
  },
  {
   "cell_type": "code",
   "execution_count": 17,
   "id": "829aefd3-4130-43c8-b395-6d2bd1d78c64",
   "metadata": {},
   "outputs": [
    {
     "data": {
      "text/plain": [
       "[(0, 1.0), (1, 3.0), (1, 2.0), (0, 3.0)]"
      ]
     },
     "execution_count": 17,
     "metadata": {},
     "output_type": "execute_result"
    }
   ],
   "source": [
    "chosenClasses = []\n",
    "rows, columns = result.shape\n",
    "\n",
    "for i in range(rows):\n",
    "    maxIdx =0\n",
    "    maxNum =0\n",
    "    for j in range(columns):\n",
    "        if result[i][j]> maxNum:\n",
    "            maxNum = result[i][j]\n",
    "            maxIdx = j\n",
    "    chosenClasses.append((maxIdx,maxNum))\n",
    "\n",
    "chosenClasses"
   ]
  },
  {
   "cell_type": "code",
   "execution_count": 18,
   "id": "fd4ce176-b01b-4f51-98b0-c47d7cd58ab0",
   "metadata": {},
   "outputs": [
    {
     "name": "stdout",
     "output_type": "stream",
     "text": [
      "Input 1 belongs to class 0\n",
      "Input 2 belongs to class 1\n",
      "Input 3 belongs to class 1\n",
      "Input 4 belongs to class 0\n"
     ]
    }
   ],
   "source": [
    "for idx, val in enumerate(chosenClasses):\n",
    "    print(f\"Input {idx+1} belongs to class {val[0]}\")"
   ]
  },
  {
   "cell_type": "code",
   "execution_count": null,
   "id": "7181477f-d711-45c3-8398-f3e9add92598",
   "metadata": {},
   "outputs": [],
   "source": []
  }
 ],
 "metadata": {
  "kernelspec": {
   "display_name": "Python 3 (ipykernel)",
   "language": "python",
   "name": "python3"
  },
  "language_info": {
   "codemirror_mode": {
    "name": "ipython",
    "version": 3
   },
   "file_extension": ".py",
   "mimetype": "text/x-python",
   "name": "python",
   "nbconvert_exporter": "python",
   "pygments_lexer": "ipython3",
   "version": "3.12.7"
  }
 },
 "nbformat": 4,
 "nbformat_minor": 5
}
