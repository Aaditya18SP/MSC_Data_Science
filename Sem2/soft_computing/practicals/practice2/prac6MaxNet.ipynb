{
 "cells": [
  {
   "cell_type": "code",
   "execution_count": 3,
   "id": "fa955e50-6eca-4cdb-a1b3-2612fe7ec274",
   "metadata": {},
   "outputs": [
    {
     "name": "stdout",
     "output_type": "stream",
     "text": [
      "[0, 0.2, 0.5, 0.5, 0.86, 0.56]\n",
      "[0, 0, 0.5, 0.5, 0.86, 0.56]\n",
      "[0, 0, 0, 0.5, 0.86, 0.56]\n",
      "[0, 0, 0, 0, 0.86, 0.56]\n",
      "[0, 0, 0, 0, 0.36, 0.56]\n",
      "[0, 0, 0, 0, 0.36, 0.24]\n",
      "[0, 0, 0, 0, 0.36, 0.24]\n",
      "[0, 0, 0, 0, 0.36, 0.24]\n",
      "[0, 0, 0, 0, 0.36, 0.24]\n",
      "[0, 0, 0, 0, 0.36, 0.24]\n",
      "[0, 0, 0, 0, 0.14, 0.24]\n",
      "[0, 0, 0, 0, 0.14, 0.11]\n",
      "[0, 0, 0, 0, 0.14, 0.11]\n",
      "[0, 0, 0, 0, 0.14, 0.11]\n",
      "[0, 0, 0, 0, 0.14, 0.11]\n",
      "[0, 0, 0, 0, 0.14, 0.11]\n",
      "[0, 0, 0, 0, 0.04, 0.11]\n",
      "[0, 0, 0, 0, 0.04, 0.07]\n",
      "[0, 0, 0, 0, 0.04, 0.07]\n",
      "[0, 0, 0, 0, 0.04, 0.07]\n",
      "[0, 0, 0, 0, 0.04, 0.07]\n",
      "[0, 0, 0, 0, 0.04, 0.07]\n",
      "[0, 0, 0, 0, 0, 0.07]\n",
      "[0, 0, 0, 0, 0, 0.07]\n"
     ]
    }
   ],
   "source": [
    "import numpy as np\n",
    "\n",
    "activations =[0.6, 0.2,0.5,0.5, 0.86, 0.56]\n",
    "epsilon =0.9\n",
    "\n",
    "def nonZeroCount(act):\n",
    "    cnt = 0\n",
    "    for a in act:\n",
    "        if a >0:\n",
    "            cnt+=1\n",
    "    return cnt\n",
    "\n",
    "while nonZeroCount(activations) >1:\n",
    "    for idx, act in enumerate(activations):\n",
    "        val=0\n",
    "        if(act>0):\n",
    "            val = round(act - (epsilon* sum([a for jdx, a in enumerate(activations) if idx!=jdx])),2)\n",
    "        if(val<0):\n",
    "            val =0\n",
    "        activations[idx] = val\n",
    "        print(activations)"
   ]
  },
  {
   "cell_type": "code",
   "execution_count": null,
   "id": "8b1f5d21-5f4d-4b3f-a819-369e106923c7",
   "metadata": {},
   "outputs": [],
   "source": []
  }
 ],
 "metadata": {
  "kernelspec": {
   "display_name": "Python 3 (ipykernel)",
   "language": "python",
   "name": "python3"
  },
  "language_info": {
   "codemirror_mode": {
    "name": "ipython",
    "version": 3
   },
   "file_extension": ".py",
   "mimetype": "text/x-python",
   "name": "python",
   "nbconvert_exporter": "python",
   "pygments_lexer": "ipython3",
   "version": "3.12.7"
  }
 },
 "nbformat": 4,
 "nbformat_minor": 5
}
