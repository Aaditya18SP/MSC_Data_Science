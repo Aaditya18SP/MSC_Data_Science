{
 "cells": [
  {
   "cell_type": "code",
   "execution_count": 2,
   "id": "e75e6143-6f98-47b7-b2bd-fe4019662222",
   "metadata": {},
   "outputs": [
    {
     "name": "stderr",
     "output_type": "stream",
     "text": [
      "\n",
      "A module that was compiled using NumPy 1.x cannot be run in\n",
      "NumPy 2.2.6 as it may crash. To support both 1.x and 2.x\n",
      "versions of NumPy, modules must be compiled with NumPy 2.0.\n",
      "Some module may need to rebuild instead e.g. with 'pybind11>=2.12'.\n",
      "\n",
      "If you are a user of the module, the easiest solution will be to\n",
      "downgrade to 'numpy<2' or try to upgrade the affected module.\n",
      "We expect that some modules will need time to support NumPy 2.\n",
      "\n",
      "Traceback (most recent call last):  File \"<frozen runpy>\", line 198, in _run_module_as_main\n",
      "  File \"<frozen runpy>\", line 88, in _run_code\n",
      "  File \"/home/aadityapal/.conda/envs/notebook/lib/python3.12/site-packages/ipykernel_launcher.py\", line 17, in <module>\n",
      "    app.launch_new_instance()\n",
      "  File \"/home/aadityapal/.conda/envs/notebook/lib/python3.12/site-packages/traitlets/config/application.py\", line 1075, in launch_instance\n",
      "    app.start()\n",
      "  File \"/home/aadityapal/.conda/envs/notebook/lib/python3.12/site-packages/ipykernel/kernelapp.py\", line 701, in start\n",
      "    self.io_loop.start()\n",
      "  File \"/home/aadityapal/.conda/envs/notebook/lib/python3.12/site-packages/tornado/platform/asyncio.py\", line 205, in start\n",
      "    self.asyncio_loop.run_forever()\n",
      "  File \"/home/aadityapal/.conda/envs/notebook/lib/python3.12/asyncio/base_events.py\", line 641, in run_forever\n",
      "    self._run_once()\n",
      "  File \"/home/aadityapal/.conda/envs/notebook/lib/python3.12/asyncio/base_events.py\", line 1986, in _run_once\n",
      "    handle._run()\n",
      "  File \"/home/aadityapal/.conda/envs/notebook/lib/python3.12/asyncio/events.py\", line 88, in _run\n",
      "    self._context.run(self._callback, *self._args)\n",
      "  File \"/home/aadityapal/.conda/envs/notebook/lib/python3.12/site-packages/ipykernel/kernelbase.py\", line 534, in dispatch_queue\n",
      "    await self.process_one()\n",
      "  File \"/home/aadityapal/.conda/envs/notebook/lib/python3.12/site-packages/ipykernel/kernelbase.py\", line 523, in process_one\n",
      "    await dispatch(*args)\n",
      "  File \"/home/aadityapal/.conda/envs/notebook/lib/python3.12/site-packages/ipykernel/kernelbase.py\", line 429, in dispatch_shell\n",
      "    await result\n",
      "  File \"/home/aadityapal/.conda/envs/notebook/lib/python3.12/site-packages/ipykernel/kernelbase.py\", line 767, in execute_request\n",
      "    reply_content = await reply_content\n",
      "  File \"/home/aadityapal/.conda/envs/notebook/lib/python3.12/site-packages/ipykernel/ipkernel.py\", line 429, in do_execute\n",
      "    res = shell.run_cell(\n",
      "  File \"/home/aadityapal/.conda/envs/notebook/lib/python3.12/site-packages/ipykernel/zmqshell.py\", line 549, in run_cell\n",
      "    return super().run_cell(*args, **kwargs)\n",
      "  File \"/home/aadityapal/.conda/envs/notebook/lib/python3.12/site-packages/IPython/core/interactiveshell.py\", line 3075, in run_cell\n",
      "    result = self._run_cell(\n",
      "  File \"/home/aadityapal/.conda/envs/notebook/lib/python3.12/site-packages/IPython/core/interactiveshell.py\", line 3130, in _run_cell\n",
      "    result = runner(coro)\n",
      "  File \"/home/aadityapal/.conda/envs/notebook/lib/python3.12/site-packages/IPython/core/async_helpers.py\", line 128, in _pseudo_sync_runner\n",
      "    coro.send(None)\n",
      "  File \"/home/aadityapal/.conda/envs/notebook/lib/python3.12/site-packages/IPython/core/interactiveshell.py\", line 3334, in run_cell_async\n",
      "    has_raised = await self.run_ast_nodes(code_ast.body, cell_name,\n",
      "  File \"/home/aadityapal/.conda/envs/notebook/lib/python3.12/site-packages/IPython/core/interactiveshell.py\", line 3517, in run_ast_nodes\n",
      "    if await self.run_code(code, result, async_=asy):\n",
      "  File \"/home/aadityapal/.conda/envs/notebook/lib/python3.12/site-packages/IPython/core/interactiveshell.py\", line 3577, in run_code\n",
      "    exec(code_obj, self.user_global_ns, self.user_ns)\n",
      "  File \"/tmp/ipykernel_34209/2820194950.py\", line 2, in <module>\n",
      "    import pandas as pd\n",
      "  File \"/home/aadityapal/.conda/envs/notebook/lib/python3.12/site-packages/pandas/__init__.py\", line 26, in <module>\n",
      "    from pandas.compat import (\n",
      "  File \"/home/aadityapal/.conda/envs/notebook/lib/python3.12/site-packages/pandas/compat/__init__.py\", line 27, in <module>\n",
      "    from pandas.compat.pyarrow import (\n",
      "  File \"/home/aadityapal/.conda/envs/notebook/lib/python3.12/site-packages/pandas/compat/pyarrow.py\", line 8, in <module>\n",
      "    import pyarrow as pa\n",
      "  File \"/home/aadityapal/.conda/envs/notebook/lib/python3.12/site-packages/pyarrow/__init__.py\", line 65, in <module>\n",
      "    import pyarrow.lib as _lib\n"
     ]
    },
    {
     "ename": "ImportError",
     "evalue": "\nA module that was compiled using NumPy 1.x cannot be run in\nNumPy 2.2.6 as it may crash. To support both 1.x and 2.x\nversions of NumPy, modules must be compiled with NumPy 2.0.\nSome module may need to rebuild instead e.g. with 'pybind11>=2.12'.\n\nIf you are a user of the module, the easiest solution will be to\ndowngrade to 'numpy<2' or try to upgrade the affected module.\nWe expect that some modules will need time to support NumPy 2.\n\n",
     "output_type": "error",
     "traceback": [
      "\u001b[0;31m---------------------------------------------------------------------------\u001b[0m",
      "\u001b[0;31mImportError\u001b[0m                               Traceback (most recent call last)",
      "File \u001b[0;32m~/.conda/envs/notebook/lib/python3.12/site-packages/numpy/core/_multiarray_umath.py:44\u001b[0m, in \u001b[0;36m__getattr__\u001b[0;34m(attr_name)\u001b[0m\n\u001b[1;32m     39\u001b[0m     \u001b[38;5;66;03m# Also print the message (with traceback).  This is because old versions\u001b[39;00m\n\u001b[1;32m     40\u001b[0m     \u001b[38;5;66;03m# of NumPy unfortunately set up the import to replace (and hide) the\u001b[39;00m\n\u001b[1;32m     41\u001b[0m     \u001b[38;5;66;03m# error.  The traceback shouldn't be needed, but e.g. pytest plugins\u001b[39;00m\n\u001b[1;32m     42\u001b[0m     \u001b[38;5;66;03m# seem to swallow it and we should be failing anyway...\u001b[39;00m\n\u001b[1;32m     43\u001b[0m     sys\u001b[38;5;241m.\u001b[39mstderr\u001b[38;5;241m.\u001b[39mwrite(msg \u001b[38;5;241m+\u001b[39m tb_msg)\n\u001b[0;32m---> 44\u001b[0m     \u001b[38;5;28;01mraise\u001b[39;00m \u001b[38;5;167;01mImportError\u001b[39;00m(msg)\n\u001b[1;32m     46\u001b[0m ret \u001b[38;5;241m=\u001b[39m \u001b[38;5;28mgetattr\u001b[39m(_multiarray_umath, attr_name, \u001b[38;5;28;01mNone\u001b[39;00m)\n\u001b[1;32m     47\u001b[0m \u001b[38;5;28;01mif\u001b[39;00m ret \u001b[38;5;129;01mis\u001b[39;00m \u001b[38;5;28;01mNone\u001b[39;00m:\n",
      "\u001b[0;31mImportError\u001b[0m: \nA module that was compiled using NumPy 1.x cannot be run in\nNumPy 2.2.6 as it may crash. To support both 1.x and 2.x\nversions of NumPy, modules must be compiled with NumPy 2.0.\nSome module may need to rebuild instead e.g. with 'pybind11>=2.12'.\n\nIf you are a user of the module, the easiest solution will be to\ndowngrade to 'numpy<2' or try to upgrade the affected module.\nWe expect that some modules will need time to support NumPy 2.\n\n"
     ]
    },
    {
     "name": "stderr",
     "output_type": "stream",
     "text": [
      "\n",
      "A module that was compiled using NumPy 1.x cannot be run in\n",
      "NumPy 2.2.6 as it may crash. To support both 1.x and 2.x\n",
      "versions of NumPy, modules must be compiled with NumPy 2.0.\n",
      "Some module may need to rebuild instead e.g. with 'pybind11>=2.12'.\n",
      "\n",
      "If you are a user of the module, the easiest solution will be to\n",
      "downgrade to 'numpy<2' or try to upgrade the affected module.\n",
      "We expect that some modules will need time to support NumPy 2.\n",
      "\n",
      "Traceback (most recent call last):  File \"<frozen runpy>\", line 198, in _run_module_as_main\n",
      "  File \"<frozen runpy>\", line 88, in _run_code\n",
      "  File \"/home/aadityapal/.conda/envs/notebook/lib/python3.12/site-packages/ipykernel_launcher.py\", line 17, in <module>\n",
      "    app.launch_new_instance()\n",
      "  File \"/home/aadityapal/.conda/envs/notebook/lib/python3.12/site-packages/traitlets/config/application.py\", line 1075, in launch_instance\n",
      "    app.start()\n",
      "  File \"/home/aadityapal/.conda/envs/notebook/lib/python3.12/site-packages/ipykernel/kernelapp.py\", line 701, in start\n",
      "    self.io_loop.start()\n",
      "  File \"/home/aadityapal/.conda/envs/notebook/lib/python3.12/site-packages/tornado/platform/asyncio.py\", line 205, in start\n",
      "    self.asyncio_loop.run_forever()\n",
      "  File \"/home/aadityapal/.conda/envs/notebook/lib/python3.12/asyncio/base_events.py\", line 641, in run_forever\n",
      "    self._run_once()\n",
      "  File \"/home/aadityapal/.conda/envs/notebook/lib/python3.12/asyncio/base_events.py\", line 1986, in _run_once\n",
      "    handle._run()\n",
      "  File \"/home/aadityapal/.conda/envs/notebook/lib/python3.12/asyncio/events.py\", line 88, in _run\n",
      "    self._context.run(self._callback, *self._args)\n",
      "  File \"/home/aadityapal/.conda/envs/notebook/lib/python3.12/site-packages/ipykernel/kernelbase.py\", line 534, in dispatch_queue\n",
      "    await self.process_one()\n",
      "  File \"/home/aadityapal/.conda/envs/notebook/lib/python3.12/site-packages/ipykernel/kernelbase.py\", line 523, in process_one\n",
      "    await dispatch(*args)\n",
      "  File \"/home/aadityapal/.conda/envs/notebook/lib/python3.12/site-packages/ipykernel/kernelbase.py\", line 429, in dispatch_shell\n",
      "    await result\n",
      "  File \"/home/aadityapal/.conda/envs/notebook/lib/python3.12/site-packages/ipykernel/kernelbase.py\", line 767, in execute_request\n",
      "    reply_content = await reply_content\n",
      "  File \"/home/aadityapal/.conda/envs/notebook/lib/python3.12/site-packages/ipykernel/ipkernel.py\", line 429, in do_execute\n",
      "    res = shell.run_cell(\n",
      "  File \"/home/aadityapal/.conda/envs/notebook/lib/python3.12/site-packages/ipykernel/zmqshell.py\", line 549, in run_cell\n",
      "    return super().run_cell(*args, **kwargs)\n",
      "  File \"/home/aadityapal/.conda/envs/notebook/lib/python3.12/site-packages/IPython/core/interactiveshell.py\", line 3075, in run_cell\n",
      "    result = self._run_cell(\n",
      "  File \"/home/aadityapal/.conda/envs/notebook/lib/python3.12/site-packages/IPython/core/interactiveshell.py\", line 3130, in _run_cell\n",
      "    result = runner(coro)\n",
      "  File \"/home/aadityapal/.conda/envs/notebook/lib/python3.12/site-packages/IPython/core/async_helpers.py\", line 128, in _pseudo_sync_runner\n",
      "    coro.send(None)\n",
      "  File \"/home/aadityapal/.conda/envs/notebook/lib/python3.12/site-packages/IPython/core/interactiveshell.py\", line 3334, in run_cell_async\n",
      "    has_raised = await self.run_ast_nodes(code_ast.body, cell_name,\n",
      "  File \"/home/aadityapal/.conda/envs/notebook/lib/python3.12/site-packages/IPython/core/interactiveshell.py\", line 3517, in run_ast_nodes\n",
      "    if await self.run_code(code, result, async_=asy):\n",
      "  File \"/home/aadityapal/.conda/envs/notebook/lib/python3.12/site-packages/IPython/core/interactiveshell.py\", line 3577, in run_code\n",
      "    exec(code_obj, self.user_global_ns, self.user_ns)\n",
      "  File \"/tmp/ipykernel_34209/2820194950.py\", line 2, in <module>\n",
      "    import pandas as pd\n",
      "  File \"/home/aadityapal/.conda/envs/notebook/lib/python3.12/site-packages/pandas/__init__.py\", line 49, in <module>\n",
      "    from pandas.core.api import (\n",
      "  File \"/home/aadityapal/.conda/envs/notebook/lib/python3.12/site-packages/pandas/core/api.py\", line 9, in <module>\n",
      "    from pandas.core.dtypes.dtypes import (\n",
      "  File \"/home/aadityapal/.conda/envs/notebook/lib/python3.12/site-packages/pandas/core/dtypes/dtypes.py\", line 24, in <module>\n",
      "    from pandas._libs import (\n",
      "  File \"/home/aadityapal/.conda/envs/notebook/lib/python3.12/site-packages/pyarrow/__init__.py\", line 65, in <module>\n",
      "    import pyarrow.lib as _lib\n"
     ]
    },
    {
     "ename": "ImportError",
     "evalue": "\nA module that was compiled using NumPy 1.x cannot be run in\nNumPy 2.2.6 as it may crash. To support both 1.x and 2.x\nversions of NumPy, modules must be compiled with NumPy 2.0.\nSome module may need to rebuild instead e.g. with 'pybind11>=2.12'.\n\nIf you are a user of the module, the easiest solution will be to\ndowngrade to 'numpy<2' or try to upgrade the affected module.\nWe expect that some modules will need time to support NumPy 2.\n\n",
     "output_type": "error",
     "traceback": [
      "\u001b[0;31m---------------------------------------------------------------------------\u001b[0m",
      "\u001b[0;31mImportError\u001b[0m                               Traceback (most recent call last)",
      "File \u001b[0;32m~/.conda/envs/notebook/lib/python3.12/site-packages/numpy/core/_multiarray_umath.py:44\u001b[0m, in \u001b[0;36m__getattr__\u001b[0;34m(attr_name)\u001b[0m\n\u001b[1;32m     39\u001b[0m     \u001b[38;5;66;03m# Also print the message (with traceback).  This is because old versions\u001b[39;00m\n\u001b[1;32m     40\u001b[0m     \u001b[38;5;66;03m# of NumPy unfortunately set up the import to replace (and hide) the\u001b[39;00m\n\u001b[1;32m     41\u001b[0m     \u001b[38;5;66;03m# error.  The traceback shouldn't be needed, but e.g. pytest plugins\u001b[39;00m\n\u001b[1;32m     42\u001b[0m     \u001b[38;5;66;03m# seem to swallow it and we should be failing anyway...\u001b[39;00m\n\u001b[1;32m     43\u001b[0m     sys\u001b[38;5;241m.\u001b[39mstderr\u001b[38;5;241m.\u001b[39mwrite(msg \u001b[38;5;241m+\u001b[39m tb_msg)\n\u001b[0;32m---> 44\u001b[0m     \u001b[38;5;28;01mraise\u001b[39;00m \u001b[38;5;167;01mImportError\u001b[39;00m(msg)\n\u001b[1;32m     46\u001b[0m ret \u001b[38;5;241m=\u001b[39m \u001b[38;5;28mgetattr\u001b[39m(_multiarray_umath, attr_name, \u001b[38;5;28;01mNone\u001b[39;00m)\n\u001b[1;32m     47\u001b[0m \u001b[38;5;28;01mif\u001b[39;00m ret \u001b[38;5;129;01mis\u001b[39;00m \u001b[38;5;28;01mNone\u001b[39;00m:\n",
      "\u001b[0;31mImportError\u001b[0m: \nA module that was compiled using NumPy 1.x cannot be run in\nNumPy 2.2.6 as it may crash. To support both 1.x and 2.x\nversions of NumPy, modules must be compiled with NumPy 2.0.\nSome module may need to rebuild instead e.g. with 'pybind11>=2.12'.\n\nIf you are a user of the module, the easiest solution will be to\ndowngrade to 'numpy<2' or try to upgrade the affected module.\nWe expect that some modules will need time to support NumPy 2.\n\n"
     ]
    }
   ],
   "source": [
    "import numpy as np\n",
    "import pandas as pd\n",
    "import nltk\n",
    "from nltk.stem import PorterStemmer\n",
    "from nltk.tokenize import word_tokenize,RegexpTokenizer\n",
    "from nltk.corpus import stopwords\n",
    "from nltk.stem.wordnet import WordNetLemmatizer\n",
    "from wordcloud import WordCloud"
   ]
  },
  {
   "cell_type": "code",
   "execution_count": 3,
   "id": "4762965b-8f0f-4916-8ca8-9b4fbbd45ae0",
   "metadata": {},
   "outputs": [
    {
     "data": {
      "text/html": [
       "<div>\n",
       "<style scoped>\n",
       "    .dataframe tbody tr th:only-of-type {\n",
       "        vertical-align: middle;\n",
       "    }\n",
       "\n",
       "    .dataframe tbody tr th {\n",
       "        vertical-align: top;\n",
       "    }\n",
       "\n",
       "    .dataframe thead th {\n",
       "        text-align: right;\n",
       "    }\n",
       "</style>\n",
       "<table border=\"1\" class=\"dataframe\">\n",
       "  <thead>\n",
       "    <tr style=\"text-align: right;\">\n",
       "      <th></th>\n",
       "      <th>Unnamed: 0</th>\n",
       "      <th>statement</th>\n",
       "      <th>status</th>\n",
       "    </tr>\n",
       "  </thead>\n",
       "  <tbody>\n",
       "    <tr>\n",
       "      <th>0</th>\n",
       "      <td>0</td>\n",
       "      <td>oh my gosh</td>\n",
       "      <td>Anxiety</td>\n",
       "    </tr>\n",
       "    <tr>\n",
       "      <th>1</th>\n",
       "      <td>1</td>\n",
       "      <td>trouble sleeping, confused mind, restless hear...</td>\n",
       "      <td>Anxiety</td>\n",
       "    </tr>\n",
       "    <tr>\n",
       "      <th>2</th>\n",
       "      <td>2</td>\n",
       "      <td>All wrong, back off dear, forward doubt. Stay ...</td>\n",
       "      <td>Anxiety</td>\n",
       "    </tr>\n",
       "    <tr>\n",
       "      <th>3</th>\n",
       "      <td>3</td>\n",
       "      <td>I've shifted my focus to something else but I'...</td>\n",
       "      <td>Anxiety</td>\n",
       "    </tr>\n",
       "    <tr>\n",
       "      <th>4</th>\n",
       "      <td>4</td>\n",
       "      <td>I'm restless and restless, it's been a month n...</td>\n",
       "      <td>Anxiety</td>\n",
       "    </tr>\n",
       "  </tbody>\n",
       "</table>\n",
       "</div>"
      ],
      "text/plain": [
       "   Unnamed: 0                                          statement   status\n",
       "0           0                                         oh my gosh  Anxiety\n",
       "1           1  trouble sleeping, confused mind, restless hear...  Anxiety\n",
       "2           2  All wrong, back off dear, forward doubt. Stay ...  Anxiety\n",
       "3           3  I've shifted my focus to something else but I'...  Anxiety\n",
       "4           4  I'm restless and restless, it's been a month n...  Anxiety"
      ]
     },
     "execution_count": 3,
     "metadata": {},
     "output_type": "execute_result"
    }
   ],
   "source": [
    "data = pd.read_csv(\"./data.csv\")\n",
    "data.head()"
   ]
  },
  {
   "cell_type": "code",
   "execution_count": 4,
   "id": "deec0c21-3c91-4e81-9ad9-84de7c71bbee",
   "metadata": {},
   "outputs": [
    {
     "data": {
      "text/plain": [
       "Index(['Unnamed: 0', 'statement', 'status'], dtype='object')"
      ]
     },
     "execution_count": 4,
     "metadata": {},
     "output_type": "execute_result"
    }
   ],
   "source": [
    "data.columns"
   ]
  },
  {
   "cell_type": "code",
   "execution_count": 5,
   "id": "25d89557-5103-4152-b2eb-19160819e6a9",
   "metadata": {},
   "outputs": [
    {
     "data": {
      "text/html": [
       "<div>\n",
       "<style scoped>\n",
       "    .dataframe tbody tr th:only-of-type {\n",
       "        vertical-align: middle;\n",
       "    }\n",
       "\n",
       "    .dataframe tbody tr th {\n",
       "        vertical-align: top;\n",
       "    }\n",
       "\n",
       "    .dataframe thead th {\n",
       "        text-align: right;\n",
       "    }\n",
       "</style>\n",
       "<table border=\"1\" class=\"dataframe\">\n",
       "  <thead>\n",
       "    <tr style=\"text-align: right;\">\n",
       "      <th></th>\n",
       "      <th>statement</th>\n",
       "      <th>status</th>\n",
       "    </tr>\n",
       "  </thead>\n",
       "  <tbody>\n",
       "    <tr>\n",
       "      <th>0</th>\n",
       "      <td>oh my gosh</td>\n",
       "      <td>Anxiety</td>\n",
       "    </tr>\n",
       "    <tr>\n",
       "      <th>1</th>\n",
       "      <td>trouble sleeping, confused mind, restless hear...</td>\n",
       "      <td>Anxiety</td>\n",
       "    </tr>\n",
       "    <tr>\n",
       "      <th>2</th>\n",
       "      <td>All wrong, back off dear, forward doubt. Stay ...</td>\n",
       "      <td>Anxiety</td>\n",
       "    </tr>\n",
       "    <tr>\n",
       "      <th>3</th>\n",
       "      <td>I've shifted my focus to something else but I'...</td>\n",
       "      <td>Anxiety</td>\n",
       "    </tr>\n",
       "    <tr>\n",
       "      <th>4</th>\n",
       "      <td>I'm restless and restless, it's been a month n...</td>\n",
       "      <td>Anxiety</td>\n",
       "    </tr>\n",
       "  </tbody>\n",
       "</table>\n",
       "</div>"
      ],
      "text/plain": [
       "                                           statement   status\n",
       "0                                         oh my gosh  Anxiety\n",
       "1  trouble sleeping, confused mind, restless hear...  Anxiety\n",
       "2  All wrong, back off dear, forward doubt. Stay ...  Anxiety\n",
       "3  I've shifted my focus to something else but I'...  Anxiety\n",
       "4  I'm restless and restless, it's been a month n...  Anxiety"
      ]
     },
     "execution_count": 5,
     "metadata": {},
     "output_type": "execute_result"
    }
   ],
   "source": [
    "data =data.drop(\"Unnamed: 0\", axis=1)\n",
    "data.head()"
   ]
  },
  {
   "cell_type": "code",
   "execution_count": 6,
   "id": "7d5edb69-960d-410c-9cd4-d6a6f6983ab0",
   "metadata": {},
   "outputs": [],
   "source": [
    "nltk_download_dir=\"/home/aadityapal/.conda/envs/notebook/nltk_data\""
   ]
  },
  {
   "cell_type": "code",
   "execution_count": 7,
   "id": "738dfcc4-739e-448f-9370-0e5d2010fe16",
   "metadata": {},
   "outputs": [
    {
     "name": "stderr",
     "output_type": "stream",
     "text": [
      "[nltk_data] Downloading package punkt_tab to\n",
      "[nltk_data]     /home/aadityapal/.conda/envs/notebook/nltk_data...\n",
      "[nltk_data]   Package punkt_tab is already up-to-date!\n"
     ]
    },
    {
     "data": {
      "text/plain": [
       "True"
      ]
     },
     "execution_count": 7,
     "metadata": {},
     "output_type": "execute_result"
    }
   ],
   "source": [
    "\n",
    "nltk.download(\"punkt_tab\",download_dir=nltk_download_dir)"
   ]
  },
  {
   "cell_type": "code",
   "execution_count": 8,
   "id": "6a657697-8477-441b-91a1-9c79f9047638",
   "metadata": {},
   "outputs": [
    {
     "data": {
      "text/plain": [
       "status\n",
       "Normal                  16351\n",
       "Depression              15404\n",
       "Suicidal                10653\n",
       "Anxiety                  3888\n",
       "Bipolar                  2877\n",
       "Stress                   2669\n",
       "Personality disorder     1201\n",
       "Name: count, dtype: int64"
      ]
     },
     "execution_count": 8,
     "metadata": {},
     "output_type": "execute_result"
    }
   ],
   "source": [
    "data[\"status\"].value_counts()"
   ]
  },
  {
   "cell_type": "code",
   "execution_count": 9,
   "id": "37d5017b-47b0-4557-82fb-3b3fb5408142",
   "metadata": {},
   "outputs": [
    {
     "data": {
      "text/plain": [
       "statement    362\n",
       "status         0\n",
       "dtype: int64"
      ]
     },
     "execution_count": 9,
     "metadata": {},
     "output_type": "execute_result"
    }
   ],
   "source": [
    "data.isna().sum()"
   ]
  },
  {
   "cell_type": "code",
   "execution_count": 10,
   "id": "8f1ebcf5-d3fc-4b94-b74b-0d1aa1a4d9da",
   "metadata": {},
   "outputs": [],
   "source": [
    "data = data.dropna()"
   ]
  },
  {
   "cell_type": "markdown",
   "id": "61c360b1-f5d3-4e1f-ad1f-9e41b653e35c",
   "metadata": {},
   "source": [
    "# Tokenizer"
   ]
  },
  {
   "cell_type": "code",
   "execution_count": 11,
   "id": "afa24ecd-accc-4acc-84fb-ed53300daf20",
   "metadata": {},
   "outputs": [
    {
     "data": {
      "text/html": [
       "<div>\n",
       "<style scoped>\n",
       "    .dataframe tbody tr th:only-of-type {\n",
       "        vertical-align: middle;\n",
       "    }\n",
       "\n",
       "    .dataframe tbody tr th {\n",
       "        vertical-align: top;\n",
       "    }\n",
       "\n",
       "    .dataframe thead th {\n",
       "        text-align: right;\n",
       "    }\n",
       "</style>\n",
       "<table border=\"1\" class=\"dataframe\">\n",
       "  <thead>\n",
       "    <tr style=\"text-align: right;\">\n",
       "      <th></th>\n",
       "      <th>statement</th>\n",
       "      <th>status</th>\n",
       "      <th>word</th>\n",
       "    </tr>\n",
       "  </thead>\n",
       "  <tbody>\n",
       "    <tr>\n",
       "      <th>0</th>\n",
       "      <td>oh my gosh</td>\n",
       "      <td>Anxiety</td>\n",
       "      <td>[oh, my, gosh]</td>\n",
       "    </tr>\n",
       "    <tr>\n",
       "      <th>1</th>\n",
       "      <td>trouble sleeping, confused mind, restless hear...</td>\n",
       "      <td>Anxiety</td>\n",
       "      <td>[trouble, sleeping, ,, confused, mind, ,, rest...</td>\n",
       "    </tr>\n",
       "    <tr>\n",
       "      <th>2</th>\n",
       "      <td>All wrong, back off dear, forward doubt. Stay ...</td>\n",
       "      <td>Anxiety</td>\n",
       "      <td>[All, wrong, ,, back, off, dear, ,, forward, d...</td>\n",
       "    </tr>\n",
       "    <tr>\n",
       "      <th>3</th>\n",
       "      <td>I've shifted my focus to something else but I'...</td>\n",
       "      <td>Anxiety</td>\n",
       "      <td>[I, 've, shifted, my, focus, to, something, el...</td>\n",
       "    </tr>\n",
       "    <tr>\n",
       "      <th>4</th>\n",
       "      <td>I'm restless and restless, it's been a month n...</td>\n",
       "      <td>Anxiety</td>\n",
       "      <td>[I, 'm, restless, and, restless, ,, it, 's, be...</td>\n",
       "    </tr>\n",
       "  </tbody>\n",
       "</table>\n",
       "</div>"
      ],
      "text/plain": [
       "                                           statement   status  \\\n",
       "0                                         oh my gosh  Anxiety   \n",
       "1  trouble sleeping, confused mind, restless hear...  Anxiety   \n",
       "2  All wrong, back off dear, forward doubt. Stay ...  Anxiety   \n",
       "3  I've shifted my focus to something else but I'...  Anxiety   \n",
       "4  I'm restless and restless, it's been a month n...  Anxiety   \n",
       "\n",
       "                                                word  \n",
       "0                                     [oh, my, gosh]  \n",
       "1  [trouble, sleeping, ,, confused, mind, ,, rest...  \n",
       "2  [All, wrong, ,, back, off, dear, ,, forward, d...  \n",
       "3  [I, 've, shifted, my, focus, to, something, el...  \n",
       "4  [I, 'm, restless, and, restless, ,, it, 's, be...  "
      ]
     },
     "execution_count": 11,
     "metadata": {},
     "output_type": "execute_result"
    }
   ],
   "source": [
    "word_list =[]\n",
    "for word in data[\"statement\"]:\n",
    "    word_list.append(word_tokenize(word))\n",
    "\n",
    "data[\"word\"]=word_list\n",
    "data.head()"
   ]
  },
  {
   "cell_type": "markdown",
   "id": "8239b1c4-ca97-4ba0-a309-57a65db39b29",
   "metadata": {},
   "source": [
    "## remove punctuation"
   ]
  },
  {
   "cell_type": "code",
   "execution_count": 12,
   "id": "d00e25bd-56ce-4e38-ad88-64512a293d18",
   "metadata": {},
   "outputs": [
    {
     "data": {
      "text/html": [
       "<div>\n",
       "<style scoped>\n",
       "    .dataframe tbody tr th:only-of-type {\n",
       "        vertical-align: middle;\n",
       "    }\n",
       "\n",
       "    .dataframe tbody tr th {\n",
       "        vertical-align: top;\n",
       "    }\n",
       "\n",
       "    .dataframe thead th {\n",
       "        text-align: right;\n",
       "    }\n",
       "</style>\n",
       "<table border=\"1\" class=\"dataframe\">\n",
       "  <thead>\n",
       "    <tr style=\"text-align: right;\">\n",
       "      <th></th>\n",
       "      <th>statement</th>\n",
       "      <th>status</th>\n",
       "      <th>word</th>\n",
       "      <th>no_punct_word</th>\n",
       "    </tr>\n",
       "  </thead>\n",
       "  <tbody>\n",
       "    <tr>\n",
       "      <th>0</th>\n",
       "      <td>oh my gosh</td>\n",
       "      <td>Anxiety</td>\n",
       "      <td>[oh, my, gosh]</td>\n",
       "      <td>[oh, my, gosh]</td>\n",
       "    </tr>\n",
       "    <tr>\n",
       "      <th>1</th>\n",
       "      <td>trouble sleeping, confused mind, restless hear...</td>\n",
       "      <td>Anxiety</td>\n",
       "      <td>[trouble, sleeping, ,, confused, mind, ,, rest...</td>\n",
       "      <td>[trouble, sleeping, confused, mind, restless, ...</td>\n",
       "    </tr>\n",
       "    <tr>\n",
       "      <th>2</th>\n",
       "      <td>All wrong, back off dear, forward doubt. Stay ...</td>\n",
       "      <td>Anxiety</td>\n",
       "      <td>[All, wrong, ,, back, off, dear, ,, forward, d...</td>\n",
       "      <td>[all, wrong, back, off, dear, forward, doubt, ...</td>\n",
       "    </tr>\n",
       "    <tr>\n",
       "      <th>3</th>\n",
       "      <td>I've shifted my focus to something else but I'...</td>\n",
       "      <td>Anxiety</td>\n",
       "      <td>[I, 've, shifted, my, focus, to, something, el...</td>\n",
       "      <td>[i, ve, shifted, my, focus, to, something, els...</td>\n",
       "    </tr>\n",
       "    <tr>\n",
       "      <th>4</th>\n",
       "      <td>I'm restless and restless, it's been a month n...</td>\n",
       "      <td>Anxiety</td>\n",
       "      <td>[I, 'm, restless, and, restless, ,, it, 's, be...</td>\n",
       "      <td>[i, m, restless, and, restless, it, s, been, a...</td>\n",
       "    </tr>\n",
       "  </tbody>\n",
       "</table>\n",
       "</div>"
      ],
      "text/plain": [
       "                                           statement   status  \\\n",
       "0                                         oh my gosh  Anxiety   \n",
       "1  trouble sleeping, confused mind, restless hear...  Anxiety   \n",
       "2  All wrong, back off dear, forward doubt. Stay ...  Anxiety   \n",
       "3  I've shifted my focus to something else but I'...  Anxiety   \n",
       "4  I'm restless and restless, it's been a month n...  Anxiety   \n",
       "\n",
       "                                                word  \\\n",
       "0                                     [oh, my, gosh]   \n",
       "1  [trouble, sleeping, ,, confused, mind, ,, rest...   \n",
       "2  [All, wrong, ,, back, off, dear, ,, forward, d...   \n",
       "3  [I, 've, shifted, my, focus, to, something, el...   \n",
       "4  [I, 'm, restless, and, restless, ,, it, 's, be...   \n",
       "\n",
       "                                       no_punct_word  \n",
       "0                                     [oh, my, gosh]  \n",
       "1  [trouble, sleeping, confused, mind, restless, ...  \n",
       "2  [all, wrong, back, off, dear, forward, doubt, ...  \n",
       "3  [i, ve, shifted, my, focus, to, something, els...  \n",
       "4  [i, m, restless, and, restless, it, s, been, a...  "
      ]
     },
     "execution_count": 12,
     "metadata": {},
     "output_type": "execute_result"
    }
   ],
   "source": [
    "no_punct=[]\n",
    "for word in data[\"statement\"]:\n",
    "    no_punct.append(RegexpTokenizer(\"[A-Z]|[a-z]+\").tokenize(word.lower()))\n",
    "data[\"no_punct_word\"]=no_punct\n",
    "data.head()"
   ]
  },
  {
   "cell_type": "code",
   "execution_count": 13,
   "id": "593ad4d7-f598-4b4e-a645-48a062287069",
   "metadata": {},
   "outputs": [
    {
     "name": "stderr",
     "output_type": "stream",
     "text": [
      "[nltk_data] Downloading package stopwords to\n",
      "[nltk_data]     /home/aadityapal/.conda/envs/notebook/nltk_data...\n",
      "[nltk_data]   Package stopwords is already up-to-date!\n"
     ]
    },
    {
     "data": {
      "text/plain": [
       "True"
      ]
     },
     "execution_count": 13,
     "metadata": {},
     "output_type": "execute_result"
    }
   ],
   "source": [
    "nltk.download(\"stopwords\", download_dir=nltk_download_dir)"
   ]
  },
  {
   "cell_type": "code",
   "execution_count": 14,
   "id": "b5144f5e-05fa-4f9d-a038-59627eac20e1",
   "metadata": {},
   "outputs": [
    {
     "data": {
      "text/html": [
       "<div>\n",
       "<style scoped>\n",
       "    .dataframe tbody tr th:only-of-type {\n",
       "        vertical-align: middle;\n",
       "    }\n",
       "\n",
       "    .dataframe tbody tr th {\n",
       "        vertical-align: top;\n",
       "    }\n",
       "\n",
       "    .dataframe thead th {\n",
       "        text-align: right;\n",
       "    }\n",
       "</style>\n",
       "<table border=\"1\" class=\"dataframe\">\n",
       "  <thead>\n",
       "    <tr style=\"text-align: right;\">\n",
       "      <th></th>\n",
       "      <th>statement</th>\n",
       "      <th>status</th>\n",
       "      <th>word</th>\n",
       "      <th>no_punct_word</th>\n",
       "      <th>no_stopword</th>\n",
       "    </tr>\n",
       "  </thead>\n",
       "  <tbody>\n",
       "    <tr>\n",
       "      <th>0</th>\n",
       "      <td>oh my gosh</td>\n",
       "      <td>Anxiety</td>\n",
       "      <td>[oh, my, gosh]</td>\n",
       "      <td>[oh, my, gosh]</td>\n",
       "      <td>[oh, gosh]</td>\n",
       "    </tr>\n",
       "    <tr>\n",
       "      <th>1</th>\n",
       "      <td>trouble sleeping, confused mind, restless hear...</td>\n",
       "      <td>Anxiety</td>\n",
       "      <td>[trouble, sleeping, ,, confused, mind, ,, rest...</td>\n",
       "      <td>[trouble, sleeping, confused, mind, restless, ...</td>\n",
       "      <td>[trouble, sleeping, confused, mind, restless, ...</td>\n",
       "    </tr>\n",
       "    <tr>\n",
       "      <th>2</th>\n",
       "      <td>All wrong, back off dear, forward doubt. Stay ...</td>\n",
       "      <td>Anxiety</td>\n",
       "      <td>[All, wrong, ,, back, off, dear, ,, forward, d...</td>\n",
       "      <td>[all, wrong, back, off, dear, forward, doubt, ...</td>\n",
       "      <td>[wrong, back, dear, forward, doubt, stay, rest...</td>\n",
       "    </tr>\n",
       "    <tr>\n",
       "      <th>3</th>\n",
       "      <td>I've shifted my focus to something else but I'...</td>\n",
       "      <td>Anxiety</td>\n",
       "      <td>[I, 've, shifted, my, focus, to, something, el...</td>\n",
       "      <td>[i, ve, shifted, my, focus, to, something, els...</td>\n",
       "      <td>[shifted, focus, something, else, still, worried]</td>\n",
       "    </tr>\n",
       "    <tr>\n",
       "      <th>4</th>\n",
       "      <td>I'm restless and restless, it's been a month n...</td>\n",
       "      <td>Anxiety</td>\n",
       "      <td>[I, 'm, restless, and, restless, ,, it, 's, be...</td>\n",
       "      <td>[i, m, restless, and, restless, it, s, been, a...</td>\n",
       "      <td>[restless, restless, month, boy, mean]</td>\n",
       "    </tr>\n",
       "  </tbody>\n",
       "</table>\n",
       "</div>"
      ],
      "text/plain": [
       "                                           statement   status  \\\n",
       "0                                         oh my gosh  Anxiety   \n",
       "1  trouble sleeping, confused mind, restless hear...  Anxiety   \n",
       "2  All wrong, back off dear, forward doubt. Stay ...  Anxiety   \n",
       "3  I've shifted my focus to something else but I'...  Anxiety   \n",
       "4  I'm restless and restless, it's been a month n...  Anxiety   \n",
       "\n",
       "                                                word  \\\n",
       "0                                     [oh, my, gosh]   \n",
       "1  [trouble, sleeping, ,, confused, mind, ,, rest...   \n",
       "2  [All, wrong, ,, back, off, dear, ,, forward, d...   \n",
       "3  [I, 've, shifted, my, focus, to, something, el...   \n",
       "4  [I, 'm, restless, and, restless, ,, it, 's, be...   \n",
       "\n",
       "                                       no_punct_word  \\\n",
       "0                                     [oh, my, gosh]   \n",
       "1  [trouble, sleeping, confused, mind, restless, ...   \n",
       "2  [all, wrong, back, off, dear, forward, doubt, ...   \n",
       "3  [i, ve, shifted, my, focus, to, something, els...   \n",
       "4  [i, m, restless, and, restless, it, s, been, a...   \n",
       "\n",
       "                                         no_stopword  \n",
       "0                                         [oh, gosh]  \n",
       "1  [trouble, sleeping, confused, mind, restless, ...  \n",
       "2  [wrong, back, dear, forward, doubt, stay, rest...  \n",
       "3  [shifted, focus, something, else, still, worried]  \n",
       "4             [restless, restless, month, boy, mean]  "
      ]
     },
     "execution_count": 14,
     "metadata": {},
     "output_type": "execute_result"
    }
   ],
   "source": [
    "no_stop_words = []\n",
    "for wordArr in data[\"no_punct_word\"]:\n",
    "    currentRow=[]\n",
    "    for word in wordArr:\n",
    "        if word not in stopwords.words(\"english\"):\n",
    "            currentRow.append(word)\n",
    "    no_stop_words.append(currentRow)\n",
    "data[\"no_stopword\"]=no_stop_words\n",
    "data.head()"
   ]
  },
  {
   "cell_type": "code",
   "execution_count": 15,
   "id": "63e462e4-62ae-4c88-a7df-f32396386c01",
   "metadata": {},
   "outputs": [],
   "source": [
    "#lemmatization"
   ]
  },
  {
   "cell_type": "code",
   "execution_count": 16,
   "id": "8d04ca43-b49b-4f48-bb34-1e62f121ce64",
   "metadata": {},
   "outputs": [
    {
     "name": "stderr",
     "output_type": "stream",
     "text": [
      "[nltk_data] Downloading package wordnet to\n",
      "[nltk_data]     /home/aadityapal/.conda/envs/notebook/nltk_data...\n",
      "[nltk_data]   Package wordnet is already up-to-date!\n"
     ]
    },
    {
     "data": {
      "text/plain": [
       "True"
      ]
     },
     "execution_count": 16,
     "metadata": {},
     "output_type": "execute_result"
    }
   ],
   "source": [
    "nltk.download(\"wordnet\", download_dir=nltk_download_dir)"
   ]
  },
  {
   "cell_type": "code",
   "execution_count": 17,
   "id": "5b231ad8-764d-409a-89d0-5f5372d4b08b",
   "metadata": {},
   "outputs": [
    {
     "data": {
      "text/html": [
       "<div>\n",
       "<style scoped>\n",
       "    .dataframe tbody tr th:only-of-type {\n",
       "        vertical-align: middle;\n",
       "    }\n",
       "\n",
       "    .dataframe tbody tr th {\n",
       "        vertical-align: top;\n",
       "    }\n",
       "\n",
       "    .dataframe thead th {\n",
       "        text-align: right;\n",
       "    }\n",
       "</style>\n",
       "<table border=\"1\" class=\"dataframe\">\n",
       "  <thead>\n",
       "    <tr style=\"text-align: right;\">\n",
       "      <th></th>\n",
       "      <th>statement</th>\n",
       "      <th>status</th>\n",
       "      <th>word</th>\n",
       "      <th>no_punct_word</th>\n",
       "      <th>no_stopword</th>\n",
       "      <th>word_lemma</th>\n",
       "    </tr>\n",
       "  </thead>\n",
       "  <tbody>\n",
       "    <tr>\n",
       "      <th>0</th>\n",
       "      <td>oh my gosh</td>\n",
       "      <td>Anxiety</td>\n",
       "      <td>[oh, my, gosh]</td>\n",
       "      <td>[oh, my, gosh]</td>\n",
       "      <td>[oh, gosh]</td>\n",
       "      <td>[oh, gosh]</td>\n",
       "    </tr>\n",
       "    <tr>\n",
       "      <th>1</th>\n",
       "      <td>trouble sleeping, confused mind, restless hear...</td>\n",
       "      <td>Anxiety</td>\n",
       "      <td>[trouble, sleeping, ,, confused, mind, ,, rest...</td>\n",
       "      <td>[trouble, sleeping, confused, mind, restless, ...</td>\n",
       "      <td>[trouble, sleeping, confused, mind, restless, ...</td>\n",
       "      <td>[trouble, sleeping, confused, mind, restless, ...</td>\n",
       "    </tr>\n",
       "    <tr>\n",
       "      <th>2</th>\n",
       "      <td>All wrong, back off dear, forward doubt. Stay ...</td>\n",
       "      <td>Anxiety</td>\n",
       "      <td>[All, wrong, ,, back, off, dear, ,, forward, d...</td>\n",
       "      <td>[all, wrong, back, off, dear, forward, doubt, ...</td>\n",
       "      <td>[wrong, back, dear, forward, doubt, stay, rest...</td>\n",
       "      <td>[wrong, back, dear, forward, doubt, stay, rest...</td>\n",
       "    </tr>\n",
       "    <tr>\n",
       "      <th>3</th>\n",
       "      <td>I've shifted my focus to something else but I'...</td>\n",
       "      <td>Anxiety</td>\n",
       "      <td>[I, 've, shifted, my, focus, to, something, el...</td>\n",
       "      <td>[i, ve, shifted, my, focus, to, something, els...</td>\n",
       "      <td>[shifted, focus, something, else, still, worried]</td>\n",
       "      <td>[shifted, focus, something, else, still, worried]</td>\n",
       "    </tr>\n",
       "    <tr>\n",
       "      <th>4</th>\n",
       "      <td>I'm restless and restless, it's been a month n...</td>\n",
       "      <td>Anxiety</td>\n",
       "      <td>[I, 'm, restless, and, restless, ,, it, 's, be...</td>\n",
       "      <td>[i, m, restless, and, restless, it, s, been, a...</td>\n",
       "      <td>[restless, restless, month, boy, mean]</td>\n",
       "      <td>[restless, restless, month, boy, mean]</td>\n",
       "    </tr>\n",
       "  </tbody>\n",
       "</table>\n",
       "</div>"
      ],
      "text/plain": [
       "                                           statement   status  \\\n",
       "0                                         oh my gosh  Anxiety   \n",
       "1  trouble sleeping, confused mind, restless hear...  Anxiety   \n",
       "2  All wrong, back off dear, forward doubt. Stay ...  Anxiety   \n",
       "3  I've shifted my focus to something else but I'...  Anxiety   \n",
       "4  I'm restless and restless, it's been a month n...  Anxiety   \n",
       "\n",
       "                                                word  \\\n",
       "0                                     [oh, my, gosh]   \n",
       "1  [trouble, sleeping, ,, confused, mind, ,, rest...   \n",
       "2  [All, wrong, ,, back, off, dear, ,, forward, d...   \n",
       "3  [I, 've, shifted, my, focus, to, something, el...   \n",
       "4  [I, 'm, restless, and, restless, ,, it, 's, be...   \n",
       "\n",
       "                                       no_punct_word  \\\n",
       "0                                     [oh, my, gosh]   \n",
       "1  [trouble, sleeping, confused, mind, restless, ...   \n",
       "2  [all, wrong, back, off, dear, forward, doubt, ...   \n",
       "3  [i, ve, shifted, my, focus, to, something, els...   \n",
       "4  [i, m, restless, and, restless, it, s, been, a...   \n",
       "\n",
       "                                         no_stopword  \\\n",
       "0                                         [oh, gosh]   \n",
       "1  [trouble, sleeping, confused, mind, restless, ...   \n",
       "2  [wrong, back, dear, forward, doubt, stay, rest...   \n",
       "3  [shifted, focus, something, else, still, worried]   \n",
       "4             [restless, restless, month, boy, mean]   \n",
       "\n",
       "                                          word_lemma  \n",
       "0                                         [oh, gosh]  \n",
       "1  [trouble, sleeping, confused, mind, restless, ...  \n",
       "2  [wrong, back, dear, forward, doubt, stay, rest...  \n",
       "3  [shifted, focus, something, else, still, worried]  \n",
       "4             [restless, restless, month, boy, mean]  "
      ]
     },
     "execution_count": 17,
     "metadata": {},
     "output_type": "execute_result"
    }
   ],
   "source": [
    "word_lemma=[]\n",
    "for wordArr in data[\"no_stopword\"]:\n",
    "    row=[]\n",
    "    for word in wordArr:\n",
    "        row.append(WordNetLemmatizer().lemmatize(word))\n",
    "    word_lemma.append(row)\n",
    "data[\"word_lemma\"]=word_lemma\n",
    "data.head()"
   ]
  },
  {
   "cell_type": "code",
   "execution_count": 18,
   "id": "0dcd7b7d-e415-4d9f-8852-ac503fb1e4b3",
   "metadata": {},
   "outputs": [
    {
     "name": "stderr",
     "output_type": "stream",
     "text": [
      "[nltk_data] Downloading package averaged_perceptron_tagger_eng to\n",
      "[nltk_data]     /home/aadityapal/.conda/envs/notebook/nltk_data...\n",
      "[nltk_data]   Package averaged_perceptron_tagger_eng is already up-to-\n",
      "[nltk_data]       date!\n"
     ]
    },
    {
     "data": {
      "text/plain": [
       "True"
      ]
     },
     "execution_count": 18,
     "metadata": {},
     "output_type": "execute_result"
    }
   ],
   "source": [
    "nltk.download(\"averaged_perceptron_tagger_eng\", download_dir=nltk_download_dir)"
   ]
  },
  {
   "cell_type": "code",
   "execution_count": 19,
   "id": "2018c1f0-db0a-426a-8646-9f4338ebb800",
   "metadata": {},
   "outputs": [
    {
     "data": {
      "text/html": [
       "<div>\n",
       "<style scoped>\n",
       "    .dataframe tbody tr th:only-of-type {\n",
       "        vertical-align: middle;\n",
       "    }\n",
       "\n",
       "    .dataframe tbody tr th {\n",
       "        vertical-align: top;\n",
       "    }\n",
       "\n",
       "    .dataframe thead th {\n",
       "        text-align: right;\n",
       "    }\n",
       "</style>\n",
       "<table border=\"1\" class=\"dataframe\">\n",
       "  <thead>\n",
       "    <tr style=\"text-align: right;\">\n",
       "      <th></th>\n",
       "      <th>statement</th>\n",
       "      <th>status</th>\n",
       "      <th>word</th>\n",
       "      <th>no_punct_word</th>\n",
       "      <th>no_stopword</th>\n",
       "      <th>word_lemma</th>\n",
       "      <th>pos_tag</th>\n",
       "    </tr>\n",
       "  </thead>\n",
       "  <tbody>\n",
       "    <tr>\n",
       "      <th>0</th>\n",
       "      <td>oh my gosh</td>\n",
       "      <td>Anxiety</td>\n",
       "      <td>[oh, my, gosh]</td>\n",
       "      <td>[oh, my, gosh]</td>\n",
       "      <td>[oh, gosh]</td>\n",
       "      <td>[oh, gosh]</td>\n",
       "      <td>[(oh, UH), (gosh, NN)]</td>\n",
       "    </tr>\n",
       "    <tr>\n",
       "      <th>1</th>\n",
       "      <td>trouble sleeping, confused mind, restless hear...</td>\n",
       "      <td>Anxiety</td>\n",
       "      <td>[trouble, sleeping, ,, confused, mind, ,, rest...</td>\n",
       "      <td>[trouble, sleeping, confused, mind, restless, ...</td>\n",
       "      <td>[trouble, sleeping, confused, mind, restless, ...</td>\n",
       "      <td>[trouble, sleeping, confused, mind, restless, ...</td>\n",
       "      <td>[(trouble, NN), (sleeping, VBG), (confused, VB...</td>\n",
       "    </tr>\n",
       "    <tr>\n",
       "      <th>2</th>\n",
       "      <td>All wrong, back off dear, forward doubt. Stay ...</td>\n",
       "      <td>Anxiety</td>\n",
       "      <td>[All, wrong, ,, back, off, dear, ,, forward, d...</td>\n",
       "      <td>[all, wrong, back, off, dear, forward, doubt, ...</td>\n",
       "      <td>[wrong, back, dear, forward, doubt, stay, rest...</td>\n",
       "      <td>[wrong, back, dear, forward, doubt, stay, rest...</td>\n",
       "      <td>[(wrong, JJ), (back, RB), (dear, JJ), (forward...</td>\n",
       "    </tr>\n",
       "    <tr>\n",
       "      <th>3</th>\n",
       "      <td>I've shifted my focus to something else but I'...</td>\n",
       "      <td>Anxiety</td>\n",
       "      <td>[I, 've, shifted, my, focus, to, something, el...</td>\n",
       "      <td>[i, ve, shifted, my, focus, to, something, els...</td>\n",
       "      <td>[shifted, focus, something, else, still, worried]</td>\n",
       "      <td>[shifted, focus, something, else, still, worried]</td>\n",
       "      <td>[(shifted, VBN), (focus, NN), (something, NN),...</td>\n",
       "    </tr>\n",
       "    <tr>\n",
       "      <th>4</th>\n",
       "      <td>I'm restless and restless, it's been a month n...</td>\n",
       "      <td>Anxiety</td>\n",
       "      <td>[I, 'm, restless, and, restless, ,, it, 's, be...</td>\n",
       "      <td>[i, m, restless, and, restless, it, s, been, a...</td>\n",
       "      <td>[restless, restless, month, boy, mean]</td>\n",
       "      <td>[restless, restless, month, boy, mean]</td>\n",
       "      <td>[(restless, JJ), (restless, JJ), (month, NN), ...</td>\n",
       "    </tr>\n",
       "  </tbody>\n",
       "</table>\n",
       "</div>"
      ],
      "text/plain": [
       "                                           statement   status  \\\n",
       "0                                         oh my gosh  Anxiety   \n",
       "1  trouble sleeping, confused mind, restless hear...  Anxiety   \n",
       "2  All wrong, back off dear, forward doubt. Stay ...  Anxiety   \n",
       "3  I've shifted my focus to something else but I'...  Anxiety   \n",
       "4  I'm restless and restless, it's been a month n...  Anxiety   \n",
       "\n",
       "                                                word  \\\n",
       "0                                     [oh, my, gosh]   \n",
       "1  [trouble, sleeping, ,, confused, mind, ,, rest...   \n",
       "2  [All, wrong, ,, back, off, dear, ,, forward, d...   \n",
       "3  [I, 've, shifted, my, focus, to, something, el...   \n",
       "4  [I, 'm, restless, and, restless, ,, it, 's, be...   \n",
       "\n",
       "                                       no_punct_word  \\\n",
       "0                                     [oh, my, gosh]   \n",
       "1  [trouble, sleeping, confused, mind, restless, ...   \n",
       "2  [all, wrong, back, off, dear, forward, doubt, ...   \n",
       "3  [i, ve, shifted, my, focus, to, something, els...   \n",
       "4  [i, m, restless, and, restless, it, s, been, a...   \n",
       "\n",
       "                                         no_stopword  \\\n",
       "0                                         [oh, gosh]   \n",
       "1  [trouble, sleeping, confused, mind, restless, ...   \n",
       "2  [wrong, back, dear, forward, doubt, stay, rest...   \n",
       "3  [shifted, focus, something, else, still, worried]   \n",
       "4             [restless, restless, month, boy, mean]   \n",
       "\n",
       "                                          word_lemma  \\\n",
       "0                                         [oh, gosh]   \n",
       "1  [trouble, sleeping, confused, mind, restless, ...   \n",
       "2  [wrong, back, dear, forward, doubt, stay, rest...   \n",
       "3  [shifted, focus, something, else, still, worried]   \n",
       "4             [restless, restless, month, boy, mean]   \n",
       "\n",
       "                                             pos_tag  \n",
       "0                             [(oh, UH), (gosh, NN)]  \n",
       "1  [(trouble, NN), (sleeping, VBG), (confused, VB...  \n",
       "2  [(wrong, JJ), (back, RB), (dear, JJ), (forward...  \n",
       "3  [(shifted, VBN), (focus, NN), (something, NN),...  \n",
       "4  [(restless, JJ), (restless, JJ), (month, NN), ...  "
      ]
     },
     "execution_count": 19,
     "metadata": {},
     "output_type": "execute_result"
    }
   ],
   "source": [
    "word_tag =[]\n",
    "for wordArr in data[\"word_lemma\"]:\n",
    "    word_tag.append(nltk.pos_tag(wordArr))\n",
    "data[\"pos_tag\"]= word_tag\n",
    "data.head()"
   ]
  },
  {
   "cell_type": "code",
   "execution_count": 20,
   "id": "67fba48e-03cf-4849-aa25-fe0c5acd8a53",
   "metadata": {},
   "outputs": [
    {
     "data": {
      "text/html": [
       "<div>\n",
       "<style scoped>\n",
       "    .dataframe tbody tr th:only-of-type {\n",
       "        vertical-align: middle;\n",
       "    }\n",
       "\n",
       "    .dataframe tbody tr th {\n",
       "        vertical-align: top;\n",
       "    }\n",
       "\n",
       "    .dataframe thead th {\n",
       "        text-align: right;\n",
       "    }\n",
       "</style>\n",
       "<table border=\"1\" class=\"dataframe\">\n",
       "  <thead>\n",
       "    <tr style=\"text-align: right;\">\n",
       "      <th></th>\n",
       "      <th>statement</th>\n",
       "      <th>status</th>\n",
       "      <th>word</th>\n",
       "      <th>no_punct_word</th>\n",
       "      <th>no_stopword</th>\n",
       "      <th>word_lemma</th>\n",
       "      <th>pos_tag</th>\n",
       "      <th>noun_tag</th>\n",
       "    </tr>\n",
       "  </thead>\n",
       "  <tbody>\n",
       "    <tr>\n",
       "      <th>0</th>\n",
       "      <td>oh my gosh</td>\n",
       "      <td>Anxiety</td>\n",
       "      <td>[oh, my, gosh]</td>\n",
       "      <td>[oh, my, gosh]</td>\n",
       "      <td>[oh, gosh]</td>\n",
       "      <td>[oh, gosh]</td>\n",
       "      <td>[(oh, UH), (gosh, NN)]</td>\n",
       "      <td>[gosh]</td>\n",
       "    </tr>\n",
       "    <tr>\n",
       "      <th>1</th>\n",
       "      <td>trouble sleeping, confused mind, restless hear...</td>\n",
       "      <td>Anxiety</td>\n",
       "      <td>[trouble, sleeping, ,, confused, mind, ,, rest...</td>\n",
       "      <td>[trouble, sleeping, confused, mind, restless, ...</td>\n",
       "      <td>[trouble, sleeping, confused, mind, restless, ...</td>\n",
       "      <td>[trouble, sleeping, confused, mind, restless, ...</td>\n",
       "      <td>[(trouble, NN), (sleeping, VBG), (confused, VB...</td>\n",
       "      <td>[trouble, mind, heart, tune]</td>\n",
       "    </tr>\n",
       "    <tr>\n",
       "      <th>2</th>\n",
       "      <td>All wrong, back off dear, forward doubt. Stay ...</td>\n",
       "      <td>Anxiety</td>\n",
       "      <td>[All, wrong, ,, back, off, dear, ,, forward, d...</td>\n",
       "      <td>[all, wrong, back, off, dear, forward, doubt, ...</td>\n",
       "      <td>[wrong, back, dear, forward, doubt, stay, rest...</td>\n",
       "      <td>[wrong, back, dear, forward, doubt, stay, rest...</td>\n",
       "      <td>[(wrong, JJ), (back, RB), (dear, JJ), (forward...</td>\n",
       "      <td>[forward, doubt, restless, place]</td>\n",
       "    </tr>\n",
       "    <tr>\n",
       "      <th>3</th>\n",
       "      <td>I've shifted my focus to something else but I'...</td>\n",
       "      <td>Anxiety</td>\n",
       "      <td>[I, 've, shifted, my, focus, to, something, el...</td>\n",
       "      <td>[i, ve, shifted, my, focus, to, something, els...</td>\n",
       "      <td>[shifted, focus, something, else, still, worried]</td>\n",
       "      <td>[shifted, focus, something, else, still, worried]</td>\n",
       "      <td>[(shifted, VBN), (focus, NN), (something, NN),...</td>\n",
       "      <td>[focus, something]</td>\n",
       "    </tr>\n",
       "    <tr>\n",
       "      <th>4</th>\n",
       "      <td>I'm restless and restless, it's been a month n...</td>\n",
       "      <td>Anxiety</td>\n",
       "      <td>[I, 'm, restless, and, restless, ,, it, 's, be...</td>\n",
       "      <td>[i, m, restless, and, restless, it, s, been, a...</td>\n",
       "      <td>[restless, restless, month, boy, mean]</td>\n",
       "      <td>[restless, restless, month, boy, mean]</td>\n",
       "      <td>[(restless, JJ), (restless, JJ), (month, NN), ...</td>\n",
       "      <td>[month, mean]</td>\n",
       "    </tr>\n",
       "  </tbody>\n",
       "</table>\n",
       "</div>"
      ],
      "text/plain": [
       "                                           statement   status  \\\n",
       "0                                         oh my gosh  Anxiety   \n",
       "1  trouble sleeping, confused mind, restless hear...  Anxiety   \n",
       "2  All wrong, back off dear, forward doubt. Stay ...  Anxiety   \n",
       "3  I've shifted my focus to something else but I'...  Anxiety   \n",
       "4  I'm restless and restless, it's been a month n...  Anxiety   \n",
       "\n",
       "                                                word  \\\n",
       "0                                     [oh, my, gosh]   \n",
       "1  [trouble, sleeping, ,, confused, mind, ,, rest...   \n",
       "2  [All, wrong, ,, back, off, dear, ,, forward, d...   \n",
       "3  [I, 've, shifted, my, focus, to, something, el...   \n",
       "4  [I, 'm, restless, and, restless, ,, it, 's, be...   \n",
       "\n",
       "                                       no_punct_word  \\\n",
       "0                                     [oh, my, gosh]   \n",
       "1  [trouble, sleeping, confused, mind, restless, ...   \n",
       "2  [all, wrong, back, off, dear, forward, doubt, ...   \n",
       "3  [i, ve, shifted, my, focus, to, something, els...   \n",
       "4  [i, m, restless, and, restless, it, s, been, a...   \n",
       "\n",
       "                                         no_stopword  \\\n",
       "0                                         [oh, gosh]   \n",
       "1  [trouble, sleeping, confused, mind, restless, ...   \n",
       "2  [wrong, back, dear, forward, doubt, stay, rest...   \n",
       "3  [shifted, focus, something, else, still, worried]   \n",
       "4             [restless, restless, month, boy, mean]   \n",
       "\n",
       "                                          word_lemma  \\\n",
       "0                                         [oh, gosh]   \n",
       "1  [trouble, sleeping, confused, mind, restless, ...   \n",
       "2  [wrong, back, dear, forward, doubt, stay, rest...   \n",
       "3  [shifted, focus, something, else, still, worried]   \n",
       "4             [restless, restless, month, boy, mean]   \n",
       "\n",
       "                                             pos_tag  \\\n",
       "0                             [(oh, UH), (gosh, NN)]   \n",
       "1  [(trouble, NN), (sleeping, VBG), (confused, VB...   \n",
       "2  [(wrong, JJ), (back, RB), (dear, JJ), (forward...   \n",
       "3  [(shifted, VBN), (focus, NN), (something, NN),...   \n",
       "4  [(restless, JJ), (restless, JJ), (month, NN), ...   \n",
       "\n",
       "                            noun_tag  \n",
       "0                             [gosh]  \n",
       "1       [trouble, mind, heart, tune]  \n",
       "2  [forward, doubt, restless, place]  \n",
       "3                 [focus, something]  \n",
       "4                      [month, mean]  "
      ]
     },
     "execution_count": 20,
     "metadata": {},
     "output_type": "execute_result"
    }
   ],
   "source": [
    "noun_tag=[]\n",
    "for wordArr in data[\"pos_tag\"]:\n",
    "    pos_row=[]\n",
    "    for (word,pos) in wordArr:\n",
    "        if pos.startswith(\"NN\"):\n",
    "            pos_row.append(word)\n",
    "    noun_tag.append(pos_row)\n",
    "data[\"noun_tag\"]= noun_tag\n",
    "data.head()"
   ]
  },
  {
   "cell_type": "code",
   "execution_count": 21,
   "id": "14a6577e-1506-4270-81d8-ba3032f7d4bb",
   "metadata": {},
   "outputs": [],
   "source": [
    "## generate word cloud"
   ]
  },
  {
   "cell_type": "code",
   "execution_count": 22,
   "id": "afd85ea5-1d10-46d3-a736-237a88227801",
   "metadata": {},
   "outputs": [
    {
     "name": "stdout",
     "output_type": "stream",
     "text": [
      "0                                                     gosh\n",
      "1                                  trouble,mind,heart,tune\n",
      "2                             forward,doubt,restless,place\n",
      "3                                          focus,something\n",
      "4                                               month,mean\n",
      "                               ...                        \n",
      "53038    nobody,depression,anxiety,year,people,money,ca...\n",
      "53039    selfishness,world,ruin,mood,try,people,people,...\n",
      "53040                                       way,night,help\n",
      "53041    tip,hi,presentation,work,week,minute,attendanc...\n",
      "53042    door,anxiety,door,something,door,way,way,peopl...\n",
      "Name: noun_tag, Length: 52681, dtype: object\n"
     ]
    }
   ],
   "source": [
    "\n",
    "wordList =data[\"noun_tag\"].map(lambda x : \",\".join(x))\n",
    "print(wordList)\n",
    "words=\",\".join(wordList)\n",
    "#words"
   ]
  },
  {
   "cell_type": "code",
   "execution_count": 23,
   "id": "e9dead71-c139-48d5-ac57-c95c762a21ce",
   "metadata": {},
   "outputs": [
    {
     "data": {
      "text/plain": [
       "<wordcloud.wordcloud.WordCloud at 0x7fc176a7faa0>"
      ]
     },
     "execution_count": 23,
     "metadata": {},
     "output_type": "execute_result"
    }
   ],
   "source": [
    "wc= WordCloud(background_color=\"black\", max_words=5000, contour_color=\"blue\")\n",
    "wc.generate(words)\n"
   ]
  },
  {
   "cell_type": "code",
   "execution_count": 24,
   "id": "a840d6e4-55b2-4e60-916b-38d9caab3cf4",
   "metadata": {},
   "outputs": [],
   "source": [
    "import matplotlib.pyplot as plt"
   ]
  },
  {
   "cell_type": "code",
   "execution_count": 25,
   "id": "93a3a142-5149-49d1-9f00-c2adb42a53ea",
   "metadata": {},
   "outputs": [
    {
     "data": {
      "image/jpeg": "[encoded data removed]",
      "image/png": "[encoded data removed]",
      "text/plain": [
       "<PIL.Image.Image image mode=RGB size=400x200>"
      ]
     },
     "execution_count": 25,
     "metadata": {},
     "output_type": "execute_result"
    },
    {
     "data": {
      "text/plain": [
       "<Figure size 5000x5000 with 0 Axes>"
      ]
     },
     "metadata": {},
     "output_type": "display_data"
    }
   ],
   "source": [
    "plt.figure(figsize=(50,50))\n",
    "wc.to_image()"
   ]
  },
  {
   "cell_type": "code",
   "execution_count": 26,
   "id": "d2f3f91e-0b04-4dc9-bd23-68c607ccc2a5",
   "metadata": {},
   "outputs": [],
   "source": [
    "from sklearn.feature_extraction.text import CountVectorizer"
   ]
  },
  {
   "cell_type": "code",
   "execution_count": 27,
   "id": "b64d756b-ee9f-40c1-8f83-308b771dc004",
   "metadata": {},
   "outputs": [
    {
     "data": {
      "text/plain": [
       "array([[0, 0, 0, ..., 0, 0, 0],\n",
       "       [0, 0, 0, ..., 0, 0, 0],\n",
       "       [0, 0, 0, ..., 0, 0, 0],\n",
       "       ...,\n",
       "       [0, 0, 0, ..., 0, 0, 0],\n",
       "       [0, 0, 0, ..., 0, 0, 0],\n",
       "       [0, 0, 0, ..., 0, 0, 0]], shape=(52681, 33163))"
      ]
     },
     "execution_count": 27,
     "metadata": {},
     "output_type": "execute_result"
    }
   ],
   "source": [
    "v1= CountVectorizer().fit_transform(wordList)\n",
    "v1.toarray()"
   ]
  },
  {
   "cell_type": "code",
   "execution_count": 28,
   "id": "f80d1bc0-1ffd-4e51-a722-f81666559dfb",
   "metadata": {},
   "outputs": [],
   "source": [
    "from sklearn.model_selection import train_test_split\n",
    "from sklearn.linear_model import LogisticRegression"
   ]
  },
  {
   "cell_type": "code",
   "execution_count": 29,
   "id": "7a6a91b0-f31f-4a54-bb94-492d43aa2570",
   "metadata": {},
   "outputs": [],
   "source": [
    "x_tr,x_test, y_tr, y_test = train_test_split(v1, data[\"status\"], test_size=.2)\n"
   ]
  },
  {
   "cell_type": "code",
   "execution_count": 30,
   "id": "6f8f9d1d-a139-41a0-9132-778c4cd5d524",
   "metadata": {},
   "outputs": [
    {
     "name": "stderr",
     "output_type": "stream",
     "text": [
      "/home/aadityapal/.conda/envs/notebook/lib/python3.12/site-packages/sklearn/linear_model/_logistic.py:469: ConvergenceWarning: lbfgs failed to converge (status=1):\n",
      "STOP: TOTAL NO. of ITERATIONS REACHED LIMIT.\n",
      "\n",
      "Increase the number of iterations (max_iter) or scale the data as shown in:\n",
      "    https://scikit-learn.org/stable/modules/preprocessing.html\n",
      "Please also refer to the documentation for alternative solver options:\n",
      "    https://scikit-learn.org/stable/modules/linear_model.html#logistic-regression\n",
      "  n_iter_i = _check_optimize_result(\n"
     ]
    }
   ],
   "source": [
    "logit_mod=LogisticRegression().fit(x_tr, y_tr)"
   ]
  },
  {
   "cell_type": "code",
   "execution_count": 31,
   "id": "099b0ee5-df73-422e-b5c0-140d940508b0",
   "metadata": {},
   "outputs": [],
   "source": [
    "pred=logit_mod.predict(x_test)"
   ]
  },
  {
   "cell_type": "code",
   "execution_count": 32,
   "id": "825c9890-8b10-45f0-b7d4-98982a3963d6",
   "metadata": {},
   "outputs": [],
   "source": [
    "from sklearn.metrics import classification_report\n",
    "from sklearn.metrics import roc_curve\n",
    "from sklearn.metrics import roc_auc_score\n",
    "from sklearn.preprocessing import LabelEncoder"
   ]
  },
  {
   "cell_type": "code",
   "execution_count": 33,
   "id": "812d6406-29f7-4fb4-8359-5d29312350c0",
   "metadata": {},
   "outputs": [
    {
     "name": "stdout",
     "output_type": "stream",
     "text": [
      "                      precision    recall  f1-score   support\n",
      "\n",
      "             Anxiety       0.72      0.63      0.67       722\n",
      "             Bipolar       0.72      0.59      0.65       538\n",
      "          Depression       0.64      0.63      0.63      3062\n",
      "              Normal       0.80      0.93      0.86      3327\n",
      "Personality disorder       0.62      0.47      0.54       229\n",
      "              Stress       0.51      0.37      0.43       512\n",
      "            Suicidal       0.59      0.54      0.56      2147\n",
      "\n",
      "            accuracy                           0.69     10537\n",
      "           macro avg       0.66      0.60      0.62     10537\n",
      "        weighted avg       0.68      0.69      0.68     10537\n",
      "\n"
     ]
    }
   ],
   "source": [
    "print(classification_report(y_test,pred))"
   ]
  },
  {
   "cell_type": "code",
   "execution_count": 34,
   "id": "2aaf1b13-647a-45f5-96bb-13d70f9e7946",
   "metadata": {},
   "outputs": [
    {
     "name": "stdout",
     "output_type": "stream",
     "text": [
      "10537\n"
     ]
    }
   ],
   "source": [
    "y=LabelEncoder().fit_transform(data[\"status\"])\n",
    "print(len(y_test))\n",
    "x_tr,x_test, y_tr,y_test = train_test_split(v1, y, test_size=.2)\n"
   ]
  },
  {
   "cell_type": "code",
   "execution_count": 35,
   "id": "8bffc684-c22d-4846-8bd5-d4e326ccdf84",
   "metadata": {},
   "outputs": [
    {
     "name": "stderr",
     "output_type": "stream",
     "text": [
      "/home/aadityapal/.conda/envs/notebook/lib/python3.12/site-packages/sklearn/linear_model/_logistic.py:469: ConvergenceWarning: lbfgs failed to converge (status=1):\n",
      "STOP: TOTAL NO. of ITERATIONS REACHED LIMIT.\n",
      "\n",
      "Increase the number of iterations (max_iter) or scale the data as shown in:\n",
      "    https://scikit-learn.org/stable/modules/preprocessing.html\n",
      "Please also refer to the documentation for alternative solver options:\n",
      "    https://scikit-learn.org/stable/modules/linear_model.html#logistic-regression\n",
      "  n_iter_i = _check_optimize_result(\n"
     ]
    }
   ],
   "source": [
    "logit_mod2= LogisticRegression().fit(x_tr,y_tr)"
   ]
  },
  {
   "cell_type": "code",
   "execution_count": 36,
   "id": "a5638375-465d-42c7-bdcc-ff207b7027cd",
   "metadata": {},
   "outputs": [
    {
     "name": "stdout",
     "output_type": "stream",
     "text": [
      "10537\n",
      "10537\n"
     ]
    }
   ],
   "source": [
    "p2= logit_mod2.predict_proba(x_test)\n",
    "print(len(y_test))\n",
    "print(len(p2))"
   ]
  },
  {
   "cell_type": "code",
   "execution_count": 37,
   "id": "d3139ab3-1042-4e2d-a8c4-918c9a573a43",
   "metadata": {},
   "outputs": [
    {
     "data": {
      "text/plain": [
       "np.float64(0.8992028763046841)"
      ]
     },
     "execution_count": 37,
     "metadata": {},
     "output_type": "execute_result"
    }
   ],
   "source": [
    "auc=roc_auc_score(y_test, p2,multi_class=\"ovr\")\n",
    "auc"
   ]
  },
  {
   "cell_type": "code",
   "execution_count": null,
   "id": "1338f09e-42f0-4ccd-949c-e4e96c90851d",
   "metadata": {},
   "outputs": [],
   "source": []
  }
 ],
 "metadata": {
  "kernelspec": {
   "display_name": "Python 3 (ipykernel)",
   "language": "python",
   "name": "python3"
  },
  "language_info": {
   "codemirror_mode": {
    "name": "ipython",
    "version": 3
   },
   "file_extension": ".py",
   "mimetype": "text/x-python",
   "name": "python",
   "nbconvert_exporter": "python",
   "pygments_lexer": "ipython3",
   "version": "3.12.7"
  }
 },
 "nbformat": 4,
 "nbformat_minor": 5
}
