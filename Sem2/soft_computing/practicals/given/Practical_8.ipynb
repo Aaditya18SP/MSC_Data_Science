{
 "cells": [
  {
   "cell_type": "code",
   "execution_count": 1,
   "id": "c33de1f2",
   "metadata": {},
   "outputs": [],
   "source": [
    "# Define fuzzy sets A and B\n",
    "A = {1: 0.3, 2: 0.7, 3: 1.0, 4: 0.6}\n",
    "B = {2: 0.8, 3: 0.4, 4: 0.9, 5: 1.0}\n",
    "\n",
    "# 1. Union: μ_A∪B(x) = max(μ_A(x), μ_B(x))\n",
    "def fuzzy_union(A, B):\n",
    "    result = {}\n",
    "    all_keys = set(A.keys()).union(B.keys())\n",
    "    for key in all_keys:\n",
    "        result[key] = max(A.get(key, 0), B.get(key, 0))\n",
    "    return result\n",
    "\n",
    "# 2. Intersection: μ_A∩B(x) = min(μ_A(x), μ_B(x))\n",
    "def fuzzy_intersection(A, B):\n",
    "    result = {}\n",
    "    all_keys = set(A.keys()).union(B.keys())\n",
    "    for key in all_keys:\n",
    "        result[key] = min(A.get(key, 0), B.get(key, 0))\n",
    "    return result\n",
    "\n",
    "# 3. Complement: μ_A'(x) = 1 - μ_A(x)\n",
    "def fuzzy_complement(A):\n",
    "    result = {key: 1 - value for key, value in A.items()}\n",
    "    return result\n",
    "\n",
    "# 4. Difference: A - B = μ_A(x) - μ_A∩B(x)\n",
    "def fuzzy_difference(A, B):\n",
    "    intersection = fuzzy_intersection(A, B)\n",
    "    result = {}\n",
    "    for key in A:\n",
    "        result[key] = A.get(key, 0) - intersection.get(key, 0)\n",
    "    return result\n"
   ]
  },
  {
   "cell_type": "code",
   "execution_count": 2,
   "id": "d0fa0dc8",
   "metadata": {},
   "outputs": [
    {
     "name": "stdout",
     "output_type": "stream",
     "text": [
      "Fuzzy Set A: {1: 0.3, 2: 0.7, 3: 1.0, 4: 0.6}\n",
      "Fuzzy Set B: {2: 0.8, 3: 0.4, 4: 0.9, 5: 1.0}\n",
      "\n",
      " Union (A ∪ B):\n",
      "{1: 0.3, 2: 0.8, 3: 1.0, 4: 0.9, 5: 1.0}\n",
      "\n",
      " Intersection (A ∩ B):\n",
      "{1: 0, 2: 0.7, 3: 0.4, 4: 0.6, 5: 0}\n",
      "\n",
      " Complement (~A):\n",
      "{1: 0.7, 2: 0.30000000000000004, 3: 0.0, 4: 0.4}\n",
      "\n",
      " Difference (A - B):\n",
      "{1: 0.3, 2: 0.0, 3: 0.6, 4: 0.0}\n"
     ]
    }
   ],
   "source": [
    "print(\"Fuzzy Set A:\", A)\n",
    "print(\"Fuzzy Set B:\", B)\n",
    "\n",
    "print(\"\\n Union (A ∪ B):\")\n",
    "print(fuzzy_union(A, B))\n",
    "\n",
    "print(\"\\n Intersection (A ∩ B):\")\n",
    "print(fuzzy_intersection(A, B))\n",
    "\n",
    "print(\"\\n Complement (~A):\")\n",
    "print(fuzzy_complement(A))\n",
    "\n",
    "print(\"\\n Difference (A - B):\")\n",
    "print(fuzzy_difference(A, B))\n"
   ]
  },
  {
   "cell_type": "code",
   "execution_count": null,
   "id": "8af5953c",
   "metadata": {},
   "outputs": [],
   "source": []
  }
 ],
 "metadata": {
  "kernelspec": {
   "display_name": "Python 3 (ipykernel)",
   "language": "python",
   "name": "python3"
  },
  "language_info": {
   "codemirror_mode": {
    "name": "ipython",
    "version": 3
   },
   "file_extension": ".py",
   "mimetype": "text/x-python",
   "name": "python",
   "nbconvert_exporter": "python",
   "pygments_lexer": "ipython3",
   "version": "3.12.3"
  }
 },
 "nbformat": 4,
 "nbformat_minor": 5
}
