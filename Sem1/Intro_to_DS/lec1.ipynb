{
 "cells": [
  {
   "cell_type": "code",
   "execution_count": 2,
   "id": "8bfe1bff-e5ec-4dec-813f-d8e88da65dda",
   "metadata": {},
   "outputs": [],
   "source": [
    "x1=23.2\n",
    "x2=24\n",
    "y1=15\n",
    "y2=45"
   ]
  },
  {
   "cell_type": "code",
   "execution_count": 3,
   "id": "aed8adf6-d659-406d-9a7c-0b4ac6dab85f",
   "metadata": {},
   "outputs": [
    {
     "name": "stdout",
     "output_type": "stream",
     "text": [
      "value of x1 is:???23.2\n",
      "value of y1 is:____15\n",
      "value of x2 is:???24\n",
      "value of y2 is: 45:}}}}}}"
     ]
    }
   ],
   "source": [
    "print(\"value of x1 is:\", x1,sep=\"???\")\n",
    "print(\"value of y1 is:\", y1,sep=\"____\")\n",
    "print(\"value of x2 is:\", x2,sep=\"???\")\n",
    "print(\"value of y2 is:\", y2,end=\":}}}}}}\")"
   ]
  },
  {
   "cell_type": "code",
   "execution_count": null,
   "id": "a526bfb4-8dfa-43b6-a071-dcc5c14edf2d",
   "metadata": {},
   "outputs": [],
   "source": [
    "#functions \n",
    "#id ->gives the address of the variable\n",
    "#type -> gives the inbuilt type of the variable"
   ]
  }
 ],
 "metadata": {
  "kernelspec": {
   "display_name": "Python 3 (ipykernel)",
   "language": "python",
   "name": "python3"
  },
  "language_info": {
   "codemirror_mode": {
    "name": "ipython",
    "version": 3
   },
   "file_extension": ".py",
   "mimetype": "text/x-python",
   "name": "python",
   "nbconvert_exporter": "python",
   "pygments_lexer": "ipython3",
   "version": "3.12.4"
  }
 },
 "nbformat": 4,
 "nbformat_minor": 5
}
