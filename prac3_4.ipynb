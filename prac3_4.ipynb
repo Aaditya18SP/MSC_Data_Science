{
  "nbformat": 4,
  "nbformat_minor": 0,
  "metadata": {
    "colab": {
      "provenance": [],
      "authorship_tag": "ABX9TyMjTfYCwJZMBJl19zQYbdQP",
      "include_colab_link": true
    },
    "kernelspec": {
      "name": "python3",
      "display_name": "Python 3"
    },
    "language_info": {
      "name": "python"
    }
  },
  "cells": [
    {
      "cell_type": "markdown",
      "metadata": {
        "id": "view-in-github",
        "colab_type": "text"
      },
      "source": [
        "<a href=\"https://colab.research.google.com/github/Aaditya18SP/MSC_Data_Science/blob/windows/prac3_4.ipynb\" target=\"_parent\"><img src=\"https://colab.research.google.com/assets/colab-badge.svg\" alt=\"Open In Colab\"/></a>"
      ]
    },
    {
      "cell_type": "code",
      "execution_count": 1,
      "metadata": {
        "colab": {
          "base_uri": "https://localhost:8080/"
        },
        "id": "ENWxZiNyy-0Z",
        "outputId": "e4213bd0-5666-4ab3-e2ca-ed7cd79da528"
      },
      "outputs": [
        {
          "output_type": "stream",
          "name": "stdout",
          "text": [
            "Requirement already satisfied: pyspark in /usr/local/lib/python3.11/dist-packages (3.5.4)\n",
            "Requirement already satisfied: py4j==0.10.9.7 in /usr/local/lib/python3.11/dist-packages (from pyspark) (0.10.9.7)\n"
          ]
        }
      ],
      "source": [
        "!pip install pyspark"
      ]
    },
    {
      "cell_type": "code",
      "source": [
        "from pyspark import SparkContext, SparkConf\n",
        "conf = SparkConf().setMaster(\"local\").setAppName(\"prac1\")\n",
        "sc = SparkContext(conf=conf)"
      ],
      "metadata": {
        "id": "J3YiysbRzOQY"
      },
      "execution_count": 3,
      "outputs": []
    },
    {
      "cell_type": "code",
      "source": [
        "data =sc.textFile(\"/content/sample_data/1800.csv\")\n",
        "data.take(5)\n"
      ],
      "metadata": {
        "colab": {
          "base_uri": "https://localhost:8080/"
        },
        "id": "pRQYngl40ogR",
        "outputId": "0bf09070-31c7-41c3-b7d6-7904a58543a0"
      },
      "execution_count": 4,
      "outputs": [
        {
          "output_type": "execute_result",
          "data": {
            "text/plain": [
              "['ITE00100554,18000101,TMAX,-75,,,E,',\n",
              " 'ITE00100554,18000101,TMIN,-148,,,E,',\n",
              " 'GM000010962,18000101,PRCP,0,,,E,',\n",
              " 'EZE00100082,18000101,TMAX,-86,,,E,',\n",
              " 'EZE00100082,18000101,TMIN,-135,,,E,']"
            ]
          },
          "metadata": {},
          "execution_count": 4
        }
      ]
    },
    {
      "cell_type": "code",
      "source": [
        "min_temps = data.filter(lambda x : \"TMIN\" in x).map(lambda x: (x.split(\",\")[0], float(x.split(\",\")[3]))).reduceByKey(lambda x, y: min(x,y))\n",
        "min_temps.take(5)"
      ],
      "metadata": {
        "colab": {
          "base_uri": "https://localhost:8080/"
        },
        "id": "Z3sMe8uZ1B3Z",
        "outputId": "97a92c02-8bea-42e6-d2cc-9a628e997133"
      },
      "execution_count": 6,
      "outputs": [
        {
          "output_type": "execute_result",
          "data": {
            "text/plain": [
              "[('ITE00100554', -148.0), ('EZE00100082', -135.0)]"
            ]
          },
          "metadata": {},
          "execution_count": 6
        }
      ]
    },
    {
      "cell_type": "code",
      "source": [
        "max_temps = data.filter(lambda x: \"TMAX\" in x).map(lambda x : (x.split(\",\")[0], float(x.split(\",\")[3]))).reduceByKey(lambda x, y: max(x,y))\n",
        "max_temps.take(5)"
      ],
      "metadata": {
        "colab": {
          "base_uri": "https://localhost:8080/"
        },
        "id": "ueqpciI51iyU",
        "outputId": "e7aaefa1-712a-4e84-f31e-688b2582adac"
      },
      "execution_count": 7,
      "outputs": [
        {
          "output_type": "execute_result",
          "data": {
            "text/plain": [
              "[('ITE00100554', 323.0), ('EZE00100082', 323.0)]"
            ]
          },
          "metadata": {},
          "execution_count": 7
        }
      ]
    },
    {
      "cell_type": "code",
      "source": [
        "textFile = sc.textFile(\"/content/sample_data/book.txt\")\n",
        "words = textFile.flatMap(lambda x: x.split(\" \")).map(lambda x: x.strip()).map(lambda x: (x,1)).reduceByKey(lambda x,y: x+y).sortBy(lambda x: x[1], ascending=False)\n",
        "words.take(10)"
      ],
      "metadata": {
        "colab": {
          "base_uri": "https://localhost:8080/"
        },
        "id": "nCu09KZz9bH8",
        "outputId": "97aca647-c95b-4e0d-b429-8d926648246f"
      },
      "execution_count": 8,
      "outputs": [
        {
          "output_type": "execute_result",
          "data": {
            "text/plain": [
              "[('to', 1789),\n",
              " ('your', 1339),\n",
              " ('you', 1267),\n",
              " ('the', 1176),\n",
              " ('a', 1148),\n",
              " ('of', 941),\n",
              " ('and', 901),\n",
              " ('that', 641),\n",
              " ('in', 552),\n",
              " ('is', 531)]"
            ]
          },
          "metadata": {},
          "execution_count": 8
        }
      ]
    }
  ]
}