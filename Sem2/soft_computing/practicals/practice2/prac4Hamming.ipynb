{
 "cells": [
  {
   "cell_type": "code",
   "execution_count": 1,
   "id": "642904d6-943c-4896-827b-fcf4c56c035a",
   "metadata": {},
   "outputs": [
    {
     "name": "stdout",
     "output_type": "stream",
     "text": [
      "[[4 2]\n",
      " [2 4]\n",
      " [2 2]\n",
      " [0 0]]\n",
      "Input vector: [-1 -1  1  1]\n",
      "Resulting class: 1\n",
      "\n",
      "Input vector: [-1  1 -1  1]\n",
      "Resulting class: 2\n",
      "\n",
      "Input vector: [-1  1  1 -1]\n",
      "Resulting class: 1\n",
      "\n",
      "Input vector: [ 1  1  1 -1]\n",
      "Resulting class: 0\n",
      "\n"
     ]
    }
   ],
   "source": [
    "import numpy as np\n",
    "import random\n",
    "\n",
    "inputVectors = []\n",
    "for i in range(4):\n",
    "    temp=[]\n",
    "    for j in range(4):\n",
    "        var = random.randint(0,1)\n",
    "        if var<1:\n",
    "            var = -1\n",
    "        temp.append(var)\n",
    "    inputVectors.append(temp)\n",
    "\n",
    "inputVectors = np.array(inputVectors)\n",
    "\n",
    "exemplars =np.array([[-1,-1,-1,-1], [1,1,1,1]])\n",
    "bias = len(inputVectors)//2\n",
    "\n",
    "weights =[]\n",
    "for i in range(len(exemplars)):\n",
    "    weights.append(inputVectors[i]//2)\n",
    "weights = np.array(weights)\n",
    "\n",
    "#calc outputs\n",
    "resultMat = np.dot(inputVectors, weights.T)+bias\n",
    "print(resultMat)\n",
    "\n",
    "result =[]\n",
    "\n",
    "for row in resultMat:\n",
    "    winningResult =0\n",
    "    winningIdx =-1\n",
    "    for idx,val in enumerate(row):\n",
    "        if(val>winningResult):\n",
    "            winningResult = val\n",
    "            winningIdx = idx\n",
    "    result.append((winningIdx, winningResult))\n",
    "\n",
    "for idx in range(len(result)):\n",
    "    print(\"Input vector:\", inputVectors[idx])\n",
    "    print(\"Resulting class:\", result[idx][0]+1)\n",
    "    print()\n"
   ]
  },
  {
   "cell_type": "code",
   "execution_count": 10,
   "id": "50afaf5e-2bb5-4fba-9634-d31960a180f1",
   "metadata": {},
   "outputs": [
    {
     "name": "stdout",
     "output_type": "stream",
     "text": [
      "Input vector: [-1  1  1 -1]\n",
      "Resultant class: 1\n",
      "\n",
      "Input vector: [ 1 -1 -1 -1]\n",
      "Resultant class: 2\n",
      "\n",
      "Input vector: [ 1  1 -1  1]\n",
      "Resultant class: 2\n",
      "\n",
      "Input vector: [ 1 -1  1  1]\n",
      "Resultant class: 2\n",
      "\n"
     ]
    }
   ],
   "source": [
    "# using maxnet to decide the classes\n",
    "\n",
    "activationsMat = resultMat\n",
    "resultClass = []\n",
    "epsilon=0.5\n",
    "for activations in activationsMat:\n",
    "\n",
    "    while(min(activations>0)): #since there are only 2 activations for each row, else write a function to check how many non zero values are there. There should only be one left\n",
    "\n",
    "        for idx in range(len(activations)):\n",
    "            summation = 0\n",
    "            for j in range(len(activations)):\n",
    "                if(idx!=j):\n",
    "                    summation+=activations[j]\n",
    "                \n",
    "            temp = activations[idx] - (epsilon*summation)\n",
    "            if(temp<0):\n",
    "                temp = 0\n",
    "            activations[idx] = temp\n",
    "        \n",
    "    for i in range(len(activations)):\n",
    "        maxIdx =0\n",
    "        maxVal=0\n",
    "        if(activations[i]>maxVal):\n",
    "            maxVal = activations[i]\n",
    "            maxIdx = i\n",
    "    resultClass.append(maxIdx)\n",
    "\n",
    "\n",
    "for idx, result in enumerate(resultClass):\n",
    "    print(\"Input vector:\",inputVectors[idx] )\n",
    "    print(\"Resultant class:\", result+1)\n",
    "    print()"
   ]
  },
  {
   "cell_type": "code",
   "execution_count": null,
   "id": "a3ca811e-8c85-43ed-b339-0939b8e825ad",
   "metadata": {},
   "outputs": [],
   "source": []
  }
 ],
 "metadata": {
  "kernelspec": {
   "display_name": "Python 3 (ipykernel)",
   "language": "python",
   "name": "python3"
  },
  "language_info": {
   "codemirror_mode": {
    "name": "ipython",
    "version": 3
   },
   "file_extension": ".py",
   "mimetype": "text/x-python",
   "name": "python",
   "nbconvert_exporter": "python",
   "pygments_lexer": "ipython3",
   "version": "3.12.7"
  }
 },
 "nbformat": 4,
 "nbformat_minor": 5
}
