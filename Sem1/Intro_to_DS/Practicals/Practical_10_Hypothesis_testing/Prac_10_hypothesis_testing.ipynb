{
 "cells": [
  {
   "cell_type": "code",
   "execution_count": 28,
   "id": "4311f877-1333-4b3a-8897-57780600845c",
   "metadata": {},
   "outputs": [],
   "source": [
    "import pandas as pd\n",
    "import numpy as np\n",
    "from scipy.stats import t"
   ]
  },
  {
   "cell_type": "code",
   "execution_count": 26,
   "id": "4b663ac9-2e67-432e-90e3-fbfde7f847b3",
   "metadata": {},
   "outputs": [
    {
     "data": {
      "text/html": [
       "<div>\n",
       "<style scoped>\n",
       "    .dataframe tbody tr th:only-of-type {\n",
       "        vertical-align: middle;\n",
       "    }\n",
       "\n",
       "    .dataframe tbody tr th {\n",
       "        vertical-align: top;\n",
       "    }\n",
       "\n",
       "    .dataframe thead th {\n",
       "        text-align: right;\n",
       "    }\n",
       "</style>\n",
       "<table border=\"1\" class=\"dataframe\">\n",
       "  <thead>\n",
       "    <tr style=\"text-align: right;\">\n",
       "      <th></th>\n",
       "      <th>N</th>\n",
       "      <th>P</th>\n",
       "      <th>K</th>\n",
       "      <th>temperature</th>\n",
       "      <th>humidity</th>\n",
       "      <th>ph</th>\n",
       "      <th>rainfall</th>\n",
       "      <th>label</th>\n",
       "    </tr>\n",
       "  </thead>\n",
       "  <tbody>\n",
       "    <tr>\n",
       "      <th>0</th>\n",
       "      <td>90</td>\n",
       "      <td>42</td>\n",
       "      <td>43</td>\n",
       "      <td>20.879744</td>\n",
       "      <td>82.002744</td>\n",
       "      <td>6.502985</td>\n",
       "      <td>202.935536</td>\n",
       "      <td>rice</td>\n",
       "    </tr>\n",
       "    <tr>\n",
       "      <th>1</th>\n",
       "      <td>85</td>\n",
       "      <td>58</td>\n",
       "      <td>41</td>\n",
       "      <td>21.770462</td>\n",
       "      <td>80.319644</td>\n",
       "      <td>7.038096</td>\n",
       "      <td>226.655537</td>\n",
       "      <td>rice</td>\n",
       "    </tr>\n",
       "    <tr>\n",
       "      <th>2</th>\n",
       "      <td>60</td>\n",
       "      <td>55</td>\n",
       "      <td>44</td>\n",
       "      <td>23.004459</td>\n",
       "      <td>82.320763</td>\n",
       "      <td>7.840207</td>\n",
       "      <td>263.964248</td>\n",
       "      <td>rice</td>\n",
       "    </tr>\n",
       "    <tr>\n",
       "      <th>3</th>\n",
       "      <td>74</td>\n",
       "      <td>35</td>\n",
       "      <td>40</td>\n",
       "      <td>26.491096</td>\n",
       "      <td>80.158363</td>\n",
       "      <td>6.980401</td>\n",
       "      <td>242.864034</td>\n",
       "      <td>rice</td>\n",
       "    </tr>\n",
       "    <tr>\n",
       "      <th>4</th>\n",
       "      <td>78</td>\n",
       "      <td>42</td>\n",
       "      <td>42</td>\n",
       "      <td>20.130175</td>\n",
       "      <td>81.604873</td>\n",
       "      <td>7.628473</td>\n",
       "      <td>262.717340</td>\n",
       "      <td>rice</td>\n",
       "    </tr>\n",
       "  </tbody>\n",
       "</table>\n",
       "</div>"
      ],
      "text/plain": [
       "    N   P   K  temperature   humidity        ph    rainfall label\n",
       "0  90  42  43    20.879744  82.002744  6.502985  202.935536  rice\n",
       "1  85  58  41    21.770462  80.319644  7.038096  226.655537  rice\n",
       "2  60  55  44    23.004459  82.320763  7.840207  263.964248  rice\n",
       "3  74  35  40    26.491096  80.158363  6.980401  242.864034  rice\n",
       "4  78  42  42    20.130175  81.604873  7.628473  262.717340  rice"
      ]
     },
     "execution_count": 26,
     "metadata": {},
     "output_type": "execute_result"
    }
   ],
   "source": [
    "data= pd.read_csv(\"Crop_recommendation.csv\")\n",
    "data.head()"
   ]
  },
  {
   "cell_type": "markdown",
   "id": "9b9d8cb6-506b-49a6-9466-208a0ff2f9cc",
   "metadata": {},
   "source": [
    "# 2sample t-test for rice and jute \n",
    "## For humidity \n",
    "***H0: There is no difference between rice and jute, mean humidity of rice - mean humidity of jute =0***\n",
    "\n",
    "\n",
    "***H1: There is no difference between rice and jute, mean humidity of rice - mean humidity of jute !=0***"
   ]
  },
  {
   "cell_type": "code",
   "execution_count": 65,
   "id": "4227ba2c-642e-4fb1-9363-72858aba9720",
   "metadata": {},
   "outputs": [],
   "source": [
    "alpha = 0.05\n",
    "df_rice = data[data[\"label\"]==\"rice\"]\n",
    "df_jute = data[data[\"label\"]==\"jute\"]"
   ]
  },
  {
   "cell_type": "code",
   "execution_count": 66,
   "id": "9e9eb76b-2dce-4677-863c-4ecc102ca87f",
   "metadata": {},
   "outputs": [
    {
     "name": "stdout",
     "output_type": "stream",
     "text": [
      "82.27282153889999 1.4183811592213085\n",
      "79.6398642063 5.50779761705286\n"
     ]
    }
   ],
   "source": [
    "mean_humidity_rice = df_rice[\"humidity\"].mean()\n",
    "sd_humidity_rice = df_rice[\"humidity\"].std()\n",
    "mean_humidity_jute = df_jute[\"humidity\"].mean()\n",
    "sd_humidity_jute = df_jute[\"humidity\"].std()\n",
    "\n",
    "print(mean_humidity_rice,  sd_humidity_rice)\n",
    "print(mean_humidity_jute, sd_humidity_jute)"
   ]
  },
  {
   "cell_type": "code",
   "execution_count": 67,
   "id": "79cda3be-5f97-4be0-9ac1-02e86d06a3f4",
   "metadata": {},
   "outputs": [
    {
     "name": "stdout",
     "output_type": "stream",
     "text": [
      "100 100\n"
     ]
    }
   ],
   "source": [
    "n1 = df_rice.shape[0]\n",
    "n2 = df_jute.shape[0]\n",
    "print(n1 , n2)"
   ]
  },
  {
   "cell_type": "code",
   "execution_count": 68,
   "id": "863fe0c2-7ede-441c-8c76-3556e6f0f743",
   "metadata": {},
   "outputs": [
    {
     "data": {
      "text/plain": [
       "0.5687498545340223"
      ]
     },
     "execution_count": 68,
     "metadata": {},
     "output_type": "execute_result"
    }
   ],
   "source": [
    "std_error =  np.array((sd_humidity_rice**2 / n1) +  (sd_humidity_jute**2/n2))\n",
    "std_error = np.sqrt(std_error)\n",
    "std_error"
   ]
  },
  {
   "cell_type": "code",
   "execution_count": 69,
   "id": "0a6e140b-4f56-433c-a74e-507493365f12",
   "metadata": {},
   "outputs": [
    {
     "data": {
      "text/plain": [
       "112.07342230894034"
      ]
     },
     "execution_count": 69,
     "metadata": {},
     "output_type": "execute_result"
    }
   ],
   "source": [
    "dof = ((sd_humidity_rice**2/n1) + (sd_humidity_jute**2/n2))**2/ (((sd_humidity_rice**2/n1)**2/(n1-1)) + (sd_humidity_jute**2/n2)**2/(n2-1))\n",
    "dof"
   ]
  },
  {
   "cell_type": "code",
   "execution_count": 70,
   "id": "01dc5e93-1a29-4c8b-996d-d4791f3d68f2",
   "metadata": {},
   "outputs": [
    {
     "data": {
      "text/plain": [
       "4.629376713875685"
      ]
     },
     "execution_count": 70,
     "metadata": {},
     "output_type": "execute_result"
    }
   ],
   "source": [
    "test_statistic = (mean_humidity_rice - mean_humidity_jute)/std_error\n",
    "test_statistic"
   ]
  },
  {
   "cell_type": "code",
   "execution_count": 71,
   "id": "ba5cb807-35b3-4d2a-9798-22a190c4b242",
   "metadata": {},
   "outputs": [
    {
     "name": "stdout",
     "output_type": "stream",
     "text": [
      "Critical value left : -1.9813576402765938 Critical value right:1.9813576402765931\n",
      "P value: 4.965259592371041e-06\n",
      "We reject the null hypotheses because there is significant evidence against it. Hence there is a significant difference in the humidity requirements for rice and jute\n"
     ]
    }
   ],
   "source": [
    "#get the critical value for the specified degrees of freedom and conf level\n",
    "critical_value_right = t.ppf(1-alpha/2,dof)\n",
    "critical_value_left = t.ppf(alpha/2,dof) #\n",
    "p_value = 1-t.cdf(test_statistic,dof)\n",
    "print(\"Critical value left : \"+ str(critical_value_left) , \"Critical value right:\" + str(critical_value_right))\n",
    "print(\"P value: \"+ str(p_value))\n",
    "if(test_statistic > critical_value_right or test_statistic < critical_value_left):\n",
    "    print(\"We reject the null hypotheses because there is significant evidence against it. Hence there is a significant difference in the humidity requirements for rice and jute\")\n",
    "else:\n",
    "    print(\"There is not enough to reject the null hypotheses. Hence there is no significant difference in the humidity requirements for rice and jute\")"
   ]
  },
  {
   "cell_type": "markdown",
   "id": "a434762d-328b-4da7-a6b4-13897a8227f2",
   "metadata": {},
   "source": [
    "# For temperature\n",
    "***H0: The temperature requirements are similar. mean temp of rice - mean temp of jute = 0***\n",
    "\n",
    "***H1: The temperature requirements are different. mean temp of rice - mean temp of jute !=0***"
   ]
  },
  {
   "cell_type": "code",
   "execution_count": 43,
   "id": "77e96745-ff68-47fe-8ceb-ac2df2f622fe",
   "metadata": {},
   "outputs": [
    {
     "name": "stdout",
     "output_type": "stream",
     "text": [
      "23.6893322105 2.0312719543716664\n",
      "24.958375826499996 1.185138311343944\n"
     ]
    }
   ],
   "source": [
    "mean_temp_rice = df_rice[\"temperature\"].mean()\n",
    "sd_temp_rice = df_rice[\"temperature\"].std()\n",
    "mean_temp_jute = df_jute[\"temperature\"].mean()\n",
    "sd_temp_jute = df_jute[\"temperature\"].std()\n",
    "\n",
    "print(mean_temp_rice,  sd_temp_rice)\n",
    "print(mean_temp_jute, sd_temp_jute)"
   ]
  },
  {
   "cell_type": "code",
   "execution_count": 44,
   "id": "5362a129-0b9c-4300-9826-3d74f545dc88",
   "metadata": {},
   "outputs": [
    {
     "name": "stdout",
     "output_type": "stream",
     "text": [
      "100 100\n"
     ]
    }
   ],
   "source": [
    "n1 = df_rice.shape[0]\n",
    "n2 = df_jute.shape[0]\n",
    "print(n1 , n2)"
   ]
  },
  {
   "cell_type": "code",
   "execution_count": 50,
   "id": "9e480b1b-f62a-4a9d-9ac8-50d1b3a9bb86",
   "metadata": {},
   "outputs": [
    {
     "data": {
      "text/plain": [
       "0.23517267208653442"
      ]
     },
     "execution_count": 50,
     "metadata": {},
     "output_type": "execute_result"
    }
   ],
   "source": [
    "alpha = 0.05\n",
    "std_error = np.sqrt((sd_temp_rice**2/n1) + (sd_temp_jute**2/n2))\n",
    "std_error"
   ]
  },
  {
   "cell_type": "code",
   "execution_count": 51,
   "id": "a01c13cd-9308-45b6-953f-e81ec1251c77",
   "metadata": {},
   "outputs": [
    {
     "data": {
      "text/plain": [
       "159.4018314883493"
      ]
     },
     "execution_count": 51,
     "metadata": {},
     "output_type": "execute_result"
    }
   ],
   "source": [
    "dof = ((sd_temp_rice**2/n1) + (sd_temp_jute**2/n2))**2/ (((sd_temp_rice**2/n1)**2/(n1-1)) + ((sd_temp_jute**2/n2)**2/(n2-1)))\n",
    "dof"
   ]
  },
  {
   "cell_type": "code",
   "execution_count": 52,
   "id": "f78072b3-bdff-4f05-bbf0-2c83901ca8e1",
   "metadata": {},
   "outputs": [
    {
     "data": {
      "text/plain": [
       "-5.3962205928971"
      ]
     },
     "execution_count": 52,
     "metadata": {},
     "output_type": "execute_result"
    }
   ],
   "source": [
    "test_statistic = (mean_temp_rice - mean_temp_jute) / std_error\n",
    "test_statistic"
   ]
  },
  {
   "cell_type": "code",
   "execution_count": 75,
   "id": "f8e61daa-a183-4de6-851a-4dc4428dcdc0",
   "metadata": {},
   "outputs": [
    {
     "name": "stdout",
     "output_type": "stream",
     "text": [
      "Critical value left: 1.9813576402765931 ||  Critical value right: -1.9813576402765938\n",
      "P value:4.965259592371041e-06\n",
      "Reject null Hypotheses. There is significant difference between the temperature requirements for rice and jute\n"
     ]
    }
   ],
   "source": [
    "critical_value_right = t.ppf(1-alpha/2,dof)\n",
    "critical_value_left = t.ppf(alpha/2,dof)\n",
    "print(\"Critical value left:\", critical_value_right, \"||  Critical value right:\",critical_value_left)\n",
    "p_value = 1-t.cdf(test_statistic, dof)\n",
    "print(\"P value:\" +str(p_value))\n",
    "\n",
    "if(test_statistic > critical_value_right or test_statistic < critical_value_left):\n",
    "    print(\"Reject null Hypotheses. There is significant difference between the temperature requirements for rice and jute\")\n",
    "else:\n",
    "    print(\"fail to reject null hypotheses as there is isnt enough evidence to support the fact that the temperature requirements for rice and jute are different\")\n",
    "    "
   ]
  },
  {
   "cell_type": "markdown",
   "id": "1015c0e0-dbd4-4123-abb7-c87695d4a5aa",
   "metadata": {},
   "source": [
    "# 2 sample t-test for banana and grapes \n",
    "## 1. Humidity\n",
    "\n",
    "***H0: There is no difference between the humidity requirements for banana and grapes. mean humidity of banana =  mean humidity of grapes***\n",
    "\n",
    "***H1: There is a difference between them. mean humidity of banana - mean humidity of grapes !=0***"
   ]
  },
  {
   "cell_type": "code",
   "execution_count": 78,
   "id": "2929377c-b820-4306-a6fe-cf0c9131dc41",
   "metadata": {},
   "outputs": [],
   "source": [
    "alpha = 0.05\n",
    "df_banana = data[data[\"label\"]==\"banana\"]\n",
    "df_grape = data[data[\"label\"]==\"grapes\"]"
   ]
  },
  {
   "cell_type": "code",
   "execution_count": 79,
   "id": "1245df01-02ed-4931-a8e8-8c9868bc5ced",
   "metadata": {},
   "outputs": [
    {
     "name": "stdout",
     "output_type": "stream",
     "text": [
      "80.3581225811 2.8054808335375014\n",
      "81.87522752119999 1.177111249739479\n"
     ]
    }
   ],
   "source": [
    "mean_humidity_banana = df_banana[\"humidity\"].mean()\n",
    "sd_humidity_banana = df_banana[\"humidity\"].std()\n",
    "mean_humidity_grape = df_grape[\"humidity\"].mean()\n",
    "sd_humidity_grape = df_grape[\"humidity\"].std()\n",
    "\n",
    "print(mean_humidity_banana,  sd_humidity_banana)\n",
    "print(mean_humidity_grape, sd_humidity_grape)"
   ]
  },
  {
   "cell_type": "code",
   "execution_count": 80,
   "id": "5c4a06ed-4ba2-471f-b867-9a0e5e3dd57d",
   "metadata": {},
   "outputs": [
    {
     "name": "stdout",
     "output_type": "stream",
     "text": [
      "100 100\n"
     ]
    }
   ],
   "source": [
    "n1 = df_banana.shape[0]\n",
    "n2 = df_grape.shape[0]\n",
    "print(n1 , n2)"
   ]
  },
  {
   "cell_type": "code",
   "execution_count": 81,
   "id": "270d4a0e-dbb3-4b70-bcb5-29a3fb0cfb0b",
   "metadata": {},
   "outputs": [
    {
     "data": {
      "text/plain": [
       "0.3042419037806842"
      ]
     },
     "execution_count": 81,
     "metadata": {},
     "output_type": "execute_result"
    }
   ],
   "source": [
    "std_error =  np.sqrt((sd_humidity_banana**2 / n1) +  (sd_humidity_grape**2/n2))\n",
    "std_error"
   ]
  },
  {
   "cell_type": "code",
   "execution_count": 82,
   "id": "91a6920d-cf7f-4aba-8175-b0d15b452cc7",
   "metadata": {},
   "outputs": [
    {
     "data": {
      "text/plain": [
       "132.8088631514806"
      ]
     },
     "execution_count": 82,
     "metadata": {},
     "output_type": "execute_result"
    }
   ],
   "source": [
    "dof = ((sd_humidity_banana**2/n1) + (sd_humidity_grape**2/n2))**2/ (((sd_humidity_banana**2/n1)**2/(n1-1)) + (sd_humidity_grape**2/n2)**2/(n2-1))\n",
    "dof"
   ]
  },
  {
   "cell_type": "code",
   "execution_count": 83,
   "id": "1aafea05-e525-4f90-84c3-ca2c70c38603",
   "metadata": {},
   "outputs": [
    {
     "data": {
      "text/plain": [
       "-4.986508831451448"
      ]
     },
     "execution_count": 83,
     "metadata": {},
     "output_type": "execute_result"
    }
   ],
   "source": [
    "test_statistic = (mean_humidity_banana - mean_humidity_grape)/std_error\n",
    "test_statistic"
   ]
  },
  {
   "cell_type": "code",
   "execution_count": 88,
   "id": "3dac3c3a-4376-4e82-9bfc-3a03c34a79fd",
   "metadata": {},
   "outputs": [
    {
     "name": "stdout",
     "output_type": "stream",
     "text": [
      "Critical value left : -1.9779873987352643 Critical value right:1.9779873987352639\n",
      "P value: 9.428234358219145e-07\n",
      "We reject the null hypotheses because there is significant evidence against it. Hence there is a significant difference in the humidity requirements for banana and grape\n"
     ]
    }
   ],
   "source": [
    "#get the critical value for the specified degrees of freedom and conf level\n",
    "critical_value_right = t.ppf(1-alpha/2,dof)\n",
    "critical_value_left = t.ppf(alpha/2,dof)\n",
    "if( test_statistic >0 ):\n",
    "    p_value = 1-t.cdf(test_statistic,dof)\n",
    "else:\n",
    "    p_value = t.cdf(test_statistic,dof)\n",
    "    \n",
    "print(\"Critical value left : \"+ str(critical_value_left) , \"Critical value right:\" + str(critical_value_right))\n",
    "print(\"P value: \"+ str(p_value))\n",
    "\n",
    "if(test_statistic > critical_value_right or test_statistic < critical_value_left):\n",
    "    print(\"We reject the null hypotheses because there is significant evidence against it. Hence there is a significant difference in the humidity requirements for banana and grape\")\n",
    "else:\n",
    "    print(\"There is not enough to reject the null hypotheses. Hence there is no significant difference in the humidity requirements for banana and grape\")"
   ]
  },
  {
   "cell_type": "markdown",
   "id": "93fbb048-40f7-4dc8-b7ae-0807dd86c185",
   "metadata": {},
   "source": [
    "## 2. Temperature\n",
    "\n",
    "***H0: There is no difference between the temperature requirements for banana and grapes. mean temperature of banana =  mean temperature of grapes***\n",
    "\n",
    "***H1: There is a difference between them. mean temperature of banana - mean temperature of grapes !=0***"
   ]
  },
  {
   "cell_type": "code",
   "execution_count": 89,
   "id": "aad929fd-1592-4b83-a8e0-8744dc7f2205",
   "metadata": {},
   "outputs": [
    {
     "name": "stdout",
     "output_type": "stream",
     "text": [
      "27.3767983057 1.428359021184807\n",
      "23.849575120049998 9.73864872199479\n"
     ]
    }
   ],
   "source": [
    "mean_temp_banana = df_banana[\"temperature\"].mean()\n",
    "sd_temp_banana = df_banana[\"temperature\"].std()\n",
    "mean_temp_grape = df_grape[\"temperature\"].mean()\n",
    "sd_temp_grape = df_grape[\"temperature\"].std()\n",
    "\n",
    "print(mean_temp_banana,  sd_temp_banana)\n",
    "print(mean_temp_grape, sd_temp_grape)"
   ]
  },
  {
   "cell_type": "code",
   "execution_count": null,
   "id": "7f34e79f-4a4a-4087-ae7d-88f38cd409d0",
   "metadata": {},
   "outputs": [],
   "source": [
    "n1 = df_banana.shape[0]\n",
    "n2 = df_grape.shape[0]\n",
    "print(n1 , n2)"
   ]
  },
  {
   "cell_type": "code",
   "execution_count": 90,
   "id": "34be33de-3f09-4452-abb3-608a95a2a300",
   "metadata": {},
   "outputs": [
    {
     "data": {
      "text/plain": [
       "0.9842839449255016"
      ]
     },
     "execution_count": 90,
     "metadata": {},
     "output_type": "execute_result"
    }
   ],
   "source": [
    "std_error =  np.sqrt((sd_temp_banana**2 / n1) +  (sd_temp_grape**2/n2))\n",
    "std_error"
   ]
  },
  {
   "cell_type": "code",
   "execution_count": 91,
   "id": "d7615608-b5b1-44c1-b73f-58b96db42e9c",
   "metadata": {},
   "outputs": [
    {
     "data": {
      "text/plain": [
       "103.25737225359428"
      ]
     },
     "execution_count": 91,
     "metadata": {},
     "output_type": "execute_result"
    }
   ],
   "source": [
    "dof = ((sd_temp_banana**2/n1) + (sd_temp_grape**2/n2))**2/ (((sd_temp_banana**2/n1)**2/(n1-1)) + (sd_temp_grape**2/n2)**2/(n2-1))\n",
    "dof"
   ]
  },
  {
   "cell_type": "code",
   "execution_count": 92,
   "id": "f2edff88-c499-4af4-9f3d-658e3bc60136",
   "metadata": {},
   "outputs": [
    {
     "data": {
      "text/plain": [
       "3.583542334338258"
      ]
     },
     "execution_count": 92,
     "metadata": {},
     "output_type": "execute_result"
    }
   ],
   "source": [
    "test_statistic = (mean_temp_banana - mean_temp_grape)/std_error\n",
    "test_statistic"
   ]
  },
  {
   "cell_type": "code",
   "execution_count": 93,
   "id": "c2753c14-c1a8-4d39-a67e-46e79c03ada0",
   "metadata": {},
   "outputs": [
    {
     "name": "stdout",
     "output_type": "stream",
     "text": [
      "Critical value left : -1.9832053951259196 Critical value right:1.9832053951259192\n",
      "P value: 0.00025952851450905534\n",
      "We reject the null hypotheses because there is significant evidence against it. Hence there is a significant difference in the temperature requirements for banana and grape\n"
     ]
    }
   ],
   "source": [
    "#get the critical value for the specified degrees of freedom and conf level\n",
    "critical_value_right = t.ppf(1-alpha/2,dof)\n",
    "critical_value_left = t.ppf(alpha/2,dof)\n",
    "if( test_statistic >0 ):\n",
    "    p_value = 1-t.cdf(test_statistic,dof)\n",
    "else:\n",
    "    p_value = t.cdf(test_statistic,dof)\n",
    "    \n",
    "print(\"Critical value left : \"+ str(critical_value_left) , \"Critical value right:\" + str(critical_value_right))\n",
    "print(\"P value: \"+ str(p_value))\n",
    "\n",
    "if(test_statistic > critical_value_right or test_statistic < critical_value_left):\n",
    "    print(\"We reject the null hypotheses because there is significant evidence against it. Hence there is a significant difference in the temperature requirements for banana and grape\")\n",
    "else:\n",
    "    print(\"There is not enough to reject the null hypotheses. Hence there is no significant difference in the temperature requirements for banana and grape\")"
   ]
  },
  {
   "cell_type": "markdown",
   "id": "06807eb8-6556-4148-b780-76d37c79dde1",
   "metadata": {},
   "source": [
    "# 1 Sample t-test\n",
    "***H0: ph of mango = 7.5***\n",
    "\n",
    "***H1:ph of manog != 7.5***"
   ]
  },
  {
   "cell_type": "code",
   "execution_count": 95,
   "id": "9709a8c6-a58d-4017-ba25-ba78611f25ad",
   "metadata": {},
   "outputs": [
    {
     "data": {
      "text/plain": [
       "-24.637475315453777"
      ]
     },
     "execution_count": 95,
     "metadata": {},
     "output_type": "execute_result"
    }
   ],
   "source": [
    "alpha =0.5\n",
    "pop_mean = 7.5\n",
    "df_mango = data[data[\"label\"] == \"mango\"]\n",
    "mean_mango = df_mango[\"ph\"].mean()\n",
    "sd_mango = df_mango[\"ph\"].std()\n",
    "std_error = sd_mango/np.sqrt((df_mango.shape)[0])\n",
    "dof = (df_mango.shape)[0]-1\n",
    "test_statistic = (mean_mango - pop_mean)/ std_error\n",
    "test_statistic"
   ]
  },
  {
   "cell_type": "code",
   "execution_count": 98,
   "id": "20957e09-0a43-4875-b630-de3b42833f5f",
   "metadata": {},
   "outputs": [
    {
     "name": "stdout",
     "output_type": "stream",
     "text": [
      "Critical value left:-0.6768731561845536 Critical value right:0.6768731561845536\n",
      "P value is :2.440047669327577e-45\n",
      "Reject Null hypotheses. There is significant difference between the ph of Mango and the population\n"
     ]
    }
   ],
   "source": [
    "crit_val_r = t.ppf(1-alpha/2, dof)\n",
    "crit_val_l = t.ppf(alpha/2, dof)\n",
    "print(\"Critical value left:\" + str(crit_val_l), \"Critical value right:\"+  str(crit_val_r))\n",
    "\n",
    "if(test_statistic <0):\n",
    "    p_value = t.cdf(test_statistic,dof)\n",
    "else:\n",
    "    p_value = 1-t.cdf(test_statistic, dof)\n",
    "\n",
    "print(\"P value is :\"+ str(p_value))\n",
    "\n",
    "\n",
    "if(test_statistic < crit_val_l or test_statistic > crit_val_r):\n",
    "    print(\"Reject Null hypotheses. There is significant difference between the ph of Mango and the population\")\n",
    "else:\n",
    "    print(\"Fail to reject the null hypotheses as there is not enough evidence for it. The ph of Mango is same as the population. Any differences are due to randomness\")"
   ]
  },
  {
   "cell_type": "code",
   "execution_count": null,
   "id": "7feeaaec-a508-4b99-a7f6-ceb228427794",
   "metadata": {},
   "outputs": [],
   "source": []
  }
 ],
 "metadata": {
  "kernelspec": {
   "display_name": "Python 3 (ipykernel)",
   "language": "python",
   "name": "python3"
  },
  "language_info": {
   "codemirror_mode": {
    "name": "ipython",
    "version": 3
   },
   "file_extension": ".py",
   "mimetype": "text/x-python",
   "name": "python",
   "nbconvert_exporter": "python",
   "pygments_lexer": "ipython3",
   "version": "3.12.7"
  }
 },
 "nbformat": 4,
 "nbformat_minor": 5
}
