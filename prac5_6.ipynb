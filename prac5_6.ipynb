{
  "nbformat": 4,
  "nbformat_minor": 0,
  "metadata": {
    "colab": {
      "provenance": [],
      "authorship_tag": "ABX9TyMdS/aoJYEzXGcyooFEzr7M",
      "include_colab_link": true
    },
    "kernelspec": {
      "name": "python3",
      "display_name": "Python 3"
    },
    "language_info": {
      "name": "python"
    }
  },
  "cells": [
    {
      "cell_type": "markdown",
      "metadata": {
        "id": "view-in-github",
        "colab_type": "text"
      },
      "source": [
        "<a href=\"https://colab.research.google.com/github/Aaditya18SP/MSC_Data_Science/blob/windows/prac5_6.ipynb\" target=\"_parent\"><img src=\"https://colab.research.google.com/assets/colab-badge.svg\" alt=\"Open In Colab\"/></a>"
      ]
    },
    {
      "cell_type": "code",
      "execution_count": 1,
      "metadata": {
        "id": "m-nOgig19wyl"
      },
      "outputs": [],
      "source": [
        "from pyspark.sql import SparkSession\n",
        "spark = SparkSession.builder.master(\"local[2]\").appName(\"prac9\").getOrCreate()"
      ]
    },
    {
      "cell_type": "code",
      "source": [
        "data = spark.read.csv(\"/content/sample_data/fakefriends.csv\")\n",
        "\n",
        "data = data.toDF(\"no\",\"name\",\"age\",\"numFriends\")\n",
        "data = data.withColumns({\"no\":data.no.cast(\"int\"), \"age\":data.age.cast(\"int\"), \"numFriends\":data.numFriends.cast(\"int\")})\n"
      ],
      "metadata": {
        "id": "C0HMx5Vd96tb"
      },
      "execution_count": 3,
      "outputs": []
    },
    {
      "cell_type": "code",
      "source": [
        "data.createOrReplaceTempView(\"users\")\n",
        "result = spark.sql(\"SELECT * FROM users WHERE age > 21 AND age <50 AND numFriends >5\")\n",
        "\n",
        "\n",
        "result.groupBy(\"name\").agg({\"age\":\"avg\", \"numFriends\":\"avg\"}).sort(\"name\").show()"
      ],
      "metadata": {
        "colab": {
          "base_uri": "https://localhost:8080/"
        },
        "id": "ijkNduGS-fsD",
        "outputId": "d5668bb7-7959-47f2-8602-fd5ad14f8521"
      },
      "execution_count": 7,
      "outputs": [
        {
          "output_type": "stream",
          "name": "stdout",
          "text": [
            "+--------+------------------+------------------+\n",
            "|    name|   avg(numFriends)|          avg(age)|\n",
            "+--------+------------------+------------------+\n",
            "|     Ben|           320.875|              37.5|\n",
            "| Beverly|311.55555555555554|33.666666666666664|\n",
            "|   Brunt|137.45454545454547| 33.09090909090909|\n",
            "|    Data| 274.6666666666667|38.666666666666664|\n",
            "|  Deanna|216.33333333333334|37.916666666666664|\n",
            "|   Dukat|216.77777777777777| 35.44444444444444|\n",
            "|    Elim|243.66666666666666| 38.44444444444444|\n",
            "|    Ezri| 268.2142857142857|34.642857142857146|\n",
            "|  Geordi|             271.8|              36.3|\n",
            "|  Gowron| 283.6666666666667|32.333333333333336|\n",
            "|  Guinan|218.57142857142858|38.714285714285715|\n",
            "|    Hugh|253.88888888888889|37.111111111111114|\n",
            "|  Jadzia|308.14285714285717|              40.0|\n",
            "|Jean-Luc|331.57142857142856|36.714285714285715|\n",
            "|  Julian|158.57142857142858| 35.42857142857143|\n",
            "|  Kasidy|           225.375|            32.625|\n",
            "|   Keiko|           250.625|             37.25|\n",
            "|   Leeta| 293.1818181818182| 33.63636363636363|\n",
            "| Lwaxana|           238.875|            31.875|\n",
            "|  Martok|           149.875|             33.25|\n",
            "+--------+------------------+------------------+\n",
            "only showing top 20 rows\n",
            "\n"
          ]
        }
      ]
    }
  ]
}