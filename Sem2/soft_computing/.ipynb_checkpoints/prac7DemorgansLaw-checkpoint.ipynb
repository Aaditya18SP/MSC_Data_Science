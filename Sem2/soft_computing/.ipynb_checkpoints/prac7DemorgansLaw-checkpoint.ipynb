{
 "cells": [
  {
   "cell_type": "code",
   "execution_count": 1,
   "id": "1a898d3c-e4fa-42a8-8cac-526dadb3effb",
   "metadata": {},
   "outputs": [],
   "source": [
    "# Define fuzzy set operations\n",
    "def fuzzy_union(A, B):\n",
    "    return {x: max(A.get(x, 0), B.get(x, 0)) for x in set(A) | set(B)}\n",
    "\n",
    "def fuzzy_intersection(A, B):\n",
    "    return {x: min(A.get(x, 0), B.get(x, 0)) for x in set(A) | set(B)}\n",
    "\n",
    "def fuzzy_complement(A):\n",
    "    return {x: 1 - A[x] for x in A}"
   ]
  },
  {
   "cell_type": "code",
   "execution_count": 2,
   "id": "83f5f87d-4513-491b-a029-10e9a5168485",
   "metadata": {},
   "outputs": [],
   "source": [
    "# De Morgan's Laws implementation\n",
    "def de_morgan_laws(A, B):\n",
    "    # Law 1: ~(A ∨ B) = ~A ∧ ~B\n",
    "    lhs1 = fuzzy_complement(fuzzy_union(A, B))\n",
    "    rhs1 = fuzzy_intersection(fuzzy_complement(A), fuzzy_complement(B))\n",
    "\n",
    "    # Law 2: ~(A ∧ B) = ~A ∨ ~B\n",
    "    lhs2 = fuzzy_complement(fuzzy_intersection(A, B))\n",
    "    rhs2 = fuzzy_union(fuzzy_complement(A), fuzzy_complement(B))\n",
    "\n",
    "    return lhs1, rhs1, lhs2, rhs2\n"
   ]
  },
  {
   "cell_type": "code",
   "execution_count": 3,
   "id": "14abab34-e1d4-46d3-a046-9bcbba1a5265",
   "metadata": {},
   "outputs": [],
   "source": [
    "# Example fuzzy sets\n",
    "A = {'x1': 0.3, 'x2': 0.7, 'x3': 1.0}\n",
    "B = {'x1': 0.5, 'x2': 0.4, 'x3': 0.8}\n",
    "# Apply De Morgan's Laws\n",
    "lhs1, rhs1, lhs2, rhs2 = de_morgan_laws(A, B)"
   ]
  },
  {
   "cell_type": "code",
   "execution_count": 4,
   "id": "05f9fdd9-e085-436f-97da-759d06ac6114",
   "metadata": {},
   "outputs": [
    {
     "name": "stdout",
     "output_type": "stream",
     "text": [
      "Law 1: ~(A ∨ B) = ~A ∧ ~B\n",
      "LHS: {'x2': 0.30000000000000004, 'x3': 0.0, 'x1': 0.5}\n",
      "RHS: {'x2': 0.30000000000000004, 'x3': 0.0, 'x1': 0.5}\n",
      "\n",
      "Law 2: ~(A ∧ B) = ~A ∨ ~B\n",
      "LHS: {'x2': 0.6, 'x3': 0.19999999999999996, 'x1': 0.7}\n",
      "RHS: {'x2': 0.6, 'x3': 0.19999999999999996, 'x1': 0.7}\n"
     ]
    }
   ],
   "source": [
    "# Display results\n",
    "print(\"Law 1: ~(A ∨ B) = ~A ∧ ~B\")\n",
    "print(\"LHS:\", lhs1)\n",
    "print(\"RHS:\", rhs1)\n",
    "\n",
    "print(\"\\nLaw 2: ~(A ∧ B) = ~A ∨ ~B\")\n",
    "print(\"LHS:\", lhs2)\n",
    "print(\"RHS:\", rhs2)"
   ]
  },
  {
   "cell_type": "code",
   "execution_count": null,
   "id": "79fdfe85-2da0-4ca1-986e-c048db0d992b",
   "metadata": {},
   "outputs": [],
   "source": []
  }
 ],
 "metadata": {
  "kernelspec": {
   "display_name": "Python 3 (ipykernel)",
   "language": "python",
   "name": "python3"
  },
  "language_info": {
   "codemirror_mode": {
    "name": "ipython",
    "version": 3
   },
   "file_extension": ".py",
   "mimetype": "text/x-python",
   "name": "python",
   "nbconvert_exporter": "python",
   "pygments_lexer": "ipython3",
   "version": "3.12.7"
  }
 },
 "nbformat": 4,
 "nbformat_minor": 5
}
