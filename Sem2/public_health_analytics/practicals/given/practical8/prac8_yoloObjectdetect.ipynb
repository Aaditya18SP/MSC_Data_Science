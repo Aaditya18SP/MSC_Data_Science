{
 "cells": [
  {
   "cell_type": "code",
   "execution_count": 37,
   "id": "cb36df49-6f00-4c51-a953-5a3a31b8aa55",
   "metadata": {},
   "outputs": [],
   "source": [
    "from roboflow import Roboflow"
   ]
  },
  {
   "cell_type": "code",
   "execution_count": 38,
   "id": "6b286ff5-5c50-46fd-a800-440b19bd1fd2",
   "metadata": {},
   "outputs": [
    {
     "name": "stdout",
     "output_type": "stream",
     "text": [
      "loading Roboflow workspace...\n",
      "loading Roboflow project...\n"
     ]
    }
   ],
   "source": [
    "rf= Roboflow(api_key=\"Y9UjYJSYyE54rTTrYgX7\")\n",
    "project= rf.workspace(\"phamumbaiuni\").project(\"axialmri\")\n",
    "version = project.version(1)\n",
    "dataset= version.download(\"yolov5\")"
   ]
  },
  {
   "cell_type": "code",
   "execution_count": 39,
   "id": "2a628e99-949b-40c5-a972-f82ddf0b2d8e",
   "metadata": {},
   "outputs": [
    {
     "data": {
      "text/plain": [
       "<roboflow.core.dataset.Dataset at 0x7fb0cd944470>"
      ]
     },
     "execution_count": 39,
     "metadata": {},
     "output_type": "execute_result"
    }
   ],
   "source": [
    "dataset"
   ]
  },
  {
   "cell_type": "code",
   "execution_count": 55,
   "id": "cb7dfa70-3f6c-465e-b084-0c07eca6d4df",
   "metadata": {},
   "outputs": [],
   "source": [
    "import inference\n",
    "import os"
   ]
  },
  {
   "cell_type": "code",
   "execution_count": 56,
   "id": "93eceff4-fb70-456f-8bd1-d04160e68cbd",
   "metadata": {},
   "outputs": [],
   "source": [
    "model = inference.get_model(\"axialmri/1\", api_key=\"Y9UjYJSYyE54rTTrYgX7\")"
   ]
  },
  {
   "cell_type": "code",
   "execution_count": 57,
   "id": "a0dea91f-adde-4d4a-b6ab-7de8546c6892",
   "metadata": {},
   "outputs": [
    {
     "data": {
      "text/plain": [
       "['images', 'labels']"
      ]
     },
     "execution_count": 57,
     "metadata": {},
     "output_type": "execute_result"
    }
   ],
   "source": [
    "testPath= os.listdir(\"./axialMri-1/test\")\n",
    "testPath"
   ]
  },
  {
   "cell_type": "code",
   "execution_count": 64,
   "id": "39e45aa4-2248-4bfb-88c1-2f8b38d1c516",
   "metadata": {},
   "outputs": [],
   "source": [
    "validationPath = \"./axialMri-1/valid/images/\""
   ]
  },
  {
   "cell_type": "code",
   "execution_count": 65,
   "id": "0dd5eda0-ccac-450b-856f-b1cbe7b279f1",
   "metadata": {},
   "outputs": [
    {
     "data": {
      "text/plain": [
       "['00273_103_jpg.rf.b5eacab27065a9ef74d26add84b75457.jpg',\n",
       " '00158_90_jpg.rf.edc5aa5aec39a1ec0b090d0b6e5d9464.jpg',\n",
       " '00165_118_jpg.rf.fbe5e2058a968c3ec7dcc62cc9a2fe3b.jpg',\n",
       " '00254_79_jpg.rf.160b542c0925ba95db95dd8c5e6b7a3d.jpg',\n",
       " '00281_104_jpg.rf.50b2a782e76f24163ef09d3aafa16bd4.jpg',\n",
       " '00081_107_jpg.rf.bd3ed7dbb62d499b8d37f0b8488e67b8.jpg',\n",
       " '00104_19_jpg.rf.6dafaa72a6ff2cbe4491632539a086d4.jpg',\n",
       " '00084_145_jpg.rf.ca54511468c7323f1ed74faf699ccde2.jpg',\n",
       " '00260_130_jpg.rf.61dd76fe3d72a12f62a9c75ef46fe878.jpg',\n",
       " '00099_130_jpg.rf.30424a0532bac6dcbdbd4f1091eb8201.jpg',\n",
       " '00270_12_jpg.rf.67675db9cc7aa96eeff4693b70d682ca.jpg',\n",
       " '00022_79_jpg.rf.fe82fab33f9f48a10a021adc066e5497.jpg',\n",
       " '00150_11_jpg.rf.8a9e4b4c4d81a0d26feefbdd8a4865c4.jpg',\n",
       " '00338_15_jpg.rf.3cf27ae2fd9e58aa2704a48715c33eca.jpg',\n",
       " '00359_116_jpg.rf.da95c570022aad83bff1f6ff09705b0e.jpg',\n",
       " '00116_11_jpg.rf.3c5a10546c2a8307b6bc7d7fa2999e58.jpg',\n",
       " '00294_22_jpg.rf.dd7a175b6748b34218c89d9280ad9aa7.jpg',\n",
       " '00260_121_jpg.rf.d33c7597d30fc6733acaf83026ff9ca8.jpg',\n",
       " '00169_142_jpg.rf.7bdc31d06142a716823255fd7553e0a5.jpg',\n",
       " '00176_92_jpg.rf.9266e2ba12a2194d9d41a73e5cf8f8e7.jpg',\n",
       " '00122_8_jpg.rf.f269ab9c585d6b4804f85c309cf7cb1a.jpg',\n",
       " '00322_153_jpg.rf.fdc71c35bbf112e939adabb8862f303d.jpg',\n",
       " '00018_111_jpg.rf.7694ad071866983505bd6589267015bc.jpg',\n",
       " '00260_119_jpg.rf.11a680cbbc9aa3b451c30bd0010b52b1.jpg',\n",
       " '00088_150_jpg.rf.a517b94969e89b1306102f8b7cc1e668.jpg',\n",
       " '00306_102_jpg.rf.98a5e78405a75793b0ee920ee482fd03.jpg',\n",
       " '00350_126_jpg.rf.66ed50de1894a0006c8e3f83f0c645ec.jpg',\n",
       " '00167_127_jpg.rf.14d827c2578609ff406a6cffbb8f124e.jpg',\n",
       " '00116_9_jpg.rf.2f737502b4591a0a50b2e3697ba91c5a.jpg',\n",
       " '00281_110_jpg.rf.7da59afd1dafa33bbf33d92e049abf5c.jpg',\n",
       " '00294_20_jpg.rf.404cf7ab3c74b29269f9a523a3f46b90.jpg',\n",
       " '00317_22_jpg.rf.1608d65e2bee5c688c35de5f28b04d96.jpg',\n",
       " '00084_130_jpg.rf.9ea8b3c45009a196c9c2d4c15c0e779d.jpg',\n",
       " '00044_111_jpg.rf.136824fe173fd49e91f4b92d378bb73c.jpg',\n",
       " '00111_110_jpg.rf.e92e66ab1c2590033f7551bba83ef76e.jpg',\n",
       " '00296_124_jpg.rf.31e31e34a0157134694991f002538c5a.jpg',\n",
       " '00253_85_jpg.rf.bf38a25d9fe897669bc2ca44d098162a.jpg',\n",
       " '00111_98_jpg.rf.f6f187f198e564eec1e303b02585c26b.jpg',\n",
       " '00124_11_jpg.rf.cd6d47590ef984095d74484328cfd59b.jpg',\n",
       " '00313_118_jpg.rf.be8c376ba8f0dad6618caa01663f5c17.jpg',\n",
       " '00273_90_jpg.rf.ce9b6285712ec801451cab200f1e71f9.jpg',\n",
       " '00165_116_jpg.rf.f21569f7a8c248014e91e923a7f7887e.jpg',\n",
       " '00112_11_jpg.rf.b3c6bd72b5f8046cc116d96e2d059eef.jpg',\n",
       " '00116_13_jpg.rf.172a33eab77ab2dccb064824552cfb6f.jpg',\n",
       " '00271_122_jpg.rf.27055daec6c692a751b9a230411e6e73.jpg',\n",
       " '00018_117_jpg.rf.94c5c3a3138058e12c099bb00a6d95d5.jpg',\n",
       " '00130_78_jpg.rf.0cbda97028b823b2ea8d8945fe248a8b.jpg',\n",
       " '00072_66_jpg.rf.260cc6c71155498671d3f659fa202919.jpg',\n",
       " '00081_98_jpg.rf.385cd9dc3794094e50bd46f1fe937981.jpg',\n",
       " '00097_80_jpg.rf.634bc966b15677bcfa40b2ea3a6f0398.jpg',\n",
       " '00311_118_jpg.rf.f12eec5b20c6cb609b4fc67e8f7e779f.jpg',\n",
       " '00088_153_jpg.rf.63f34c9d4b50a26d3f3d562b7b2fb07b.jpg',\n",
       " '00169_119_jpg.rf.005ca4e25c6623bb5bd8e74f4a6fa4fe.jpg',\n",
       " '00273_109_jpg.rf.0026000ba08f2c0c6149e999d64e56e6.jpg',\n",
       " '00084_123_jpg.rf.f7553d7f587b05cea24991ce7625eea4.jpg',\n",
       " '00183_86_jpg.rf.9aafce00d7d764cd75a67ca2d3f5b51e.jpg',\n",
       " '00130_88_jpg.rf.3039bc08ae6e39d9195c659175635701.jpg',\n",
       " '00095_236_jpg.rf.aa41e310c2ade3e5a69714beefc4439f.jpg',\n",
       " '00306_96_jpg.rf.4b82c03de17bdf8784ad3f8ecbfec062.jpg',\n",
       " '00350_132_jpg.rf.fedf59908b28bcff61881c862df22b01.jpg',\n",
       " '00350_135_jpg.rf.f806e15ff1b45494da41eb320f92844d.jpg',\n",
       " '00359_97_jpg.rf.a8b346d289c2b695a25c9f0fcaed1bde.jpg',\n",
       " '00291_24_jpg.rf.1aee788d830d3433b6bfc250d3bb9d57.jpg',\n",
       " '00123_11_jpg.rf.e3a8026ca997d87de1c53da267b000fc.jpg',\n",
       " '00350_157_jpg.rf.4585eb2dc0c95b75271ccad0aa11905f.jpg',\n",
       " '00165_111_jpg.rf.9477ef47df8cb70552749e38e896ef53.jpg',\n",
       " '00271_117_jpg.rf.0bdae6cd6b803b2a2067845a207f9c32.jpg',\n",
       " '00061_178_jpg.rf.29e90e819bd12301be487fcefd0dcf8a.jpg',\n",
       " '00130_107_jpg.rf.3a2487731c8e27d6f96641779358b2b9.jpg',\n",
       " '00281_122_jpg.rf.2afa880466294a431a2e32c6171ff72e.jpg',\n",
       " '00158_102_jpg.rf.a680d13094165a0faf97c0e6363dad60.jpg',\n",
       " '00151_15_jpg.rf.849882033eb315b51374eadb6411e975.jpg',\n",
       " '00271_145_jpg.rf.3e7d6bfcafb1f7c7fee80a68fd651d04.jpg',\n",
       " '00022_83_jpg.rf.59e4fe52a6395092f80a340e544de9ba.jpg',\n",
       " '00271_111_jpg.rf.98246997dc9310512de2eda544b3682d.jpg']"
      ]
     },
     "execution_count": 65,
     "metadata": {},
     "output_type": "execute_result"
    }
   ],
   "source": [
    "validImagesPath = os.listdir(validationPath)\n",
    "validImagesPath"
   ]
  },
  {
   "cell_type": "code",
   "execution_count": 66,
   "id": "0170e948-13f9-47ae-aab9-6ec1d71730df",
   "metadata": {},
   "outputs": [
    {
     "data": {
      "text/plain": [
       "'00273_103_jpg.rf.b5eacab27065a9ef74d26add84b75457.jpg'"
      ]
     },
     "execution_count": 66,
     "metadata": {},
     "output_type": "execute_result"
    }
   ],
   "source": [
    "validationImagePath = validImagesPath[0]\n",
    "validationImagePath"
   ]
  },
  {
   "cell_type": "code",
   "execution_count": 67,
   "id": "bd459198-dd8a-4a5b-8420-7d8d3ce862b8",
   "metadata": {},
   "outputs": [
    {
     "data": {
      "text/plain": [
       "'./axialMri-1/valid/images/00273_103_jpg.rf.b5eacab27065a9ef74d26add84b75457.jpg'"
      ]
     },
     "execution_count": 67,
     "metadata": {},
     "output_type": "execute_result"
    }
   ],
   "source": [
    "validationPath+validImagesPath[0]"
   ]
  },
  {
   "cell_type": "code",
   "execution_count": 68,
   "id": "eba88883-fb96-4f45-baed-b2ee80e85768",
   "metadata": {},
   "outputs": [],
   "source": [
    "result = model.infer(validationPath+validImagesPath[0], model_id=\"axialmri/1\")"
   ]
  },
  {
   "cell_type": "code",
   "execution_count": 69,
   "id": "ed553770-89b3-4cfc-b43b-fc1ed7e7353d",
   "metadata": {},
   "outputs": [
    {
     "data": {
      "text/plain": [
       "ObjectDetectionInferenceResponse(visualization=None, inference_id=None, frame_id=None, time=None, image=InferenceResponseImage(width=640, height=640), predictions=[ObjectDetectionPrediction(x=467.5, y=301.0, width=101.0, height=110.0, confidence=0.7591586112976074, class_name='negative', class_confidence=None, class_id=0, tracker_id=None, detection_id='cb5e9434-a69e-4529-8b50-cca7facec0ca', parent_id=None)])"
      ]
     },
     "execution_count": 69,
     "metadata": {},
     "output_type": "execute_result"
    }
   ],
   "source": [
    "result[0]"
   ]
  },
  {
   "cell_type": "code",
   "execution_count": 80,
   "id": "e7476a8c-0298-4985-80e4-9912e2da867f",
   "metadata": {},
   "outputs": [],
   "source": [
    "import matplotlib.pyplot as plt\n",
    "from PIL import Image, ImageDraw\n"
   ]
  },
  {
   "cell_type": "code",
   "execution_count": 101,
   "id": "6c5f5351-88e6-45c4-a467-bf352cf6e03f",
   "metadata": {},
   "outputs": [
    {
     "data": {
      "text/plain": [
       "<Figure size 2000x2000 with 0 Axes>"
      ]
     },
     "metadata": {},
     "output_type": "display_data"
    }
   ],
   "source": [
    "plt.figure(figsize=(20,20))\n",
    "j=1"
   ]
  },
  {
   "cell_type": "code",
   "execution_count": 102,
   "id": "70765a96-6422-4865-baf5-5e0540813808",
   "metadata": {},
   "outputs": [
    {
     "data": {
      "image/png": "[encoded data removed]",
      "text/plain": [
       "<Figure size 640x480 with 8 Axes>"
      ]
     },
     "metadata": {},
     "output_type": "display_data"
    }
   ],
   "source": [
    "for imagePath in validImagesPath:\n",
    "    if j>8:\n",
    "        break\n",
    "    plt.subplot(2,4,j)\n",
    "    plt.subplots_adjust(wspace=0.5, hspace=1)\n",
    "    imgpath = validationPath+imagePath\n",
    "    result = model.infer(validationPath+imagePath, model_id=\"axialmri/1\")\n",
    "    if len(result[0].predictions)>0:\n",
    "        im = Image.open(imgpath)\n",
    "        draw_img= ImageDraw.Draw(im)\n",
    "        predResult = result[0].predictions[0]\n",
    "        # x1=result[0].predictions[0].x\n",
    "        # y1=result[0].predictions[0].y\n",
    "        x1=predResult.x\n",
    "        y1= predResult.y\n",
    "        width = predResult.width\n",
    "        height= predResult.height\n",
    "        className = predResult.class_name\n",
    "        x2=x1+width\n",
    "        y2=y1+height\n",
    "        draw_img.rectangle([x1, y1, x2,y2], outline=\"red\")\n",
    "        plt.imshow(im)\n",
    "        plt.xlabel(className)\n",
    "        j+=1"
   ]
  },
  {
   "cell_type": "code",
   "execution_count": null,
   "id": "1d47337a-363d-492e-807d-6af79778bea2",
   "metadata": {},
   "outputs": [],
   "source": []
  }
 ],
 "metadata": {
  "kernelspec": {
   "display_name": "Python 3 (ipykernel)",
   "language": "python",
   "name": "python3"
  },
  "language_info": {
   "codemirror_mode": {
    "name": "ipython",
    "version": 3
   },
   "file_extension": ".py",
   "mimetype": "text/x-python",
   "name": "python",
   "nbconvert_exporter": "python",
   "pygments_lexer": "ipython3",
   "version": "3.12.7"
  }
 },
 "nbformat": 4,
 "nbformat_minor": 5
}
