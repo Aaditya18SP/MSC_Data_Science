{
 "cells": [
  {
   "cell_type": "code",
   "execution_count": 1,
   "id": "8a5e510e-e7b4-4357-913b-893c5469eed4",
   "metadata": {},
   "outputs": [],
   "source": [
    "import numpy as np\n",
    "import pandas as pd\n",
    "\n",
    "# Define fuzzy relations as matrices\n",
    "# Relation R1: A → B\n",
    "R1 = np.array([\n",
    "    [0.3, 0.7, 1.0],   # A1 to B1, B2, B3\n",
    "    [0.6, 0.4, 0.8]    # A2 to B1, B2, B3\n",
    "])\n",
    "# Relation R2: B → C\n",
    "R2 = np.array([\n",
    "    [0.9, 0.2],   # B1 to C1, C2\n",
    "    [0.5, 1.0],   # B2 to C1, C2\n",
    "    [0.4, 0.7]    # B3 to C1, C2\n",
    "])"
   ]
  },
  {
   "cell_type": "code",
   "execution_count": 2,
   "id": "53148f26-8044-440e-b9c2-da9a8892106e",
   "metadata": {},
   "outputs": [],
   "source": [
    "# Max-min composition\n",
    "def max_min_composition(R1, R2):\n",
    "    A_rows, B_cols = R1.shape\n",
    "    B_rows, C_cols = R2.shape\n",
    "    assert B_cols == B_rows, \"Incompatible matrix dimensions for composition\"\n",
    "    \n",
    "    R3 = np.zeros((A_rows, C_cols))\n",
    "    for i in range(A_rows):      # Iterate over A\n",
    "        for j in range(C_cols):  # Iterate over C\n",
    "            min_vals = []\n",
    "            for k in range(B_cols):  # Iterate over B\n",
    "                min_vals.append(min(R1[i][k], R2[k][j]))\n",
    "            R3[i][j] = max(min_vals)\n",
    "    \n",
    "    return R3"
   ]
  },
  {
   "cell_type": "code",
   "execution_count": 3,
   "id": "6823cf79-12a6-4167-bd3c-d1494658b8ab",
   "metadata": {},
   "outputs": [
    {
     "name": "stdout",
     "output_type": "stream",
     "text": [
      "Max-Min Composition (A → C):\n",
      "     C1   C2\n",
      "A1  0.5  0.7\n",
      "A2  0.6  0.7\n"
     ]
    }
   ],
   "source": [
    "# Perform composition\n",
    "R3 = max_min_composition(R1, R2)\n",
    "# Display result\n",
    "df = pd.DataFrame(R3, index=[\"A1\", \"A2\"], columns=[\"C1\", \"C2\"])\n",
    "print(\"Max-Min Composition (A → C):\")\n",
    "print(df)"
   ]
  }
 ],
 "metadata": {
  "kernelspec": {
   "display_name": "Python 3 (ipykernel)",
   "language": "python",
   "name": "python3"
  },
  "language_info": {
   "codemirror_mode": {
    "name": "ipython",
    "version": 3
   },
   "file_extension": ".py",
   "mimetype": "text/x-python",
   "name": "python",
   "nbconvert_exporter": "python",
   "pygments_lexer": "ipython3",
   "version": "3.12.7"
  }
 },
 "nbformat": 4,
 "nbformat_minor": 5
}
