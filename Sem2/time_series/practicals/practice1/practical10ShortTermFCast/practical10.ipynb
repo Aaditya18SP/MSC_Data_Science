{
 "cells": [
  {
   "cell_type": "code",
   "execution_count": 5,
   "id": "fda0487c-2229-42da-879f-1d08c3ccd6c2",
   "metadata": {},
   "outputs": [],
   "source": [
    "import numpy as np\n",
    "import pandas as pd\n",
    "import matplotlib.pyplot as plt\n",
    "from statsmodels.tsa.arima.model import ARIMA"
   ]
  },
  {
   "cell_type": "code",
   "execution_count": 6,
   "id": "3afc9292-c0dd-4177-a109-5d927f20540d",
   "metadata": {},
   "outputs": [
    {
     "data": {
      "text/html": [
       "<div>\n",
       "<style scoped>\n",
       "    .dataframe tbody tr th:only-of-type {\n",
       "        vertical-align: middle;\n",
       "    }\n",
       "\n",
       "    .dataframe tbody tr th {\n",
       "        vertical-align: top;\n",
       "    }\n",
       "\n",
       "    .dataframe thead th {\n",
       "        text-align: right;\n",
       "    }\n",
       "</style>\n",
       "<table border=\"1\" class=\"dataframe\">\n",
       "  <thead>\n",
       "    <tr style=\"text-align: right;\">\n",
       "      <th></th>\n",
       "      <th>DATE</th>\n",
       "      <th>PRICE</th>\n",
       "      <th>OPEN</th>\n",
       "      <th>HIGH</th>\n",
       "      <th>LOW</th>\n",
       "      <th>VOLUME</th>\n",
       "      <th>CHANGE(%)</th>\n",
       "    </tr>\n",
       "  </thead>\n",
       "  <tbody>\n",
       "    <tr>\n",
       "      <th>0</th>\n",
       "      <td>13-Jun-24</td>\n",
       "      <td>1242.20</td>\n",
       "      <td>1244.0</td>\n",
       "      <td>1260.90</td>\n",
       "      <td>1226.80</td>\n",
       "      <td>154710</td>\n",
       "      <td>1.18%</td>\n",
       "    </tr>\n",
       "    <tr>\n",
       "      <th>1</th>\n",
       "      <td>12-Jun-24</td>\n",
       "      <td>1227.70</td>\n",
       "      <td>1210.0</td>\n",
       "      <td>1244.00</td>\n",
       "      <td>1204.00</td>\n",
       "      <td>246676</td>\n",
       "      <td>1.51%</td>\n",
       "    </tr>\n",
       "    <tr>\n",
       "      <th>2</th>\n",
       "      <td>11-Jun-24</td>\n",
       "      <td>1209.40</td>\n",
       "      <td>1163.4</td>\n",
       "      <td>1221.00</td>\n",
       "      <td>1157.30</td>\n",
       "      <td>472663</td>\n",
       "      <td>3.96%</td>\n",
       "    </tr>\n",
       "    <tr>\n",
       "      <th>3</th>\n",
       "      <td>10-Jun-24</td>\n",
       "      <td>1163.30</td>\n",
       "      <td>1145.0</td>\n",
       "      <td>1169.95</td>\n",
       "      <td>1137.05</td>\n",
       "      <td>157659</td>\n",
       "      <td>1.08%</td>\n",
       "    </tr>\n",
       "    <tr>\n",
       "      <th>4</th>\n",
       "      <td>07-Jun-24</td>\n",
       "      <td>1150.85</td>\n",
       "      <td>1108.0</td>\n",
       "      <td>1160.75</td>\n",
       "      <td>1103.70</td>\n",
       "      <td>359926</td>\n",
       "      <td>3.90%</td>\n",
       "    </tr>\n",
       "  </tbody>\n",
       "</table>\n",
       "</div>"
      ],
      "text/plain": [
       "        DATE    PRICE    OPEN     HIGH      LOW  VOLUME CHANGE(%)\n",
       "0  13-Jun-24  1242.20  1244.0  1260.90  1226.80  154710     1.18%\n",
       "1  12-Jun-24  1227.70  1210.0  1244.00  1204.00  246676     1.51%\n",
       "2  11-Jun-24  1209.40  1163.4  1221.00  1157.30  472663     3.96%\n",
       "3  10-Jun-24  1163.30  1145.0  1169.95  1137.05  157659     1.08%\n",
       "4  07-Jun-24  1150.85  1108.0  1160.75  1103.70  359926     3.90%"
      ]
     },
     "execution_count": 6,
     "metadata": {},
     "output_type": "execute_result"
    }
   ],
   "source": [
    "data = pd.read_csv(\"../../data/Symphony-Data.csv\")\n",
    "data.head()"
   ]
  },
  {
   "cell_type": "code",
   "execution_count": 7,
   "id": "707f7d68-e937-4d5b-b740-a6960233ade9",
   "metadata": {},
   "outputs": [
    {
     "data": {
      "text/html": [
       "<div>\n",
       "<style scoped>\n",
       "    .dataframe tbody tr th:only-of-type {\n",
       "        vertical-align: middle;\n",
       "    }\n",
       "\n",
       "    .dataframe tbody tr th {\n",
       "        vertical-align: top;\n",
       "    }\n",
       "\n",
       "    .dataframe thead th {\n",
       "        text-align: right;\n",
       "    }\n",
       "</style>\n",
       "<table border=\"1\" class=\"dataframe\">\n",
       "  <thead>\n",
       "    <tr style=\"text-align: right;\">\n",
       "      <th></th>\n",
       "      <th>DATE</th>\n",
       "      <th>PRICE</th>\n",
       "    </tr>\n",
       "  </thead>\n",
       "  <tbody>\n",
       "    <tr>\n",
       "      <th>1238</th>\n",
       "      <td>2019-06-18</td>\n",
       "      <td>1204.90</td>\n",
       "    </tr>\n",
       "    <tr>\n",
       "      <th>1237</th>\n",
       "      <td>2019-06-19</td>\n",
       "      <td>1243.95</td>\n",
       "    </tr>\n",
       "    <tr>\n",
       "      <th>1236</th>\n",
       "      <td>2019-06-20</td>\n",
       "      <td>1254.45</td>\n",
       "    </tr>\n",
       "    <tr>\n",
       "      <th>1235</th>\n",
       "      <td>2019-06-21</td>\n",
       "      <td>1232.55</td>\n",
       "    </tr>\n",
       "    <tr>\n",
       "      <th>1234</th>\n",
       "      <td>2019-06-24</td>\n",
       "      <td>1228.65</td>\n",
       "    </tr>\n",
       "  </tbody>\n",
       "</table>\n",
       "</div>"
      ],
      "text/plain": [
       "           DATE    PRICE\n",
       "1238 2019-06-18  1204.90\n",
       "1237 2019-06-19  1243.95\n",
       "1236 2019-06-20  1254.45\n",
       "1235 2019-06-21  1232.55\n",
       "1234 2019-06-24  1228.65"
      ]
     },
     "execution_count": 7,
     "metadata": {},
     "output_type": "execute_result"
    }
   ],
   "source": [
    "data = data.drop([\"OPEN\", \"HIGH\", \"LOW\", \"VOLUME\", \"CHANGE(%)\"], axis=1)\n",
    "data[\"DATE\"] = pd.to_datetime(data[\"DATE\"], format =\"%d-%b-%y\")\n",
    "data = data.sort_values(by=\"DATE\")\n",
    "data.head()"
   ]
  },
  {
   "cell_type": "code",
   "execution_count": 17,
   "id": "1fa2b368-02a1-4e8f-8be1-875c61bf6b0f",
   "metadata": {},
   "outputs": [
    {
     "data": {
      "text/plain": [
       "1238    1204.90\n",
       "1237    1243.95\n",
       "1236    1254.45\n",
       "1235    1232.55\n",
       "1234    1228.65\n",
       "         ...   \n",
       "4       1150.85\n",
       "3       1163.30\n",
       "2       1209.40\n",
       "1       1227.70\n",
       "0       1242.20\n",
       "Name: PRICE, Length: 1239, dtype: float64"
      ]
     },
     "execution_count": 17,
     "metadata": {},
     "output_type": "execute_result"
    }
   ],
   "source": [
    "y = data[\"PRICE\"]\n",
    "y.index\n",
    "y"
   ]
  },
  {
   "cell_type": "code",
   "execution_count": 18,
   "id": "95adb332-3a94-48af-81f5-32788164ae25",
   "metadata": {},
   "outputs": [
    {
     "name": "stderr",
     "output_type": "stream",
     "text": [
      "/home/aadityapal/.conda/envs/notebook/lib/python3.12/site-packages/statsmodels/tsa/base/tsa_model.py:473: ValueWarning: An unsupported index was provided. As a result, forecasts cannot be generated. To use the model for forecasting, use one of the supported classes of index.\n",
      "  self._init_dates(dates, freq)\n",
      "/home/aadityapal/.conda/envs/notebook/lib/python3.12/site-packages/statsmodels/tsa/base/tsa_model.py:473: ValueWarning: An unsupported index was provided. As a result, forecasts cannot be generated. To use the model for forecasting, use one of the supported classes of index.\n",
      "  self._init_dates(dates, freq)\n",
      "/home/aadityapal/.conda/envs/notebook/lib/python3.12/site-packages/statsmodels/tsa/base/tsa_model.py:473: ValueWarning: An unsupported index was provided. As a result, forecasts cannot be generated. To use the model for forecasting, use one of the supported classes of index.\n",
      "  self._init_dates(dates, freq)\n",
      "/home/aadityapal/.conda/envs/notebook/lib/python3.12/site-packages/statsmodels/tsa/base/tsa_model.py:837: ValueWarning: No supported index is available. Prediction results will be given with an integer index beginning at `start`.\n",
      "  return get_prediction_index(\n",
      "/home/aadityapal/.conda/envs/notebook/lib/python3.12/site-packages/statsmodels/tsa/base/tsa_model.py:837: FutureWarning: No supported index is available. In the next version, calling this method in a model without a supported index will result in an exception.\n",
      "  return get_prediction_index(\n"
     ]
    }
   ],
   "source": [
    "model = ARIMA(y, order =(5,1,1), seasonal_order=(1,1,1,12))\n",
    "fit = model.fit()\n",
    "fcast = fit.forecast(steps=365)"
   ]
  },
  {
   "cell_type": "code",
   "execution_count": 21,
   "id": "1121563c-ec11-4172-af20-bf63a7f25002",
   "metadata": {},
   "outputs": [
    {
     "data": {
      "text/plain": [
       "Text(0, 0.5, 'Price')"
      ]
     },
     "execution_count": 21,
     "metadata": {},
     "output_type": "execute_result"
    },
    {
     "data": {
      "image/png": "[encoded data removed]",
      "text/plain": [
       "<Figure size 640x480 with 1 Axes>"
      ]
     },
     "metadata": {},
     "output_type": "display_data"
    }
   ],
   "source": [
    "plt.plot(y, label=\"original\", linewidth=4, color=\"lightgray\")\n",
    "plt.plot(fit.fittedvalues, label=\"fit\", linestyle=\"--\", color=\"crimson\")\n",
    "plt.plot(fcast, label=\"forecast\", color=\"gold\")\n",
    "plt.legend()\n",
    "plt.grid()\n",
    "plt.xlabel(\"Date\")\n",
    "plt.ylabel(\"Price\")"
   ]
  },
  {
   "cell_type": "code",
   "execution_count": null,
   "id": "5c2d07bd-d997-4517-81a7-faf3d79964e7",
   "metadata": {},
   "outputs": [],
   "source": []
  }
 ],
 "metadata": {
  "kernelspec": {
   "display_name": "Python 3 (ipykernel)",
   "language": "python",
   "name": "python3"
  },
  "language_info": {
   "codemirror_mode": {
    "name": "ipython",
    "version": 3
   },
   "file_extension": ".py",
   "mimetype": "text/x-python",
   "name": "python",
   "nbconvert_exporter": "python",
   "pygments_lexer": "ipython3",
   "version": "3.12.7"
  }
 },
 "nbformat": 4,
 "nbformat_minor": 5
}
