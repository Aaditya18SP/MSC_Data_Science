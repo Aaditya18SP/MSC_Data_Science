{
 "cells": [
  {
   "cell_type": "markdown",
   "metadata": {},
   "source": [
    "#### 1. Write a Python function to multiply all the numbers in a list."
   ]
  },
  {
   "cell_type": "code",
   "execution_count": 1,
   "metadata": {},
   "outputs": [
    {
     "data": {
      "text/plain": [
       "16"
      ]
     },
     "execution_count": 1,
     "metadata": {},
     "output_type": "execute_result"
    }
   ],
   "source": [
    "def mul(list1):\n",
    "    result =1\n",
    "    for item in list1:\n",
    "        result+=item\n",
    "    return result\n",
    "\n",
    "l1 =[1,2,3,4,5]\n",
    "mul(l1)\n",
    "        \n",
    "    "
   ]
  },
  {
   "cell_type": "markdown",
   "metadata": {},
   "source": [
    "#### 2. Write a Python function to reverse a string use the while loop also?"
   ]
  },
  {
   "cell_type": "code",
   "execution_count": 8,
   "metadata": {},
   "outputs": [
    {
     "name": "stdout",
     "output_type": "stream",
     "text": [
      "gnirts a si siht"
     ]
    }
   ],
   "source": [
    "str1 = \"this is a string\"\n",
    "idx = -1\n",
    "while idx >= (0-len(str1)):\n",
    "    # print(idx,end=\" \")\n",
    "    print(str1[idx],end= \"\")\n",
    "    idx-=1\n"
   ]
  },
  {
   "cell_type": "markdown",
   "metadata": {},
   "source": [
    "###### 3. Write a function to add and subtract two variables"
   ]
  },
  {
   "cell_type": "code",
   "execution_count": 10,
   "metadata": {},
   "outputs": [
    {
     "name": "stdout",
     "output_type": "stream",
     "text": [
      "addition:  20\n",
      "subtraction:  4\n"
     ]
    }
   ],
   "source": [
    "def add_sub(num1, num2):\n",
    "    print(\"addition: \",num1+num2)\n",
    "    print(\"subtraction: \", num1-num2)\n",
    "\n",
    "num1=12\n",
    "num2=8\n",
    "add_sub(num1,num2)"
   ]
  },
  {
   "cell_type": "markdown",
   "metadata": {},
   "source": [
    "###### 4. Write a function to check the number is divisible by 12"
   ]
  },
  {
   "cell_type": "code",
   "execution_count": 11,
   "metadata": {},
   "outputs": [
    {
     "name": "stdout",
     "output_type": "stream",
     "text": [
      "is 1 divisible by 12: False\n",
      "is 24 divisible by 12: True\n",
      "is 32 divisible by 12: False\n",
      "is 36 divisible by 12: True\n"
     ]
    }
   ],
   "source": [
    "def check(num):\n",
    "    if num%12==0:\n",
    "        return True\n",
    "    else:\n",
    "        return False\n",
    "nums = (1, 24, 32,36)\n",
    "for num in nums:\n",
    "    print(f\"is {num} divisible by 12: {check(num)}\")"
   ]
  },
  {
   "cell_type": "markdown",
   "metadata": {},
   "source": [
    "###### 5. Write a function to calculate the number of days and weeks"
   ]
  },
  {
   "cell_type": "code",
   "execution_count": 30,
   "metadata": {},
   "outputs": [
    {
     "name": "stdout",
     "output_type": "stream",
     "text": [
      "365 52\n"
     ]
    }
   ],
   "source": [
    "def calculate_days_and_weeks(year):\n",
    "    if year%4==0:\n",
    "        days=366   \n",
    "    else:\n",
    "        days = 365\n",
    "\n",
    "    weeks = days//7\n",
    "    return (days, weeks)\n",
    "\n",
    "(days,weeks)=calculate_days_and_weeks(2014)\n",
    "print(days, weeks)\n",
    "\n",
    "    "
   ]
  },
  {
   "cell_type": "markdown",
   "metadata": {},
   "source": [
    "#### 6.Write a Python function to Find the 5!?"
   ]
  },
  {
   "cell_type": "code",
   "execution_count": 12,
   "metadata": {},
   "outputs": [
    {
     "name": "stdout",
     "output_type": "stream",
     "text": [
      "120\n"
     ]
    }
   ],
   "source": [
    "def fact(num):\n",
    "    if num ==1:\n",
    "        return num\n",
    "    result = num * fact(num-1)\n",
    "    return result\n",
    "num =5\n",
    "print(fact(num))\n"
   ]
  },
  {
   "cell_type": "markdown",
   "metadata": {},
   "source": [
    "#### 7. Write a Python function Find the unique elements of the first list = [1,2,3,3,3,3,4,5,4,2,4,2,4,4,2,4,5,4,34,654,5,7,6,5,4,3,]?\n"
   ]
  },
  {
   "cell_type": "code",
   "execution_count": 14,
   "metadata": {},
   "outputs": [
    {
     "name": "stdout",
     "output_type": "stream",
     "text": [
      "[1, 2, 3, 4, 5, 34, 7, 6, 654]\n"
     ]
    }
   ],
   "source": [
    "def unique_elements(list1):\n",
    "    return list(set(list1))\n",
    "\n",
    "l1 = [1,2,3,3,3,3,4,5,4,2,4,2,4,4,2,4,5,4,34,654,5,7,6,5,4,3]\n",
    "print(unique_elements(l1))"
   ]
  },
  {
   "cell_type": "markdown",
   "metadata": {},
   "source": [
    "#### Types of arguments\n",
    "\n",
    "\n",
    "    1. Required arguments\n",
    "    2. Keyword arguments\n",
    "    3. Default arguments\n",
    "   "
   ]
  },
  {
   "cell_type": "markdown",
   "metadata": {},
   "source": [
    "####  1. Required arguments: (the function simple_interest accepts three arguments and returns the simple interest accordingly)"
   ]
  },
  {
   "cell_type": "code",
   "execution_count": 16,
   "metadata": {},
   "outputs": [
    {
     "data": {
      "text/plain": [
       "2000.0"
      ]
     },
     "execution_count": 16,
     "metadata": {},
     "output_type": "execute_result"
    }
   ],
   "source": [
    "def calc_si(principal, ir, duration):\n",
    "    return principal*(ir/100)*duration\n",
    "principal = 5000\n",
    "ir = 10\n",
    "duration = 4\n",
    "calc_si(principal, ir, duration)"
   ]
  },
  {
   "cell_type": "markdown",
   "metadata": {},
   "source": [
    "#### 2.Keyword arguments:(Function is called with the name and message as the keyword arguments)"
   ]
  },
  {
   "cell_type": "code",
   "execution_count": 17,
   "metadata": {},
   "outputs": [
    {
     "data": {
      "text/plain": [
       "400.0"
      ]
     },
     "execution_count": 17,
     "metadata": {},
     "output_type": "execute_result"
    }
   ],
   "source": [
    "calc_si(duration=2, principal=10000, ir=2)\n",
    "    "
   ]
  },
  {
   "cell_type": "markdown",
   "metadata": {},
   "source": [
    "#### 3.Default Arguments:()"
   ]
  },
  {
   "cell_type": "code",
   "execution_count": 18,
   "metadata": {},
   "outputs": [
    {
     "data": {
      "text/plain": [
       "2000.0"
      ]
     },
     "execution_count": 18,
     "metadata": {},
     "output_type": "execute_result"
    }
   ],
   "source": [
    "def calc_si(principal, ir=5, duration=2):\n",
    "    return principal*(ir/100)*duration\n",
    "\n",
    "calc_si(20000)"
   ]
  },
  {
   "cell_type": "markdown",
   "metadata": {},
   "source": [
    "### lambda function"
   ]
  },
  {
   "cell_type": "markdown",
   "metadata": {},
   "source": [
    "###### 1. Write a lambda function to find the product of two numbers"
   ]
  },
  {
   "cell_type": "code",
   "execution_count": 20,
   "metadata": {},
   "outputs": [
    {
     "data": {
      "text/plain": [
       "24"
      ]
     },
     "execution_count": 20,
     "metadata": {},
     "output_type": "execute_result"
    }
   ],
   "source": [
    "mul = lambda x,y: x*y\n",
    "mul(12,2)"
   ]
  },
  {
   "cell_type": "markdown",
   "metadata": {},
   "source": [
    "### Map"
   ]
  },
  {
   "cell_type": "markdown",
   "metadata": {},
   "source": [
    "#### 1. Adding two lists using map\n",
    "     lis1 = [12, 24, 36] \n",
    "     lis2 = [41, 54, 69] "
   ]
  },
  {
   "cell_type": "markdown",
   "metadata": {},
   "source": [
    "## Map"
   ]
  },
  {
   "cell_type": "code",
   "execution_count": 23,
   "metadata": {},
   "outputs": [
    {
     "data": {
      "text/plain": [
       "[53, 78, 105]"
      ]
     },
     "execution_count": 23,
     "metadata": {},
     "output_type": "execute_result"
    }
   ],
   "source": [
    " lis1 = [12, 24, 36] \n",
    " lis2 = [41, 54, 69]\n",
    "\n",
    "idx= 0\n",
    "sum_list = list(map(lambda x:x+lis2[lis1.index(x)], lis1))\n",
    "sum_list\n"
   ]
  },
  {
   "cell_type": "markdown",
   "metadata": {},
   "source": [
    "#### 1.filter the  lis1 = [3,12, 24, 36,43,654,65432,2,654,455,43,543]   which is not divided by 2?"
   ]
  },
  {
   "cell_type": "code",
   "execution_count": 28,
   "metadata": {},
   "outputs": [
    {
     "data": {
      "text/plain": [
       "[12, 24, 36, 654, 65432, 2, 654]"
      ]
     },
     "execution_count": 28,
     "metadata": {},
     "output_type": "execute_result"
    }
   ],
   "source": [
    "lis3 = [3,12, 24, 36,43,654,65432,2,654,455,43,543]\n",
    "filtered_list = list(filter(lambda x: x if x%2==0 else None, lis3))\n",
    "filtered_list"
   ]
  }
 ],
 "metadata": {
  "kernelspec": {
   "display_name": "Python 3 (ipykernel)",
   "language": "python",
   "name": "python3"
  },
  "language_info": {
   "codemirror_mode": {
    "name": "ipython",
    "version": 3
   },
   "file_extension": ".py",
   "mimetype": "text/x-python",
   "name": "python",
   "nbconvert_exporter": "python",
   "pygments_lexer": "ipython3",
   "version": "3.12.7"
  }
 },
 "nbformat": 4,
 "nbformat_minor": 4
}
