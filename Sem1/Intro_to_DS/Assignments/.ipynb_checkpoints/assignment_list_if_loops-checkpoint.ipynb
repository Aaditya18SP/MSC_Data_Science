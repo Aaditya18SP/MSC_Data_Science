{
 "cells": [
  {
   "cell_type": "markdown",
   "metadata": {},
   "source": [
    "# Python List:"
   ]
  },
  {
   "cell_type": "markdown",
   "metadata": {},
   "source": [
    "### 1. Create your own lists otherwise use the List1 = ['hello','good','morning']  to operate the below Python list  Operations?\n",
    "    A. Repetition (*)\n",
    "    B. Concatenation (+)\n",
    "    C. Membership\n",
    "    D. Length\n",
    "    E. Iteration"
   ]
  },
  {
   "cell_type": "markdown",
   "metadata": {},
   "source": [
    "##### 1.A. Repetition:"
   ]
  },
  {
   "cell_type": "code",
   "execution_count": 8,
   "metadata": {},
   "outputs": [
    {
     "data": {
      "text/plain": [
       "['Ferrari 296 Gtb',\n",
       " 'Maserati MC20',\n",
       " 'Lamborghini Revuelto',\n",
       " 'Alfa Romeo Guilia Quadrifolgio',\n",
       " 'Pagani Utopia',\n",
       " 'Ferrari Daytona Sp3',\n",
       " 'Abarth 124 spider',\n",
       " 'Ferrari 296 Gtb',\n",
       " 'Maserati MC20',\n",
       " 'Lamborghini Revuelto',\n",
       " 'Alfa Romeo Guilia Quadrifolgio',\n",
       " 'Pagani Utopia',\n",
       " 'Ferrari Daytona Sp3',\n",
       " 'Abarth 124 spider']"
      ]
     },
     "execution_count": 8,
     "metadata": {},
     "output_type": "execute_result"
    }
   ],
   "source": [
    "italian_cars = [\"Ferrari 296 Gtb\", \"Maserati MC20\", \"Lamborghini Revuelto\", \"Alfa Romeo Guilia Quadrifolgio\", \"Pagani Utopia\", \"Ferrari Daytona Sp3\", \"Abarth 124 spider\"]\n",
    "2*italian_cars"
   ]
  },
  {
   "cell_type": "markdown",
   "metadata": {},
   "source": [
    "#### 1.B. Concatenation (+):"
   ]
  },
  {
   "cell_type": "code",
   "execution_count": 9,
   "metadata": {},
   "outputs": [
    {
     "data": {
      "text/plain": [
       "['Ferrari 296 Gtb',\n",
       " 'Maserati MC20',\n",
       " 'Lamborghini Revuelto',\n",
       " 'Alfa Romeo Guilia Quadrifolgio',\n",
       " 'Pagani Utopia',\n",
       " 'Ferrari Daytona Sp3',\n",
       " 'Abarth 124 spider',\n",
       " 'Porsche 911 S/T',\n",
       " 'Porsche 911 GT3RS',\n",
       " 'Mercedes AMG One',\n",
       " 'BMW M3 Touring',\n",
       " 'Audi R8 GT',\n",
       " 'Skoda Superb',\n",
       " 'Volkswagen Passat']"
      ]
     },
     "execution_count": 9,
     "metadata": {},
     "output_type": "execute_result"
    }
   ],
   "source": [
    "german_cars = [\"Porsche 911 S/T\", \"Porsche 911 GT3RS\", \"Mercedes AMG One\", \"BMW M3 Touring\", \"Audi R8 GT\", \"Skoda Superb\", \"Volkswagen Passat\"]\n",
    "\n",
    "italian_cars + german_cars"
   ]
  },
  {
   "cell_type": "markdown",
   "metadata": {},
   "source": [
    "#### 1.C. Membership:"
   ]
  },
  {
   "cell_type": "code",
   "execution_count": 13,
   "metadata": {},
   "outputs": [
    {
     "name": "stdout",
     "output_type": "stream",
     "text": [
      "False\n",
      "True\n"
     ]
    }
   ],
   "source": [
    "if \"Ferrari 812\" in italian_cars:\n",
    "    print(\"True\")\n",
    "else:\n",
    "    print(\"False\")\n",
    "    \n",
    "if \"Ferrari 296 Gtb\" in italian_cars:\n",
    "    print(\"True\")\n",
    "else:\n",
    "    print(\"False\")"
   ]
  },
  {
   "cell_type": "markdown",
   "metadata": {},
   "source": [
    "#### 1.D. Length:"
   ]
  },
  {
   "cell_type": "code",
   "execution_count": 14,
   "metadata": {},
   "outputs": [
    {
     "name": "stdout",
     "output_type": "stream",
     "text": [
      "Number of Italian cars:  7\n",
      "Number of German Cars:  7\n"
     ]
    }
   ],
   "source": [
    "print(\"Number of Italian cars: \" , len(italian_cars))\n",
    "print(\"Number of German Cars: \",len(german_cars))"
   ]
  },
  {
   "cell_type": "markdown",
   "metadata": {},
   "source": [
    "#### 1.E. Iteration:"
   ]
  },
  {
   "cell_type": "code",
   "execution_count": 18,
   "metadata": {},
   "outputs": [
    {
     "name": "stdout",
     "output_type": "stream",
     "text": [
      "All Italian cars are\n",
      "1 Ferrari 296 Gtb\n",
      "2 Maserati MC20\n",
      "3 Lamborghini Revuelto\n",
      "4 Alfa Romeo Guilia Quadrifolgio\n",
      "5 Pagani Utopia\n",
      "6 Ferrari Daytona Sp3\n",
      "7 Abarth 124 spider\n",
      "\n",
      "====================\n",
      "All German  cars are\n",
      "1 Porsche 911 S/T\n",
      "2 Porsche 911 GT3RS\n",
      "3 Mercedes AMG One\n",
      "4 BMW M3 Touring\n",
      "5 Audi R8 GT\n",
      "6 Skoda Superb\n",
      "7 Volkswagen Passat\n"
     ]
    }
   ],
   "source": [
    "print(\"All Italian cars are\")\n",
    "for idx, ic in enumerate(italian_cars):\n",
    "    print(idx+1,ic) \n",
    "\n",
    "print(\"\\n====================\")\n",
    "print(\"All German  cars are\")\n",
    "for idx, gc in enumerate(german_cars):\n",
    "    print(idx+1,gc) "
   ]
  },
  {
   "cell_type": "markdown",
   "metadata": {},
   "source": [
    "### 2.1. Create your own lists to operate the below Python List Built-in functions?\n",
    "##### otherwise use the\n",
    "                    List1 = [15, 300, 2700, 821]\n",
    "                    List2 = [12, 2]\n",
    "                    List3 = [34, 567, 78]"
   ]
  },
  {
   "cell_type": "markdown",
   "metadata": {},
   "source": [
    "    A.\tmax(list)\t   \n",
    "    B.\tmin(list)\t   \n",
    "    C.\tlist(seq)\t     "
   ]
  },
  {
   "cell_type": "markdown",
   "metadata": {},
   "source": [
    "#### 2.A)  max():"
   ]
  },
  {
   "cell_type": "code",
   "execution_count": 19,
   "metadata": {},
   "outputs": [
    {
     "name": "stdout",
     "output_type": "stream",
     "text": [
      "max of list1: 2700\n",
      "max of list2: 12\n",
      "max of list3: 567\n"
     ]
    }
   ],
   "source": [
    "List1 = [15, 300, 2700, 821]\n",
    "List2 = [12, 2]\n",
    "List3 = [34, 567, 78]\n",
    "\n",
    "print(\"max of list1:\", max(List1))\n",
    "print(\"max of list2:\", max(List2))\n",
    "print(\"max of list3:\", max(List3))"
   ]
  },
  {
   "cell_type": "markdown",
   "metadata": {},
   "source": [
    "#### 2.B) min():"
   ]
  },
  {
   "cell_type": "code",
   "execution_count": 20,
   "metadata": {},
   "outputs": [
    {
     "name": "stdout",
     "output_type": "stream",
     "text": [
      "min of list1: 15\n",
      "min of list2: 2\n",
      "min of list3: 34\n"
     ]
    }
   ],
   "source": [
    "print(\"min of list1:\", min(List1))\n",
    "print(\"min of list2:\", min(List2))\n",
    "print(\"min of list3:\", min(List3))"
   ]
  },
  {
   "cell_type": "markdown",
   "metadata": {},
   "source": [
    "#### 2.C) list:"
   ]
  },
  {
   "cell_type": "code",
   "execution_count": 24,
   "metadata": {},
   "outputs": [
    {
     "name": "stdout",
     "output_type": "stream",
     "text": [
      "[23, 45, 76, [76.86, 87.56], 'ABC']\n",
      "<class 'list'>\n"
     ]
    }
   ],
   "source": [
    "seq_1 = (23, 45, 76, [76.86, 87.56], \"ABC\")\n",
    "seq_1_list = list(seq_1)\n",
    "print(seq_1_list)\n",
    "print(type(seq_1_list))"
   ]
  },
  {
   "cell_type": "markdown",
   "metadata": {},
   "source": [
    "### 3. Create your own lists to operate the below Python List built-in methods"
   ]
  },
  {
   "cell_type": "markdown",
   "metadata": {},
   "source": [
    "    A.\tlist.append()\n",
    "    B.\tlist.clear()\t \n",
    "    C.\tList.copy()\t           \n",
    "    D.\tlist.count()\t       \n",
    "    E.\tlist.extend()\t  \n",
    "    F.\tlist.index()\n",
    "    G.\tlist.insert()\t\n",
    "    H.\tlist.pop()\t\n",
    "    I.\tlist.remove()\t  \n",
    "    J.\tlist.reverse()\t        \n",
    "    K.\tlist.sort()\t  "
   ]
  },
  {
   "cell_type": "markdown",
   "metadata": {},
   "source": [
    "#### 3.A) append:"
   ]
  },
  {
   "cell_type": "code",
   "execution_count": 28,
   "metadata": {},
   "outputs": [
    {
     "name": "stdout",
     "output_type": "stream",
     "text": [
      "['Ferrari 296 Gtb', 'Maserati MC20', 'Lamborghini Revuelto', 'Alfa Romeo Guilia Quadrifolgio', 'Pagani Utopia', 'Ferrari Daytona Sp3', 'Abarth 124 spider', 'Ferrari 812 Competizione', 'Ferrari 812 Competizione', 'Ferrari 812 Competizione', 'Ferrari 812 Competizione']\n",
      "\n",
      "['Porsche 911 S/T', 'Porsche 911 GT3RS', 'Mercedes AMG One', 'BMW M3 Touring', 'Audi R8 GT', 'Skoda Superb', 'Volkswagen Passat', 'Porsche 911 GT3 R Rennsport', 'Porsche 911 GT3 R Rennsport', 'Porsche 911 GT3 R Rennsport', 'Porsche 911 GT3 R Rennsport']\n"
     ]
    }
   ],
   "source": [
    "italian_cars.append(\"Ferrari 812 Competizione\")\n",
    "german_cars.append(\"Porsche 911 GT3 R Rennsport\")\n",
    "print(italian_cars, end=\"\\n\\n\")\n",
    "print(german_cars)"
   ]
  },
  {
   "cell_type": "markdown",
   "metadata": {},
   "source": [
    "#### 3.B) list.clear():"
   ]
  },
  {
   "cell_type": "code",
   "execution_count": 29,
   "metadata": {},
   "outputs": [
    {
     "data": {
      "text/plain": [
       "[]"
      ]
     },
     "execution_count": 29,
     "metadata": {},
     "output_type": "execute_result"
    }
   ],
   "source": [
    "List1.clear()\n",
    "List1"
   ]
  },
  {
   "cell_type": "markdown",
   "metadata": {},
   "source": [
    "#### 3.C) List.copy()"
   ]
  },
  {
   "cell_type": "code",
   "execution_count": 31,
   "metadata": {},
   "outputs": [
    {
     "data": {
      "text/plain": [
       "['Ferrari 296 Gtb',\n",
       " 'Maserati MC20',\n",
       " 'Lamborghini Revuelto',\n",
       " 'Alfa Romeo Guilia Quadrifolgio',\n",
       " 'Pagani Utopia',\n",
       " 'Ferrari Daytona Sp3',\n",
       " 'Abarth 124 spider',\n",
       " 'Ferrari 812 Competizione',\n",
       " 'Ferrari 812 Competizione',\n",
       " 'Ferrari 812 Competizione',\n",
       " 'Ferrari 812 Competizione']"
      ]
     },
     "execution_count": 31,
     "metadata": {},
     "output_type": "execute_result"
    }
   ],
   "source": [
    "backup_italian_cars = italian_cars.copy()\n",
    "backup_italian_cars"
   ]
  },
  {
   "cell_type": "markdown",
   "metadata": {},
   "source": [
    "#### 3. D) list.count(obj):"
   ]
  },
  {
   "cell_type": "code",
   "execution_count": 33,
   "metadata": {},
   "outputs": [
    {
     "data": {
      "text/plain": [
       "1"
      ]
     },
     "execution_count": 33,
     "metadata": {},
     "output_type": "execute_result"
    }
   ],
   "source": [
    "german_cars.count(\"Porsche 911 GT3RS\")"
   ]
  },
  {
   "cell_type": "markdown",
   "metadata": {},
   "source": [
    "#### 3.E) list.extend(seq):"
   ]
  },
  {
   "cell_type": "code",
   "execution_count": 35,
   "metadata": {},
   "outputs": [],
   "source": [
    "classic_german_cars = (\"Porsche 959\", \"Porsche Carrera GT\", \"Porsche 911 GT3RS 4.0\", \"Porsche 2.7RS\", \"Mercedes 300SL\", \"Mercedes AMG SLS Black Series \")"
   ]
  },
  {
   "cell_type": "markdown",
   "metadata": {},
   "source": [
    "#### 3.F) list.index(obj):"
   ]
  },
  {
   "cell_type": "code",
   "execution_count": 36,
   "metadata": {},
   "outputs": [
    {
     "data": {
      "text/plain": [
       "['Porsche 911 S/T',\n",
       " 'Porsche 911 GT3RS',\n",
       " 'Mercedes AMG One',\n",
       " 'BMW M3 Touring',\n",
       " 'Audi R8 GT',\n",
       " 'Skoda Superb',\n",
       " 'Volkswagen Passat',\n",
       " 'Porsche 911 GT3 R Rennsport',\n",
       " 'Porsche 911 GT3 R Rennsport',\n",
       " 'Porsche 911 GT3 R Rennsport',\n",
       " 'Porsche 911 GT3 R Rennsport',\n",
       " 'Porsche 959',\n",
       " 'Porsche Carrera GT',\n",
       " 'Porsche 911 GT3RS 4.0',\n",
       " 'Porsche 2.7RS',\n",
       " 'Mercedes 300SL',\n",
       " 'Mercedes AMG SLS Black Series ']"
      ]
     },
     "execution_count": 36,
     "metadata": {},
     "output_type": "execute_result"
    }
   ],
   "source": [
    "german_cars.extend(classic_german_cars)\n",
    "german_cars"
   ]
  },
  {
   "cell_type": "markdown",
   "metadata": {},
   "source": [
    "#### 3.G) list.insert(index, obj):"
   ]
  },
  {
   "cell_type": "code",
   "execution_count": 58,
   "metadata": {},
   "outputs": [
    {
     "data": {
      "text/plain": [
       "[0, 1, 2, [34.8, 56.78, 86.7], 3, 4, 5, 6, 7, 8, 9, 23]"
      ]
     },
     "execution_count": 58,
     "metadata": {},
     "output_type": "execute_result"
    }
   ],
   "source": [
    "List1.clear()\n",
    "for i in range(0,10):\n",
    "    List1.insert(i,i)\n",
    "\n",
    "List1.insert(len(List1),23)\n",
    "List1.insert(3, [34.8,56.78,86.7])\n",
    "List1"
   ]
  },
  {
   "cell_type": "markdown",
   "metadata": {},
   "source": [
    "#### 3.H) list.pop(obj=list[-1]):"
   ]
  },
  {
   "cell_type": "code",
   "execution_count": 59,
   "metadata": {},
   "outputs": [
    {
     "data": {
      "text/plain": [
       "[0, 1, 2, 3, 4, 5, 6, 7, 8, 9, 23]"
      ]
     },
     "execution_count": 59,
     "metadata": {},
     "output_type": "execute_result"
    }
   ],
   "source": [
    "List1.pop(3) #3 is the index here \n",
    "List1"
   ]
  },
  {
   "cell_type": "markdown",
   "metadata": {},
   "source": [
    "#### 3.I) list.remove(obj):"
   ]
  },
  {
   "cell_type": "code",
   "execution_count": 60,
   "metadata": {},
   "outputs": [
    {
     "data": {
      "text/plain": [
       "[1, 2, 3, 4, 5, 6, 7, 8, 9, 23]"
      ]
     },
     "execution_count": 60,
     "metadata": {},
     "output_type": "execute_result"
    }
   ],
   "source": [
    "List1.remove(0)\n",
    "List1"
   ]
  },
  {
   "cell_type": "markdown",
   "metadata": {},
   "source": [
    "#### 3.j) list.reverse():"
   ]
  },
  {
   "cell_type": "code",
   "execution_count": 61,
   "metadata": {},
   "outputs": [
    {
     "data": {
      "text/plain": [
       "[23, 9, 8, 7, 6, 5, 4, 3, 2, 1]"
      ]
     },
     "execution_count": 61,
     "metadata": {},
     "output_type": "execute_result"
    }
   ],
   "source": [
    "List1.reverse()\n",
    "List1"
   ]
  },
  {
   "cell_type": "markdown",
   "metadata": {},
   "source": [
    "#### 3.K) list.sort([func]):"
   ]
  },
  {
   "cell_type": "code",
   "execution_count": 72,
   "metadata": {},
   "outputs": [
    {
     "data": {
      "text/plain": [
       "['Abarth 124 spider',\n",
       " 'Alfa Romeo Guilia Quadrifolgio',\n",
       " 'Ferrari 296 Gtb',\n",
       " 'Ferrari 812 Competizione',\n",
       " 'Ferrari 812 Competizione',\n",
       " 'Ferrari 812 Competizione',\n",
       " 'Ferrari 812 Competizione',\n",
       " 'Ferrari Daytona Sp3',\n",
       " 'Lamborghini Revuelto',\n",
       " 'Maserati MC20',\n",
       " 'Pagani Utopia']"
      ]
     },
     "execution_count": 72,
     "metadata": {},
     "output_type": "execute_result"
    }
   ],
   "source": [
    "def sort_func(car):\n",
    "    return car.lower()\n",
    "    \n",
    "italian_cars.sort(key=sort_func)\n",
    "italian_cars"
   ]
  },
  {
   "cell_type": "markdown",
   "metadata": {},
   "source": [
    "# Python Tuple"
   ]
  },
  {
   "cell_type": "markdown",
   "metadata": {},
   "source": [
    "### Create your own Tuple to operate the below Python tuple Operations ?\n",
    "##### otherwise use the\n",
    "                Tuple1 = ('a','b','c','d')\n",
    "                Tuple2 = ('e','f','g','h')"
   ]
  },
  {
   "cell_type": "markdown",
   "metadata": {},
   "source": [
    "### 1. Tuple Operations \n",
    "  \n",
    "  \n",
    "    A. Repetition (*)\n",
    "    B. Concatenation (+)\n",
    "    C. Membership\n",
    "    D. Length\n",
    "    E. Iteration"
   ]
  },
  {
   "cell_type": "markdown",
   "metadata": {},
   "source": [
    "##### 1.A. Repetition:\n"
   ]
  },
  {
   "cell_type": "code",
   "execution_count": 78,
   "metadata": {},
   "outputs": [
    {
     "data": {
      "text/plain": [
       "('a', 'b', 'c', 'd', 'a', 'b', 'c', 'd')"
      ]
     },
     "execution_count": 78,
     "metadata": {},
     "output_type": "execute_result"
    }
   ],
   "source": [
    "Tuple1 = ('a','b','c','d')\n",
    "Tuple2 = ('e','f','g','h')\n",
    "\n",
    "Tup2_repe = Tuple1*2\n",
    "Tup2_repe\n"
   ]
  },
  {
   "cell_type": "markdown",
   "metadata": {},
   "source": [
    "#### 1.B. Concatenation (+):"
   ]
  },
  {
   "cell_type": "code",
   "execution_count": 80,
   "metadata": {},
   "outputs": [
    {
     "data": {
      "text/plain": [
       "('a', 'b', 'c', 'd', 'e', 'f', 'g', 'h')"
      ]
     },
     "execution_count": 80,
     "metadata": {},
     "output_type": "execute_result"
    }
   ],
   "source": [
    "tup3 = Tuple1 + Tuple2\n",
    "tup3"
   ]
  },
  {
   "cell_type": "markdown",
   "metadata": {},
   "source": [
    "#### 1.C) Membership:"
   ]
  },
  {
   "cell_type": "code",
   "execution_count": 83,
   "metadata": {},
   "outputs": [
    {
     "name": "stdout",
     "output_type": "stream",
     "text": [
      "False\n",
      "True\n"
     ]
    }
   ],
   "source": [
    "if ('a', 'b', 'c') in tup3:\n",
    "    print(\"True\")\n",
    "else:\n",
    "    print(\"False\")\n",
    "    \n",
    "if 'a' in tup3:\n",
    "    print(\"True\")\n",
    "else:\n",
    "    print(\"False\")"
   ]
  },
  {
   "cell_type": "markdown",
   "metadata": {},
   "source": [
    "#### 1.D) Length:"
   ]
  },
  {
   "cell_type": "code",
   "execution_count": 84,
   "metadata": {
    "scrolled": true
   },
   "outputs": [
    {
     "name": "stdout",
     "output_type": "stream",
     "text": [
      "4\n",
      "4\n",
      "8\n"
     ]
    }
   ],
   "source": [
    "print(len(Tuple1))\n",
    "print(len(Tuple2))\n",
    "print(len(tup3))"
   ]
  },
  {
   "cell_type": "markdown",
   "metadata": {},
   "source": [
    "#### 1.E) Iteration:"
   ]
  },
  {
   "cell_type": "code",
   "execution_count": 86,
   "metadata": {},
   "outputs": [
    {
     "name": "stdout",
     "output_type": "stream",
     "text": [
      "a <=> b <=> c <=> d <=> e <=> f <=> g <=> h <=> "
     ]
    }
   ],
   "source": [
    "for element in tup3:\n",
    "    print(element, end=\" <=> \")"
   ]
  },
  {
   "cell_type": "markdown",
   "metadata": {},
   "source": [
    "### 2.Create your own Tuple to operate the below Python tuple inbuilt functions ?\n",
    "##### otherwise use the\n",
    "            Tuple1 = (1,4,2,4,5,6,3,5,4,6,77,8,7,7,876,89,8765,4,5,1,876,9,3456,4234)\n",
    "         "
   ]
  },
  {
   "cell_type": "markdown",
   "metadata": {},
   "source": [
    "         A.\tmax(Tuple)\t   \n",
    "         B.\tmin(Tuple)\t    \n",
    "         C.\tTuple(seq)\t    "
   ]
  },
  {
   "cell_type": "markdown",
   "metadata": {},
   "source": [
    "#### 2.A) max():"
   ]
  },
  {
   "cell_type": "code",
   "execution_count": 90,
   "metadata": {},
   "outputs": [
    {
     "name": "stdout",
     "output_type": "stream",
     "text": [
      "h\n",
      "8765\n"
     ]
    }
   ],
   "source": [
    "tup4 = (1,4,2,4,5,6,3,5,4,6,77,8,7,7,876,89,8765,4,5,1,876,9,3456,4234)\n",
    "print(max(tup3))\n",
    "print(max(tup4))"
   ]
  },
  {
   "cell_type": "markdown",
   "metadata": {},
   "source": [
    "#### 2.D) min():"
   ]
  },
  {
   "cell_type": "code",
   "execution_count": 91,
   "metadata": {},
   "outputs": [
    {
     "name": "stdout",
     "output_type": "stream",
     "text": [
      "a\n",
      "1\n"
     ]
    }
   ],
   "source": [
    "print(min(tup3))\n",
    "print(min(tup4))"
   ]
  },
  {
   "cell_type": "markdown",
   "metadata": {},
   "source": [
    "#### 2.E) Tuple:"
   ]
  },
  {
   "cell_type": "code",
   "execution_count": 92,
   "metadata": {},
   "outputs": [
    {
     "data": {
      "text/plain": [
       "('Abarth 124 spider',\n",
       " 'Alfa Romeo Guilia Quadrifolgio',\n",
       " 'Ferrari 296 Gtb',\n",
       " 'Ferrari 812 Competizione',\n",
       " 'Ferrari 812 Competizione',\n",
       " 'Ferrari 812 Competizione',\n",
       " 'Ferrari 812 Competizione',\n",
       " 'Ferrari Daytona Sp3',\n",
       " 'Lamborghini Revuelto',\n",
       " 'Maserati MC20',\n",
       " 'Pagani Utopia')"
      ]
     },
     "execution_count": 92,
     "metadata": {},
     "output_type": "execute_result"
    }
   ],
   "source": [
    "ic_tuple = tuple(italian_cars)\n",
    "ic_tuple"
   ]
  },
  {
   "cell_type": "markdown",
   "metadata": {},
   "source": [
    "# Conditional Statements"
   ]
  },
  {
   "cell_type": "markdown",
   "metadata": {},
   "source": [
    "    1. IF \n",
    "    2. IF-ELSE\n",
    "    3. If...Elif...Else\n",
    "   "
   ]
  },
  {
   "cell_type": "markdown",
   "metadata": {},
   "source": [
    "#### 1. Write if statement 13 is greater than 25?"
   ]
  },
  {
   "cell_type": "code",
   "execution_count": null,
   "metadata": {},
   "outputs": [],
   "source": [
    "if 13 > 25:\n",
    "    print(\"13 is greater than 25\")"
   ]
  },
  {
   "cell_type": "markdown",
   "metadata": {},
   "source": [
    "##### 2.  Write a if else  statement to find if the number is divisible by 25?"
   ]
  },
  {
   "cell_type": "code",
   "execution_count": 94,
   "metadata": {},
   "outputs": [
    {
     "name": "stdin",
     "output_type": "stream",
     "text": [
      "enter number: 23\n"
     ]
    },
    {
     "name": "stdout",
     "output_type": "stream",
     "text": [
      "23 is not divisible by 5\n"
     ]
    }
   ],
   "source": [
    "num = int(input(\"enter number:\"))\n",
    "if num%5==0:\n",
    "    print(num, \"is divisible by 5\")\n",
    "else:\n",
    "    print(num, \"is not divisible by 5\")"
   ]
  },
  {
   "cell_type": "markdown",
   "metadata": {},
   "source": [
    "#### 3.Using the three variables 'a = 154; b = 2451; c = 6054', \n",
    "Write a If...Elif...Else statement to find the greatest number"
   ]
  },
  {
   "cell_type": "code",
   "execution_count": 95,
   "metadata": {},
   "outputs": [
    {
     "name": "stdout",
     "output_type": "stream",
     "text": [
      "C is greater than A and B\n"
     ]
    }
   ],
   "source": [
    "a = 154\n",
    "b =  2451\n",
    "c = 6054\n",
    "\n",
    "if a > b and a > c:\n",
    "    print(\"A is greater than B and C\")\n",
    "elif b > a and b > c:\n",
    "    print(\"B is greater than A and C\")\n",
    "else:\n",
    "    print(\"C is greater than A and B\")"
   ]
  },
  {
   "cell_type": "markdown",
   "metadata": {},
   "source": [
    "# while Loop"
   ]
  },
  {
   "cell_type": "markdown",
   "metadata": {},
   "source": [
    "### 1. Write a code to print (1,10) using while loops"
   ]
  },
  {
   "cell_type": "code",
   "execution_count": 96,
   "metadata": {},
   "outputs": [
    {
     "name": "stdout",
     "output_type": "stream",
     "text": [
      "1\n",
      "2\n",
      "3\n",
      "4\n",
      "5\n",
      "6\n",
      "7\n",
      "8\n",
      "9\n",
      "10\n"
     ]
    }
   ],
   "source": [
    "num = 1\n",
    "while num<=10:\n",
    "    print(num)\n",
    "    num+=1"
   ]
  },
  {
   "cell_type": "markdown",
   "metadata": {},
   "source": [
    "# For Loop:"
   ]
  },
  {
   "cell_type": "markdown",
   "metadata": {},
   "source": [
    "### 1. Write a code to print string using for loop? "
   ]
  },
  {
   "cell_type": "code",
   "execution_count": 98,
   "metadata": {
    "scrolled": true
   },
   "outputs": [
    {
     "name": "stdout",
     "output_type": "stream",
     "text": [
      "===============Letters in string==============\n",
      "H a p p y   D u s s h e r a ! \n",
      "===============Words in string==============\n",
      "Happy\n",
      "Dusshera!\n"
     ]
    }
   ],
   "source": [
    "string = \"Happy Dusshera!\"\n",
    "print(\"===============Letters in string==============\")\n",
    "for alpha in string:\n",
    "    print(alpha, end =\" \")\n",
    "print()\n",
    "\n",
    "print(\"===============Words in string==============\")\n",
    "for word in string.split():\n",
    "    print(word)"
   ]
  },
  {
   "cell_type": "markdown",
   "metadata": {},
   "source": [
    "### 2. Write a code for (1,10) after equal to 3 break the loop?"
   ]
  },
  {
   "cell_type": "code",
   "execution_count": 99,
   "metadata": {},
   "outputs": [
    {
     "name": "stdout",
     "output_type": "stream",
     "text": [
      "1\n",
      "2\n"
     ]
    }
   ],
   "source": [
    "for num in range(1, 10):\n",
    "    if num==3:\n",
    "        break\n",
    "    print(num)"
   ]
  },
  {
   "cell_type": "markdown",
   "metadata": {},
   "source": [
    "### 3. Write a code for (1,10) after equal to 3 continue the loop?"
   ]
  },
  {
   "cell_type": "code",
   "execution_count": 100,
   "metadata": {},
   "outputs": [
    {
     "name": "stdout",
     "output_type": "stream",
     "text": [
      "1\n",
      "2\n",
      "4\n",
      "5\n",
      "6\n",
      "7\n",
      "8\n",
      "9\n"
     ]
    }
   ],
   "source": [
    "for num in range(1, 10):\n",
    "    if num==3:\n",
    "        continue\n",
    "    print(num)"
   ]
  },
  {
   "cell_type": "code",
   "execution_count": null,
   "metadata": {},
   "outputs": [],
   "source": []
  }
 ],
 "metadata": {
  "kernelspec": {
   "display_name": "Python 3 (ipykernel)",
   "language": "python",
   "name": "python3"
  },
  "language_info": {
   "codemirror_mode": {
    "name": "ipython",
    "version": 3
   },
   "file_extension": ".py",
   "mimetype": "text/x-python",
   "name": "python",
   "nbconvert_exporter": "python",
   "pygments_lexer": "ipython3",
   "version": "3.12.7"
  }
 },
 "nbformat": 4,
 "nbformat_minor": 4
}
