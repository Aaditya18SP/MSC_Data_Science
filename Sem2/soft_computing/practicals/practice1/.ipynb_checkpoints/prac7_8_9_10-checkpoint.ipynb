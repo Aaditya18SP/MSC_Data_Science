{
 "cells": [
  {
   "cell_type": "markdown",
   "id": "5888cbc8-a96e-4832-9b4e-a613ffd25fd7",
   "metadata": {},
   "source": [
    "# Prac 7 - De Morgan's"
   ]
  },
  {
   "cell_type": "code",
   "execution_count": 27,
   "id": "25f28527-2956-44d9-bbf4-eae611cb38dd",
   "metadata": {},
   "outputs": [],
   "source": [
    "\n",
    "fset1 = [(10, 0.1), (20,0.2),(30,0.56), (40, 0.67), (50, 0.98)]\n",
    "fset2 = [(10, 0.5), (20,0.9),(30,0.28), (40, 0.92), (50, 0.16)]\n"
   ]
  },
  {
   "cell_type": "code",
   "execution_count": 28,
   "id": "c4ec2164-8be7-4e4d-9ddf-9d6e375f86cd",
   "metadata": {},
   "outputs": [],
   "source": [
    "def fuzzyUnion(setA, setB):\n",
    "    uFset =[]\n",
    "    for a, b in zip(setA, setB):\n",
    "        uFset.append((a[0], max(a[1], b[1])))\n",
    "    return uFset\n",
    "\n",
    "def fuzzyIntersection(setA, setB):\n",
    "    iFset= []\n",
    "    for a, b in zip(setA, setB):\n",
    "        iFset.append((a[0], min(a[1], b[1])))\n",
    "    return iFset\n",
    "\n",
    "def complement(setX):\n",
    "    return [(ele[0], round(1-ele[1],2)) for ele in setX]\n",
    "\n",
    "def fuzzyEqual(setA, setB):\n",
    "    for a in setA:\n",
    "        for b in setB:\n",
    "            if(b[0]!=a[0]):\n",
    "                continue\n",
    "            elif(b[1]!=a[1]):\n",
    "                return False\n",
    "    return True\n",
    "\n",
    "def fuzzyDiff(setA, setB):\n",
    "    return fuzzyIntersection(fset1, complement(fset2))\n",
    "\n",
    "\n",
    "def fuzzyRel(setA, setB):\n",
    "    relMatrix =[]\n",
    "    for a in setA:\n",
    "        temp =[]\n",
    "        for b in setB:\n",
    "            temp.append(((a[0], b[0]),min(a[1], b[1])))\n",
    "        relMatrix.append(temp)\n",
    "    return relMatrix\n",
    "            \n",
    "        "
   ]
  },
  {
   "cell_type": "code",
   "execution_count": 29,
   "id": "a98b933b-a1a4-4a09-bd31-2a1793aecf20",
   "metadata": {},
   "outputs": [
    {
     "name": "stdout",
     "output_type": "stream",
     "text": [
      "[(10, 0.5), (20, 0.1), (30, 0.44), (40, 0.08), (50, 0.02)]\n",
      "[(10, 0.5), (20, 0.1), (30, 0.44), (40, 0.08), (50, 0.02)]\n",
      "True\n"
     ]
    }
   ],
   "source": [
    "#(A U B )' = A' intersection B'\n",
    "\n",
    "#LHS:\n",
    "complementOfUnion  = complement(fuzzyUnion(fset1, fset2))\n",
    "\n",
    "#RHS:\n",
    "unionOfComplement = fuzzyIntersection(complement(fset1), complement(fset2))\n",
    "\n",
    "print(complementOfUnion)\n",
    "print(unionOfComplement)\n",
    "\n",
    "print(fuzzyEqual(complementOfUnion, unionOfComplement))"
   ]
  },
  {
   "cell_type": "code",
   "execution_count": 30,
   "id": "55cd2fb2-fe85-45d9-ba10-324aaf7d077d",
   "metadata": {},
   "outputs": [
    {
     "name": "stdout",
     "output_type": "stream",
     "text": [
      "[(10, 0.9), (20, 0.8), (30, 0.72), (40, 0.33), (50, 0.84)]\n",
      "[(10, 0.9), (20, 0.8), (30, 0.72), (40, 0.33), (50, 0.84)]\n",
      "True\n"
     ]
    }
   ],
   "source": [
    "#(A intersection B )' = A' U B'\n",
    "\n",
    "#LHS:\n",
    "complementOfIntersection = complement(fuzzyIntersection(fset1, fset2))\n",
    "\n",
    "#RHS:\n",
    "unionOfComplement = fuzzyUnion(complement(fset1), complement(fset2))\n",
    "\n",
    "print(complementOfIntersection)\n",
    "print(unionOfComplement)\n",
    "\n",
    "print(fuzzyEqual(complementOfIntersection, unionOfComplement))"
   ]
  },
  {
   "cell_type": "markdown",
   "id": "7321baf2-2a60-4399-b390-d5fe97adce4e",
   "metadata": {},
   "source": [
    "# Prac8 - Union, Intersection, Difference, Complement"
   ]
  },
  {
   "cell_type": "code",
   "execution_count": 31,
   "id": "b1e76c8b-827d-4318-b8a7-5a3b1420e48c",
   "metadata": {},
   "outputs": [
    {
     "name": "stdout",
     "output_type": "stream",
     "text": [
      "Fuzzy set A [(10, 0.1), (20, 0.2), (30, 0.56), (40, 0.67), (50, 0.98)]\n",
      "Fuzzy set B [(10, 0.5), (20, 0.9), (30, 0.28), (40, 0.92), (50, 0.16)]\n",
      "\n",
      "Union [(10, 0.5), (20, 0.9), (30, 0.56), (40, 0.92), (50, 0.98)]\n",
      "Intersection [(10, 0.1), (20, 0.2), (30, 0.28), (40, 0.67), (50, 0.16)]\n",
      "difference [(10, 0.1), (20, 0.1), (30, 0.56), (40, 0.08), (50, 0.84)]\n",
      "Complement of set A [(10, 0.9), (20, 0.8), (30, 0.44), (40, 0.33), (50, 0.02)]\n",
      "Complement of set B [(10, 0.5), (20, 0.1), (30, 0.72), (40, 0.08), (50, 0.84)]\n"
     ]
    }
   ],
   "source": [
    "print(\"Fuzzy set A\", fset1)\n",
    "print(\"Fuzzy set B\", fset2)\n",
    "print()\n",
    "print(\"Union\", fuzzyUnion(fset1,fset2))\n",
    "print(\"Intersection\", fuzzyIntersection(fset1, fset2))\n",
    "print(\"difference\", fuzzyDiff(fset1, fset2))\n",
    "print(\"Complement of set A\", complement(fset1))\n",
    "print(\"Complement of set B\", complement(fset2))"
   ]
  },
  {
   "cell_type": "markdown",
   "id": "b1eec9bd-8197-4f06-8f49-6e9f6b348cbe",
   "metadata": {},
   "source": [
    "# Prac 9 - create fuzzy relation"
   ]
  },
  {
   "cell_type": "code",
   "execution_count": 34,
   "id": "16082909-030f-4b14-8eb5-8b0f5678c1b0",
   "metadata": {},
   "outputs": [
    {
     "name": "stdout",
     "output_type": "stream",
     "text": [
      "Fuzzy relation\n"
     ]
    },
    {
     "data": {
      "text/plain": [
       "[[((10, 110), 0.1),\n",
       "  ((10, 220), 0.1),\n",
       "  ((10, 330), 0.1),\n",
       "  ((10, 440), 0.1),\n",
       "  ((10, 550), 0.1)],\n",
       " [((20, 110), 0.2),\n",
       "  ((20, 220), 0.2),\n",
       "  ((20, 330), 0.2),\n",
       "  ((20, 440), 0.2),\n",
       "  ((20, 550), 0.16)],\n",
       " [((30, 110), 0.5),\n",
       "  ((30, 220), 0.56),\n",
       "  ((30, 330), 0.28),\n",
       "  ((30, 440), 0.56),\n",
       "  ((30, 550), 0.16)],\n",
       " [((40, 110), 0.5),\n",
       "  ((40, 220), 0.67),\n",
       "  ((40, 330), 0.28),\n",
       "  ((40, 440), 0.67),\n",
       "  ((40, 550), 0.16)],\n",
       " [((50, 110), 0.5),\n",
       "  ((50, 220), 0.9),\n",
       "  ((50, 330), 0.28),\n",
       "  ((50, 440), 0.92),\n",
       "  ((50, 550), 0.16)]]"
      ]
     },
     "execution_count": 34,
     "metadata": {},
     "output_type": "execute_result"
    }
   ],
   "source": [
    "print(\"Fuzzy relation\")\n",
    "fset3 = [(110, 0.5), (220,0.9),(330,0.28), (440, 0.92), (550, 0.16)]\n",
    "fuzzyRel(fset1, fset3)"
   ]
  },
  {
   "cell_type": "markdown",
   "id": "22f011d7-a875-41de-a41a-d7a086375d6d",
   "metadata": {},
   "source": [
    "# Prac 10 - min max composition"
   ]
  },
  {
   "cell_type": "code",
   "execution_count": 39,
   "id": "b1acf725-b7b9-4f64-89c1-ebd48f46dcdb",
   "metadata": {},
   "outputs": [
    {
     "name": "stdout",
     "output_type": "stream",
     "text": [
      "[[0.6, 0.5, 0.3], [0.8, 0.4, 0.7]]\n"
     ]
    }
   ],
   "source": [
    "def maxMinComposition(fuzzyRelA, fuzzyRelB):\n",
    "    result =[]\n",
    "    for i in range(len(fuzzyRelA)):\n",
    "        temp1=[]\n",
    "        for j in range(len(fuzzyRelB[0])):\n",
    "            temp2=[]\n",
    "            for k in range(len(fuzzyRelA[0])):\n",
    "                temp2.append(min(fuzzyRelA[i][k], fuzzyRelB[k][j]))\n",
    "            temp1.append(max(temp2))\n",
    "        result.append(temp1)\n",
    "    return result\n",
    "\n",
    "fuzzyRel1 = [[0.6, 0.2], [0.2,0.9]]\n",
    "fuzzyRel2 =[[1, 0.5,0.3], [0.8,0.4,0.7]]\n",
    "\n",
    "print(maxMinComposition(fuzzyRel1, fuzzyRel2))\n",
    "            "
   ]
  },
  {
   "cell_type": "code",
   "execution_count": null,
   "id": "ab5e0345-df66-46c4-a4aa-336fda8fe6ce",
   "metadata": {},
   "outputs": [],
   "source": []
  }
 ],
 "metadata": {
  "kernelspec": {
   "display_name": "Python 3 (ipykernel)",
   "language": "python",
   "name": "python3"
  },
  "language_info": {
   "codemirror_mode": {
    "name": "ipython",
    "version": 3
   },
   "file_extension": ".py",
   "mimetype": "text/x-python",
   "name": "python",
   "nbconvert_exporter": "python",
   "pygments_lexer": "ipython3",
   "version": "3.12.7"
  }
 },
 "nbformat": 4,
 "nbformat_minor": 5
}
