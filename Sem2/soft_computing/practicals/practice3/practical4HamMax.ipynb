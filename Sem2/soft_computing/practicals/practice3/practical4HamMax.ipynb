{
 "cells": [
  {
   "cell_type": "code",
   "execution_count": 51,
   "id": "cf5417d5-e944-4339-811f-99a1453b308e",
   "metadata": {},
   "outputs": [],
   "source": [
    "import numpy as np\n",
    "import random"
   ]
  },
  {
   "cell_type": "code",
   "execution_count": 60,
   "id": "e2469625-4ea4-4bcb-8589-f6165e96bfa3",
   "metadata": {},
   "outputs": [
    {
     "name": "stdout",
     "output_type": "stream",
     "text": [
      "[[ 1 -1 -1  1]\n",
      " [ 1  1  1  1]\n",
      " [ 1 -1 -1 -1]\n",
      " [-1  1 -1  1]]\n"
     ]
    },
    {
     "data": {
      "text/plain": [
       "array([[4, 2],\n",
       "       [0, 2],\n",
       "       [4, 2],\n",
       "       [2, 2]])"
      ]
     },
     "execution_count": 60,
     "metadata": {},
     "output_type": "execute_result"
    }
   ],
   "source": [
    "inputVec = []\n",
    "for i in range(4):\n",
    "    temp=[]\n",
    "    for j in range(4):\n",
    "        temp.append(-1 if random.randint(0,1)<1 else 1)\n",
    "    inputVec.append(temp)\n",
    "\n",
    "exemplars =[[-1,-1,-1,-1], [1,1,1,1]]\n",
    "weights = []\n",
    "\n",
    "inputVec = np.array(inputVec)\n",
    "for i in range(len(exemplars)):\n",
    "    weights.append(inputVec[i]//2)\n",
    "bias = len(inputVec)//2\n",
    "\n",
    "print(inputVec)\n",
    "\n",
    "activations = np.dot(np.array(inputVec), np.array(weights).T)+bias\n",
    "activations\n"
   ]
  },
  {
   "cell_type": "code",
   "execution_count": 62,
   "id": "50edd5bb-e7e7-477b-a900-25d8e852a3bf",
   "metadata": {},
   "outputs": [
    {
     "name": "stdout",
     "output_type": "stream",
     "text": [
      "[[2 0]\n",
      " [0 2]\n",
      " [2 0]\n",
      " [0 2]]\n"
     ]
    }
   ],
   "source": [
    "#max net for determining which class it belongs to\n",
    "epsilon =0.6\n",
    "for i in range(activations.shape[0]):\n",
    "    while(min(activations[i])>0):\n",
    "        for j in range(activations.shape[1]):\n",
    "            val = epsilon*sum(activations[i][k] for k in range(activations.shape[1]) if k!=j)\n",
    "            act = activations[i][j] - val\n",
    "            if(act<0):\n",
    "                act =0\n",
    "            activations[i][j] = act\n",
    "print(activations)"
   ]
  },
  {
   "cell_type": "code",
   "execution_count": null,
   "id": "aa49f835-4655-4972-b7cc-ab89de635787",
   "metadata": {},
   "outputs": [],
   "source": []
  }
 ],
 "metadata": {
  "kernelspec": {
   "display_name": "Python 3 (ipykernel)",
   "language": "python",
   "name": "python3"
  },
  "language_info": {
   "codemirror_mode": {
    "name": "ipython",
    "version": 3
   },
   "file_extension": ".py",
   "mimetype": "text/x-python",
   "name": "python",
   "nbconvert_exporter": "python",
   "pygments_lexer": "ipython3",
   "version": "3.12.7"
  }
 },
 "nbformat": 4,
 "nbformat_minor": 5
}
