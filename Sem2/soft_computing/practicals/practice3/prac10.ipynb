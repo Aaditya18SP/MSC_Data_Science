{
 "cells": [
  {
   "cell_type": "code",
   "execution_count": 2,
   "id": "33bce58c-504a-4894-b6d2-9888a6ee4c8c",
   "metadata": {},
   "outputs": [
    {
     "data": {
      "text/plain": [
       "[[0.6, 0.5, 0.3], [0.8, 0.4, 0.7]]"
      ]
     },
     "execution_count": 2,
     "metadata": {},
     "output_type": "execute_result"
    }
   ],
   "source": [
    "def maxMinComp(relA, relB):\n",
    "    result =[]\n",
    "    for i in range(len(relA)):\n",
    "        temp1=[]\n",
    "        for j in range(len(relB[0])):\n",
    "            temp2=[]\n",
    "            for k in range(len(relA)):\n",
    "                temp2.append(min(relA[i][k], relB[k][j]))\n",
    "            temp1.append(max(temp2))\n",
    "        result.append(temp1)\n",
    "    return result\n",
    "\n",
    "fuzzyRel1 = [[0.6, 0.2], [0.2,0.9]]\n",
    "fuzzyRel2 =[[1, 0.5,0.3], [0.8,0.4,0.7]]\n",
    "maxMinComp(fuzzyRel1, fuzzyRel2)"
   ]
  },
  {
   "cell_type": "code",
   "execution_count": 3,
   "id": "3b771a3d-d411-464f-b666-13f09b67d55d",
   "metadata": {},
   "outputs": [
    {
     "data": {
      "text/plain": [
       "[[0.6, 0.3, 0.18], [0.7200000000000001, 0.36000000000000004, 0.63]]"
      ]
     },
     "execution_count": 3,
     "metadata": {},
     "output_type": "execute_result"
    }
   ],
   "source": [
    "def maxProductComp(relA, relB):\n",
    "    result=[]\n",
    "    for i in range(len(relA)):\n",
    "        temp1=[]\n",
    "        for j in range(len(relB[0])):\n",
    "            temp2=[]\n",
    "            for k in range(len(relA)):\n",
    "                temp2.append(relA[i][k]*relB[k][j])\n",
    "            temp1.append(max(temp2))\n",
    "        result.append(temp1)\n",
    "    return result\n",
    "\n",
    "maxProductComp(fuzzyRel1, fuzzyRel2)"
   ]
  },
  {
   "cell_type": "code",
   "execution_count": 5,
   "id": "7479fb05-69a9-4eaf-8178-21765a02a802",
   "metadata": {},
   "outputs": [],
   "source": [
    "def fuzzyRel(setA, setB):\n",
    "    mat =[]\n",
    "    for a in setA:\n",
    "        temp=[]\n",
    "        for b in setB:\n",
    "            temp.append(((a[0], b[0]), min(a[1], b[1])))\n",
    "        mat.append(temp)\n",
    "    return mat\n"
   ]
  },
  {
   "cell_type": "code",
   "execution_count": 6,
   "id": "9c2b5f5d-1a9d-4474-aee4-4683eeb757aa",
   "metadata": {},
   "outputs": [],
   "source": [
    "\n",
    "fset1 = [(10, 0.1), (20,0.2),(30,0.56), (40, 0.67), (50, 0.98)]\n",
    "fset2 = [(10, 0.5), (20,0.9),(30,0.28), (40, 0.92), (50, 0.16)]"
   ]
  },
  {
   "cell_type": "code",
   "execution_count": 7,
   "id": "f42539f1-cff8-491a-a641-86310ebdacc2",
   "metadata": {},
   "outputs": [
    {
     "data": {
      "text/plain": [
       "[[((10, 10), 0.1),\n",
       "  ((10, 20), 0.1),\n",
       "  ((10, 30), 0.1),\n",
       "  ((10, 40), 0.1),\n",
       "  ((10, 50), 0.1)],\n",
       " [((20, 10), 0.2),\n",
       "  ((20, 20), 0.2),\n",
       "  ((20, 30), 0.2),\n",
       "  ((20, 40), 0.2),\n",
       "  ((20, 50), 0.16)],\n",
       " [((30, 10), 0.5),\n",
       "  ((30, 20), 0.56),\n",
       "  ((30, 30), 0.28),\n",
       "  ((30, 40), 0.56),\n",
       "  ((30, 50), 0.16)],\n",
       " [((40, 10), 0.5),\n",
       "  ((40, 20), 0.67),\n",
       "  ((40, 30), 0.28),\n",
       "  ((40, 40), 0.67),\n",
       "  ((40, 50), 0.16)],\n",
       " [((50, 10), 0.5),\n",
       "  ((50, 20), 0.9),\n",
       "  ((50, 30), 0.28),\n",
       "  ((50, 40), 0.92),\n",
       "  ((50, 50), 0.16)]]"
      ]
     },
     "execution_count": 7,
     "metadata": {},
     "output_type": "execute_result"
    }
   ],
   "source": [
    "fuzzyRel(fset1, fset2)"
   ]
  },
  {
   "cell_type": "code",
   "execution_count": null,
   "id": "3fccf459-2a23-4b2a-bc31-d4d68498760f",
   "metadata": {},
   "outputs": [],
   "source": []
  }
 ],
 "metadata": {
  "kernelspec": {
   "display_name": "Python 3 (ipykernel)",
   "language": "python",
   "name": "python3"
  },
  "language_info": {
   "codemirror_mode": {
    "name": "ipython",
    "version": 3
   },
   "file_extension": ".py",
   "mimetype": "text/x-python",
   "name": "python",
   "nbconvert_exporter": "python",
   "pygments_lexer": "ipython3",
   "version": "3.12.7"
  }
 },
 "nbformat": 4,
 "nbformat_minor": 5
}
